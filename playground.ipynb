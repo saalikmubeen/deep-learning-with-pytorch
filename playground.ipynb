{
 "cells": [
  {
   "cell_type": "code",
   "execution_count": 1,
   "id": "ce3f69ef",
   "metadata": {},
   "outputs": [],
   "source": [
    "def f(x):\n",
    "    return 3 * x**2 - 4*x\n",
    "    \n",
    "def numerical_limit(f, x, h):\n",
    "    return (f(x + h) - f(x)) / h\n"
   ]
  },
  {
   "cell_type": "code",
   "execution_count": 5,
   "id": "e822e04c",
   "metadata": {},
   "outputs": [
    {
     "data": {
      "text/plain": [
       "2.3000000000000043"
      ]
     },
     "execution_count": 5,
     "metadata": {},
     "output_type": "execute_result"
    }
   ],
   "source": [
    "h = 0.1\n",
    "\n",
    "numerical_limit(f, 1, h)"
   ]
  },
  {
   "cell_type": "code",
   "execution_count": null,
   "id": "59078207",
   "metadata": {},
   "outputs": [],
   "source": []
  }
 ],
 "metadata": {
  "kernelspec": {
   "display_name": "Python 3 (ipykernel)",
   "language": "python",
   "name": "python3"
  },
  "language_info": {
   "codemirror_mode": {
    "name": "ipython",
    "version": 3
   },
   "file_extension": ".py",
   "mimetype": "text/x-python",
   "name": "python",
   "nbconvert_exporter": "python",
   "pygments_lexer": "ipython3",
   "version": "3.11.8"
  }
 },
 "nbformat": 4,
 "nbformat_minor": 5
}
