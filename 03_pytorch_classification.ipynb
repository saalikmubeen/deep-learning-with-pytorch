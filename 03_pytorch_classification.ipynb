{
 "cells": [
  {
   "cell_type": "code",
   "execution_count": null,
   "id": "13dcc4f5",
   "metadata": {},
   "outputs": [],
   "source": [
    "import sklearn\n",
    "from sklearn.datasets import make_circles, make_blobs\n",
    "from sklearn.model_selection import train_test_split\n",
    "import pandas as pd\n",
    "import matplotlib.pyplot as plt\n",
    "import torch\n",
    "from torch import nn\n",
    "\n",
    "from utils import plot_decision_boundary"
   ]
  },
  {
   "cell_type": "code",
   "execution_count": 34,
   "id": "ca4ce102",
   "metadata": {},
   "outputs": [],
   "source": [
    "# Make 1000 samples\n",
    "n_samples = 1000\n",
    "\n",
    "# Create circles\n",
    "X, y = make_circles(n_samples,\n",
    "                    noise=0.03,\n",
    "                    random_state=42)"
   ]
  },
  {
   "cell_type": "code",
   "execution_count": 10,
   "id": "3a661312",
   "metadata": {},
   "outputs": [
    {
     "name": "stdout",
     "output_type": "stream",
     "text": [
      "(1000, 2)\n",
      "(1000,)\n"
     ]
    }
   ],
   "source": [
    "print(X.shape) # features\n",
    "print(y.shape) # labels (binary classification, either 0 or 1)"
   ]
  },
  {
   "cell_type": "code",
   "execution_count": 12,
   "id": "5731c082",
   "metadata": {},
   "outputs": [
    {
     "name": "stdout",
     "output_type": "stream",
     "text": [
      "First 5 samples of X:\n",
      " [[ 0.75424625  0.23148074]\n",
      " [-0.75615888  0.15325888]\n",
      " [-0.81539193  0.17328203]\n",
      " [-0.39373073  0.69288277]\n",
      " [ 0.44220765 -0.89672343]]\n",
      "Corresponding labels, y:\n",
      " [1 1 1 1 0]\n"
     ]
    }
   ],
   "source": [
    "print(f\"First 5 samples of X:\\n {X[:5]}\")\n",
    "print(f\"Corresponding labels, y:\\n {y[:5]}\")"
   ]
  },
  {
   "cell_type": "code",
   "execution_count": 17,
   "id": "ced4ad4d",
   "metadata": {},
   "outputs": [
    {
     "data": {
      "text/html": [
       "<div>\n",
       "<style scoped>\n",
       "    .dataframe tbody tr th:only-of-type {\n",
       "        vertical-align: middle;\n",
       "    }\n",
       "\n",
       "    .dataframe tbody tr th {\n",
       "        vertical-align: top;\n",
       "    }\n",
       "\n",
       "    .dataframe thead th {\n",
       "        text-align: right;\n",
       "    }\n",
       "</style>\n",
       "<table border=\"1\" class=\"dataframe\">\n",
       "  <thead>\n",
       "    <tr style=\"text-align: right;\">\n",
       "      <th></th>\n",
       "      <th>X1</th>\n",
       "      <th>X2</th>\n",
       "      <th>label</th>\n",
       "    </tr>\n",
       "  </thead>\n",
       "  <tbody>\n",
       "    <tr>\n",
       "      <th>0</th>\n",
       "      <td>0.754246</td>\n",
       "      <td>0.231481</td>\n",
       "      <td>1</td>\n",
       "    </tr>\n",
       "    <tr>\n",
       "      <th>1</th>\n",
       "      <td>-0.756159</td>\n",
       "      <td>0.153259</td>\n",
       "      <td>1</td>\n",
       "    </tr>\n",
       "    <tr>\n",
       "      <th>2</th>\n",
       "      <td>-0.815392</td>\n",
       "      <td>0.173282</td>\n",
       "      <td>1</td>\n",
       "    </tr>\n",
       "    <tr>\n",
       "      <th>3</th>\n",
       "      <td>-0.393731</td>\n",
       "      <td>0.692883</td>\n",
       "      <td>1</td>\n",
       "    </tr>\n",
       "    <tr>\n",
       "      <th>4</th>\n",
       "      <td>0.442208</td>\n",
       "      <td>-0.896723</td>\n",
       "      <td>0</td>\n",
       "    </tr>\n",
       "    <tr>\n",
       "      <th>...</th>\n",
       "      <td>...</td>\n",
       "      <td>...</td>\n",
       "      <td>...</td>\n",
       "    </tr>\n",
       "    <tr>\n",
       "      <th>995</th>\n",
       "      <td>0.244054</td>\n",
       "      <td>0.944125</td>\n",
       "      <td>0</td>\n",
       "    </tr>\n",
       "    <tr>\n",
       "      <th>996</th>\n",
       "      <td>-0.978655</td>\n",
       "      <td>-0.272373</td>\n",
       "      <td>0</td>\n",
       "    </tr>\n",
       "    <tr>\n",
       "      <th>997</th>\n",
       "      <td>-0.136900</td>\n",
       "      <td>-0.810012</td>\n",
       "      <td>1</td>\n",
       "    </tr>\n",
       "    <tr>\n",
       "      <th>998</th>\n",
       "      <td>0.670362</td>\n",
       "      <td>-0.767502</td>\n",
       "      <td>0</td>\n",
       "    </tr>\n",
       "    <tr>\n",
       "      <th>999</th>\n",
       "      <td>0.281057</td>\n",
       "      <td>0.963824</td>\n",
       "      <td>0</td>\n",
       "    </tr>\n",
       "  </tbody>\n",
       "</table>\n",
       "<p>1000 rows × 3 columns</p>\n",
       "</div>"
      ],
      "text/plain": [
       "           X1        X2  label\n",
       "0    0.754246  0.231481      1\n",
       "1   -0.756159  0.153259      1\n",
       "2   -0.815392  0.173282      1\n",
       "3   -0.393731  0.692883      1\n",
       "4    0.442208 -0.896723      0\n",
       "..        ...       ...    ...\n",
       "995  0.244054  0.944125      0\n",
       "996 -0.978655 -0.272373      0\n",
       "997 -0.136900 -0.810012      1\n",
       "998  0.670362 -0.767502      0\n",
       "999  0.281057  0.963824      0\n",
       "\n",
       "[1000 rows x 3 columns]"
      ]
     },
     "execution_count": 17,
     "metadata": {},
     "output_type": "execute_result"
    }
   ],
   "source": [
    "df = pd.DataFrame({\"X1\": X[:, 0], # all rows and col 1st\n",
    "                   \"X2\": X[:, 1], # all rows and col 2nd\n",
    "                    \"label\": y})\n",
    "df"
   ]
  },
  {
   "cell_type": "code",
   "execution_count": 22,
   "id": "2f4a4427",
   "metadata": {},
   "outputs": [
    {
     "data": {
      "text/plain": [
       "label\n",
       "1    500\n",
       "0    500\n",
       "Name: count, dtype: int64"
      ]
     },
     "execution_count": 22,
     "metadata": {},
     "output_type": "execute_result"
    }
   ],
   "source": [
    "df.label.value_counts()"
   ]
  },
  {
   "cell_type": "code",
   "execution_count": 24,
   "id": "4dba8bc6",
   "metadata": {},
   "outputs": [
    {
     "data": {
      "image/png": "[encoded data removed]",
      "text/plain": [
       "<Figure size 640x480 with 1 Axes>"
      ]
     },
     "metadata": {},
     "output_type": "display_data"
    }
   ],
   "source": [
    "# Visualize, visualize, visualize\n",
    "plt.scatter(x=X[:, 0],\n",
    "            y=X[:, 1],\n",
    "            c=y,\n",
    "            cmap=plt.cm.RdYlBu);"
   ]
  },
  {
   "cell_type": "code",
   "execution_count": 35,
   "id": "445d5fd4",
   "metadata": {},
   "outputs": [],
   "source": [
    "X = torch.from_numpy(X).type(torch.float32)\n",
    "y = torch.from_numpy(y).type(torch.float32)"
   ]
  },
  {
   "cell_type": "code",
   "execution_count": 30,
   "id": "9dcfe8d6",
   "metadata": {},
   "outputs": [
    {
     "data": {
      "text/plain": [
       "(750, 750, '.....', 250, 250)"
      ]
     },
     "execution_count": 30,
     "metadata": {},
     "output_type": "execute_result"
    }
   ],
   "source": [
    "# train_size = int(len(X) * 0.75)\n",
    "\n",
    "# X_train, y_train = X[0:train_size, :], y[0:train_size]\n",
    "# X_test, y_test = X[train_size:, :], y[train_size:]\n"
   ]
  },
  {
   "cell_type": "code",
   "execution_count": null,
   "id": "9d7a353e",
   "metadata": {},
   "outputs": [
    {
     "data": {
      "text/plain": [
       "(800, 800, '.....', 200, 200)"
      ]
     },
     "execution_count": 37,
     "metadata": {},
     "output_type": "execute_result"
    }
   ],
   "source": [
    "X_train, X_test, y_train, y_test = train_test_split(X,\n",
    "                                                    y,\n",
    "                                                    test_size=0.2, # 0.2 = 20% of data will be test & 80% will be train\n",
    "                                                    random_state=42)\n",
    "len(X_train), len(y_train), \".....\", len(X_test), len(y_test)"
   ]
  },
  {
   "cell_type": "code",
   "execution_count": 39,
   "id": "d1617cbb",
   "metadata": {},
   "outputs": [
    {
     "data": {
      "text/plain": [
       "torch.Size([800])"
      ]
     },
     "execution_count": 39,
     "metadata": {},
     "output_type": "execute_result"
    }
   ],
   "source": [
    "y_train.shape\n"
   ]
  },
  {
   "cell_type": "code",
   "execution_count": 47,
   "id": "1e252c0f",
   "metadata": {},
   "outputs": [
    {
     "data": {
      "text/plain": [
       "'cpu'"
      ]
     },
     "execution_count": 47,
     "metadata": {},
     "output_type": "execute_result"
    }
   ],
   "source": [
    "# Make device agnostic code\n",
    "device = \"cuda\" if torch.cuda.is_available() else \"cpu\"\n",
    "device"
   ]
  },
  {
   "cell_type": "code",
   "execution_count": null,
   "id": "bc5f10ba",
   "metadata": {},
   "outputs": [],
   "source": [
    "class CircleModelV0(nn.Module):\n",
    "    def __init__(self):\n",
    "        super().__init__()\n",
    "\n",
    "        self.layer_1 = nn.Linear(in_features=2, out_features=5)\n",
    "        self.layer_2 = nn.Linear(in_features=5, out_features=1)\n",
    "\n",
    "        self.two_linear_layers = nn.Sequential(\n",
    "            nn.Linear(in_features=2, out_features=5),\n",
    "            nn.Linear(in_features=5, out_features=1)\n",
    "        )\n",
    "\n",
    "\n",
    "    def forward(self, x):\n",
    "        l1_out = self.layer_1(x)\n",
    "        return self.layer_2(l1_out)\n",
    "#         return self.two_linear_layers(x)"
   ]
  },
  {
   "cell_type": "code",
   "execution_count": 50,
   "id": "3428193b",
   "metadata": {},
   "outputs": [],
   "source": [
    "model_0 = CircleModelV0().to(device)"
   ]
  },
  {
   "cell_type": "code",
   "execution_count": 46,
   "id": "72a286fd",
   "metadata": {},
   "outputs": [
    {
     "data": {
      "text/plain": [
       "[Parameter containing:\n",
       " tensor([[-0.6374,  0.5458],\n",
       "         [ 0.2799, -0.4072],\n",
       "         [ 0.1871, -0.6607],\n",
       "         [-0.2653, -0.3235],\n",
       "         [ 0.2839, -0.1591]], requires_grad=True),\n",
       " Parameter containing:\n",
       " tensor([ 0.3499, -0.4953, -0.5955,  0.1520,  0.3369], requires_grad=True),\n",
       " Parameter containing:\n",
       " tensor([[-0.3650,  0.2198, -0.1631, -0.3611,  0.0169]], requires_grad=True),\n",
       " Parameter containing:\n",
       " tensor([0.2773], requires_grad=True)]"
      ]
     },
     "execution_count": 46,
     "metadata": {},
     "output_type": "execute_result"
    }
   ],
   "source": [
    "list(model_0.parameters())"
   ]
  },
  {
   "cell_type": "code",
   "execution_count": 49,
   "id": "2dceee4a",
   "metadata": {},
   "outputs": [
    {
     "data": {
      "text/plain": [
       "Sequential(\n",
       "  (0): Linear(in_features=2, out_features=5, bias=True)\n",
       "  (1): Linear(in_features=5, out_features=1, bias=True)\n",
       ")"
      ]
     },
     "execution_count": 49,
     "metadata": {},
     "output_type": "execute_result"
    }
   ],
   "source": [
    "\n",
    "# Let's replicate the model above using nn.Sequential()\n",
    "model_0 = nn.Sequential(\n",
    "    nn.Linear(in_features=2, out_features=5),\n",
    "    nn.Linear(in_features=5, out_features=1)\n",
    ").to(device)\n",
    "\n",
    "model_0"
   ]
  },
  {
   "cell_type": "code",
   "execution_count": 51,
   "id": "6dac540d",
   "metadata": {},
   "outputs": [
    {
     "data": {
      "text/plain": [
       "OrderedDict([('layer_1.weight',\n",
       "              tensor([[ 0.2562, -0.0068],\n",
       "                      [ 0.4707, -0.1855],\n",
       "                      [ 0.5144, -0.0388],\n",
       "                      [ 0.4264, -0.3933],\n",
       "                      [-0.6555,  0.1381]])),\n",
       "             ('layer_1.bias',\n",
       "              tensor([-0.4844,  0.6120,  0.4317,  0.0600, -0.4645])),\n",
       "             ('layer_2.weight',\n",
       "              tensor([[ 0.0453, -0.1902,  0.1996,  0.4278, -0.2078]])),\n",
       "             ('layer_2.bias', tensor([0.1255]))])"
      ]
     },
     "execution_count": 51,
     "metadata": {},
     "output_type": "execute_result"
    }
   ],
   "source": [
    "model_0.state_dict()\n"
   ]
  },
  {
   "cell_type": "code",
   "execution_count": null,
   "id": "9d627ed7",
   "metadata": {
    "scrolled": true
   },
   "outputs": [
    {
     "name": "stdout",
     "output_type": "stream",
     "text": [
      "Length of predictions: 200, Shape: torch.Size([200, 1])\n",
      "Length of test samples: 200, Shape: torch.Size([200, 2])\n",
      "\n",
      "First 10 predictions:\n",
      "tensor([[-0.],\n",
      "        [0.],\n",
      "        [0.],\n",
      "        [-0.],\n",
      "        [0.],\n",
      "        [1.],\n",
      "        [0.],\n",
      "        [1.],\n",
      "        [-0.],\n",
      "        [0.]])\n",
      "\n",
      "First 10 labels:\n",
      "tensor([1., 0., 1., 0., 1., 1., 0., 0., 1., 0.])\n"
     ]
    }
   ],
   "source": [
    "# Make predictions\n",
    "with torch.inference_mode():\n",
    "  untrained_preds = model_0(X_test.to(device))\n",
    "\n",
    "\n",
    "print(f\"Length of predictions: {len(untrained_preds)}, Shape: {untrained_preds.shape}\")\n",
    "print(f\"Length of test samples: {len(X_test)}, Shape: {X_test.shape}\")\n",
    "print(f\"\\nFirst 10 predictions:\\n{torch.round(untrained_preds[:10])}\")\n",
    "print(f\"\\nFirst 10 labels:\\n{y_test[:10]}\")"
   ]
  },
  {
   "cell_type": "code",
   "execution_count": null,
   "id": "ee56a609",
   "metadata": {},
   "outputs": [
    {
     "name": "stdout",
     "output_type": "stream",
     "text": [
      "PREDICTIONS:  tensor([-0., 0., 0., -0., 0., 1., 0., 1., -0., 0.])\n",
      "LABELS:  tensor([1., 0., 1., 0., 1., 1., 0., 0., 1., 0.])\n"
     ]
    },
    {
     "data": {
      "text/plain": [
       "tensor([False,  True, False,  True, False,  True,  True, False, False,  True])"
      ]
     },
     "execution_count": 88,
     "metadata": {},
     "output_type": "execute_result"
    }
   ],
   "source": [
    "predictions = torch.round(untrained_preds[:10]).squeeze()\n",
    "print(\"PREDICTIONS: \", predictions)\n",
    "labels = y_test[:10]\n",
    "print(\"LABELS: \", labels)\n",
    "torch.eq(predictions, labels)"
   ]
  },
  {
   "cell_type": "code",
   "execution_count": 56,
   "id": "d9192105",
   "metadata": {},
   "outputs": [],
   "source": []
  },
  {
   "cell_type": "code",
   "execution_count": 78,
   "id": "7521335a",
   "metadata": {},
   "outputs": [],
   "source": [
    "def accuracy_fn(y_true, y_pred):\n",
    "    correct = torch.eq(y_true, y_pred).sum().item()\n",
    "    acc = correct / len(y_pred) * 100\n",
    "    return acc"
   ]
  },
  {
   "cell_type": "markdown",
   "id": "765ff872",
   "metadata": {},
   "source": [
    "### Going from raw logits -> prediction probabilities -> prediction labels"
   ]
  },
  {
   "cell_type": "code",
   "execution_count": null,
   "id": "0250927d",
   "metadata": {},
   "outputs": [
    {
     "data": {
      "text/plain": [
       "tensor([[-0.0491],\n",
       "        [ 0.0380],\n",
       "        [ 0.0076],\n",
       "        [-0.0664],\n",
       "        [ 0.4600]])"
      ]
     },
     "execution_count": 69,
     "metadata": {},
     "output_type": "execute_result"
    }
   ],
   "source": [
    "# View the first 5 outputs of the forward pass on the test data\n",
    "model_0.eval()\n",
    "with torch.inference_mode():\n",
    "  y_logits = model_0(X_test.to(device))[:5]\n",
    "y_logits"
   ]
  },
  {
   "cell_type": "code",
   "execution_count": 70,
   "id": "0ce4f3e4",
   "metadata": {},
   "outputs": [
    {
     "data": {
      "text/plain": [
       "tensor([[0.4877],\n",
       "        [0.5095],\n",
       "        [0.5019],\n",
       "        [0.4834],\n",
       "        [0.6130]])"
      ]
     },
     "execution_count": 70,
     "metadata": {},
     "output_type": "execute_result"
    }
   ],
   "source": [
    "# Use the sigmoid activation function on our model logits to turn them into prediction probabilities\n",
    "y_pred_probs = torch.sigmoid(y_logits)\n",
    "y_pred_probs"
   ]
  },
  {
   "cell_type": "code",
   "execution_count": null,
   "id": "f43a03fb",
   "metadata": {},
   "outputs": [
    {
     "data": {
      "text/plain": [
       "tensor([[0.],\n",
       "        [1.],\n",
       "        [1.],\n",
       "        [0.],\n",
       "        [1.]])"
      ]
     },
     "execution_count": 71,
     "metadata": {},
     "output_type": "execute_result"
    }
   ],
   "source": [
    "# Find the predicted labels\n",
    "y_preds = torch.round(y_pred_probs)\n",
    "y_preds"
   ]
  },
  {
   "cell_type": "code",
   "execution_count": 73,
   "id": "f0a11ea0",
   "metadata": {},
   "outputs": [
    {
     "data": {
      "text/plain": [
       "tensor([[0.],\n",
       "        [1.],\n",
       "        [1.],\n",
       "        [0.],\n",
       "        [1.]], grad_fn=<RoundBackward0>)"
      ]
     },
     "execution_count": 73,
     "metadata": {},
     "output_type": "execute_result"
    }
   ],
   "source": [
    "# In full (logits -> pred probs -> pred labels)\n",
    "y_pred_labels = torch.round(torch.sigmoid(model_0(X_test.to(device))[:5]))\n",
    "y_pred_labels"
   ]
  },
  {
   "cell_type": "code",
   "execution_count": null,
   "id": "703ad07f",
   "metadata": {},
   "outputs": [],
   "source": [
    "# Setup the loss function\n",
    "\n",
    "# BCELoss = requires inputs to have gone through the sigmoid activation\n",
    "#           function prior to input to BCELoss\n",
    "# loss_fn = nn.BCELoss()\n",
    "\n",
    "loss_fn = nn.BCEWithLogitsLoss() # BCEWithLogitsLoss = sigmoid activation function built-in\n",
    "\n",
    "optimizer = torch.optim.SGD(params=model_0.parameters(),lr=0.1)"
   ]
  },
  {
   "cell_type": "code",
   "execution_count": null,
   "id": "f6c10bed",
   "metadata": {},
   "outputs": [],
   "source": []
  },
  {
   "cell_type": "code",
   "execution_count": null,
   "id": "222178fe",
   "metadata": {},
   "outputs": [
    {
     "name": "stdout",
     "output_type": "stream",
     "text": [
      "Epoch: 0 | Loss: 0.70570, Acc: 52.38% | Test loss: 0.70335, Test acc: 54.00%\n",
      "Epoch: 10 | Loss: 0.69907, Acc: 50.25% | Test loss: 0.69777, Test acc: 53.50%\n",
      "Epoch: 20 | Loss: 0.69667, Acc: 49.75% | Test loss: 0.69576, Test acc: 53.00%\n",
      "Epoch: 30 | Loss: 0.69561, Acc: 50.25% | Test loss: 0.69487, Test acc: 48.50%\n",
      "Epoch: 40 | Loss: 0.69502, Acc: 50.75% | Test loss: 0.69436, Test acc: 45.00%\n",
      "Epoch: 50 | Loss: 0.69462, Acc: 50.00% | Test loss: 0.69403, Test acc: 46.50%\n",
      "Epoch: 60 | Loss: 0.69433, Acc: 50.25% | Test loss: 0.69379, Test acc: 45.50%\n",
      "Epoch: 70 | Loss: 0.69410, Acc: 50.50% | Test loss: 0.69361, Test acc: 46.00%\n",
      "Epoch: 80 | Loss: 0.69392, Acc: 50.75% | Test loss: 0.69347, Test acc: 46.00%\n",
      "Epoch: 90 | Loss: 0.69378, Acc: 50.62% | Test loss: 0.69337, Test acc: 46.00%\n"
     ]
    }
   ],
   "source": [
    "torch.manual_seed(42)\n",
    "torch.cuda.manual_seed(42)\n",
    "\n",
    "# Set the number of epochs\n",
    "epochs = 100\n",
    "\n",
    "# Put data to target device\n",
    "X_train, y_train = X_train.to(device), y_train.to(device)\n",
    "X_test, y_test = X_test.to(device), y_test.to(device)\n",
    "\n",
    "# Build training and evaluation loop\n",
    "for epoch in range(epochs):\n",
    "  ### Training\n",
    "  model_0.train()\n",
    "\n",
    "  # 1. Forward pass\n",
    "  y_logits = model_0(X_train).squeeze() # y_logits -> result of before applying any activation function\n",
    "\n",
    "  # 2. Calculate loss\n",
    "  # loss = loss_fn(torch.sigmoid(y_logits), y_train) # nn.BCELoss expects prediction probabilities as input\n",
    "  loss = loss_fn(y_logits,  y_train) # nn.BCEWithLogitsLoss expects raw logits as input\n",
    "\n",
    "  # Calculate accuracy\n",
    "  y_pred = torch.round(torch.sigmoid(y_logits)) # turn logits -> pred probs -> pred labels\n",
    "  acc = accuracy_fn(y_true=y_train,  y_pred=y_pred)\n",
    "\n",
    "  # 3. Optimizer zero grad\n",
    "  optimizer.zero_grad()\n",
    "\n",
    "  # 4. Loss backward (backpropagation)\n",
    "  loss.backward()\n",
    "\n",
    "  # 5. Optimizer step (gradient descent)\n",
    "  optimizer.step()\n",
    "\n",
    "  ### Testing\n",
    "  model_0.eval()\n",
    "  with torch.inference_mode():\n",
    "    # 1. Forward pass\n",
    "    test_logits = model_0(X_test).squeeze()\n",
    "    test_pred = torch.round(torch.sigmoid(test_logits))\n",
    "\n",
    "    # 2. Calculate test loss/acc\n",
    "    test_loss = loss_fn(test_logits, y_test)\n",
    "    test_acc = accuracy_fn(y_true=y_test, y_pred=test_pred)\n",
    "\n",
    "  # Print out what's happenin'\n",
    "  if epoch % 10 == 0:\n",
    "    print(f\"Epoch: {epoch} | Loss: {loss:.5f}, Acc: {acc:.2f}% | Test loss: {test_loss:.5f}, Test acc: {test_acc:.2f}%\")\n"
   ]
  },
  {
   "cell_type": "markdown",
   "id": "eb1e55e1",
   "metadata": {},
   "source": [
    "## Building model with non-linearity"
   ]
  },
  {
   "cell_type": "code",
   "execution_count": null,
   "id": "27d97387",
   "metadata": {},
   "outputs": [],
   "source": [
    "class CircleModelV1(nn.Module):\n",
    "    def __init__(self):\n",
    "        super().__init__()\n",
    "\n",
    "        self.layer_1 = nn.Linear(in_features=2, out_features=10)\n",
    "        self.layer_2 = nn.Linear(in_features=10, out_features=10)\n",
    "        self.layer_3 = nn.Linear(in_features=10, out_features=1)\n",
    "        self.relu    = nn.ReLU()\n",
    "\n",
    "\n",
    "\n",
    "    def forward(self, x):\n",
    "        z = self.layer_1(x)\n",
    "        a = self.relu(z)\n",
    "        z = self.layer_2(a)\n",
    "        a = self.relu(z)\n",
    "        z = self.layer_3(a)\n",
    "        return z"
   ]
  },
  {
   "cell_type": "code",
   "execution_count": 95,
   "id": "d16865e1",
   "metadata": {},
   "outputs": [],
   "source": [
    "model_1 = CircleModelV1().to(device)"
   ]
  },
  {
   "cell_type": "code",
   "execution_count": 83,
   "id": "79caeff2",
   "metadata": {},
   "outputs": [
    {
     "data": {
      "text/plain": [
       "OrderedDict([('layer_1.weight',\n",
       "              tensor([[-0.3041, -0.0775],\n",
       "                      [-0.5293,  0.6441],\n",
       "                      [-0.5190,  0.3779],\n",
       "                      [ 0.2485,  0.2298],\n",
       "                      [-0.3823,  0.6427],\n",
       "                      [ 0.1554,  0.0910],\n",
       "                      [-0.6231,  0.2968],\n",
       "                      [-0.1061, -0.3239],\n",
       "                      [ 0.6074,  0.1576],\n",
       "                      [-0.3912, -0.3579]])),\n",
       "             ('layer_1.bias',\n",
       "              tensor([-0.0338,  0.3948, -0.1807, -0.4035, -0.2421, -0.5283,  0.2522,  0.5473,\n",
       "                      -0.6657,  0.1642])),\n",
       "             ('layer_2.weight',\n",
       "              tensor([[ 0.1634,  0.0573, -0.1126,  0.1651,  0.1662,  0.1182, -0.0556, -0.0837,\n",
       "                        0.0338, -0.0559],\n",
       "                      [-0.0942,  0.2021,  0.2718, -0.0313, -0.0708,  0.0046, -0.0189,  0.0760,\n",
       "                        0.0886, -0.2872],\n",
       "                      [-0.1167,  0.2663,  0.1232, -0.0157, -0.1907, -0.1935, -0.2833, -0.1031,\n",
       "                        0.1068,  0.2016],\n",
       "                      [ 0.1460, -0.2795, -0.1902, -0.0499,  0.3059,  0.0457, -0.0819,  0.1308,\n",
       "                       -0.1204, -0.2047],\n",
       "                      [ 0.2308, -0.1438, -0.0634, -0.3146,  0.2116,  0.2396,  0.1152, -0.2205,\n",
       "                       -0.3121, -0.2568],\n",
       "                      [ 0.2358,  0.1518,  0.2661,  0.1657,  0.0800, -0.0031, -0.2405, -0.2709,\n",
       "                       -0.2958,  0.1295],\n",
       "                      [-0.1553, -0.0636, -0.1820, -0.0576, -0.2226, -0.2066,  0.1049, -0.0940,\n",
       "                        0.1952, -0.1014],\n",
       "                      [-0.2320, -0.0558, -0.1533, -0.0967, -0.3010,  0.1769, -0.2202,  0.1589,\n",
       "                        0.1435,  0.2259],\n",
       "                      [-0.2426,  0.2274, -0.1495,  0.1173,  0.2970, -0.0446, -0.0024, -0.0728,\n",
       "                       -0.2640,  0.1518],\n",
       "                      [-0.3139,  0.1963,  0.2366,  0.2991, -0.0746, -0.2598,  0.0711,  0.1747,\n",
       "                       -0.3147, -0.0718]])),\n",
       "             ('layer_2.bias',\n",
       "              tensor([-0.1896, -0.0277, -0.1557, -0.1293, -0.1004, -0.3005,  0.2595,  0.2651,\n",
       "                      -0.0496, -0.0360])),\n",
       "             ('layer_3.weight',\n",
       "              tensor([[-0.1291, -0.2856, -0.3077,  0.1175, -0.1736, -0.2033, -0.0247, -0.1053,\n",
       "                       -0.1023,  0.0102]])),\n",
       "             ('layer_3.bias', tensor([-0.0671]))])"
      ]
     },
     "execution_count": 83,
     "metadata": {},
     "output_type": "execute_result"
    }
   ],
   "source": [
    "model_1.state_dict()"
   ]
  },
  {
   "cell_type": "code",
   "execution_count": 100,
   "id": "0e1460d4",
   "metadata": {},
   "outputs": [],
   "source": [
    "loss_fn = nn.BCEWithLogitsLoss()\n",
    "\n",
    "optimizer = torch.optim.SGD(model_1.parameters(), lr=0.1)"
   ]
  },
  {
   "cell_type": "code",
   "execution_count": null,
   "id": "2568cb55",
   "metadata": {},
   "outputs": [
    {
     "name": "stdout",
     "output_type": "stream",
     "text": [
      "Epoch: 0 | Loss: 0.00594, Acc: 100.00% | Test loss: 0.01568, Test acc: 100.00%\n",
      "Epoch: 100 | Loss: 0.00578, Acc: 100.00% | Test loss: 0.01539, Test acc: 100.00%\n",
      "Epoch: 200 | Loss: 0.00563, Acc: 100.00% | Test loss: 0.01512, Test acc: 100.00%\n",
      "Epoch: 300 | Loss: 0.00549, Acc: 100.00% | Test loss: 0.01486, Test acc: 100.00%\n",
      "Epoch: 400 | Loss: 0.00535, Acc: 100.00% | Test loss: 0.01461, Test acc: 100.00%\n",
      "Epoch: 500 | Loss: 0.00523, Acc: 100.00% | Test loss: 0.01437, Test acc: 100.00%\n",
      "Epoch: 600 | Loss: 0.00511, Acc: 100.00% | Test loss: 0.01414, Test acc: 100.00%\n",
      "Epoch: 700 | Loss: 0.00499, Acc: 100.00% | Test loss: 0.01392, Test acc: 100.00%\n",
      "Epoch: 800 | Loss: 0.00488, Acc: 100.00% | Test loss: 0.01372, Test acc: 100.00%\n",
      "Epoch: 900 | Loss: 0.00478, Acc: 100.00% | Test loss: 0.01352, Test acc: 100.00%\n"
     ]
    }
   ],
   "source": [
    "# Set the number of epochs\n",
    "epochs = 1000\n",
    "\n",
    "# Put data to target device\n",
    "X_train, y_train = X_train.to(device), y_train.to(device)\n",
    "X_test, y_test = X_test.to(device), y_test.to(device)\n",
    "\n",
    "\n",
    "for epoch in range(epochs):\n",
    "\n",
    "    # Training\n",
    "    model_1.train()\n",
    "\n",
    "    # Forward Pass\n",
    "    y_logits = model_1.forward(X_train).squeeze()\n",
    "\n",
    "    # Loss\n",
    "    loss = loss_fn(y_logits, y_train)\n",
    "\n",
    "    y_pred = torch.round(torch.sigmoid(y_logits))\n",
    "\n",
    "     # Accuracy\n",
    "    acc = accuracy_fn(y_true=y_train, y_pred=y_pred)\n",
    "\n",
    "    # Reset gradients\n",
    "    optimizer.zero_grad()\n",
    "\n",
    "    # Backpropagation\n",
    "    loss.backward()\n",
    "\n",
    "    # Gradient Descent\n",
    "    optimizer.step()\n",
    "\n",
    "    # Testing\n",
    "    model_1.eval()\n",
    "\n",
    "    with torch.inference_mode():\n",
    "        test_logits = model_1.forward(X_test).squeeze()\n",
    "\n",
    "        # Test loss\n",
    "        test_loss = loss_fn(test_logits, y_test)\n",
    "\n",
    "        test_preds = torch.round(torch.sigmoid(test_logits))\n",
    "\n",
    "        # Accuracy\n",
    "        test_acc = accuracy_fn(y_true=y_test, y_pred=test_preds)\n",
    "\n",
    "        # Print out what's happenin'\n",
    "        if epoch % 100 == 0:\n",
    "            print(f\"Epoch: {epoch} | Loss: {loss:.5f}, Acc: {acc:.2f}% | Test loss: {test_loss:.5f}, Test acc: {test_acc:.2f}%\")\n"
   ]
  },
  {
   "cell_type": "code",
   "execution_count": 102,
   "id": "65e21ce8",
   "metadata": {},
   "outputs": [
    {
     "data": {
      "text/plain": [
       "(tensor([1., 0., 1., 0., 1., 1., 0., 0., 1., 0.]),\n",
       " tensor([1., 0., 1., 0., 1., 1., 0., 0., 1., 0.]))"
      ]
     },
     "execution_count": 102,
     "metadata": {},
     "output_type": "execute_result"
    }
   ],
   "source": [
    "# Makes predictions\n",
    "model_1.eval()\n",
    "with torch.inference_mode():\n",
    "  y_preds = torch.round(torch.sigmoid(model_1(X_test))).squeeze()\n",
    "y_preds[:10], y_test[:10]"
   ]
  },
  {
   "cell_type": "markdown",
   "id": "b5c8def1",
   "metadata": {},
   "source": [
    "# Multiclass classification"
   ]
  },
  {
   "cell_type": "code",
   "execution_count": 125,
   "id": "9f450df4",
   "metadata": {},
   "outputs": [
    {
     "name": "stdout",
     "output_type": "stream",
     "text": [
      "torch.Size([1000, 3])\n",
      "torch.Size([1000])\n"
     ]
    }
   ],
   "source": [
    "# Set the hyperparameters for data creation\n",
    "NUM_CLASSES = 4\n",
    "NUM_FEATURES = 3\n",
    "RANDOM_SEED = 42\n",
    "\n",
    "# Make 1000 samples\n",
    "n_samples = 1000\n",
    "\n",
    "# 1. Create multi-class data\n",
    "X_blob, y_blob = make_blobs(n_samples=n_samples,\n",
    "                            n_features=NUM_FEATURES,\n",
    "                            centers=NUM_CLASSES,\n",
    "                            cluster_std=1.2, # give the clusters a little shake up\n",
    "                            random_state=RANDOM_SEED)\n",
    "\n",
    "\n",
    "# 2. Turn data into tensors\n",
    "X_blob = torch.from_numpy(X_blob).type(torch.float32)\n",
    "y_blob = torch.from_numpy(y_blob).type(torch.LongTensor)\n",
    "\n",
    "\n",
    "print(X_blob.shape) # features\n",
    "print(y_blob.shape) # labels (multiclass classification, 4 classes)"
   ]
  },
  {
   "cell_type": "code",
   "execution_count": 126,
   "id": "097fb192",
   "metadata": {
    "scrolled": true
   },
   "outputs": [
    {
     "data": {
      "image/png": "[encoded data removed]",
      "text/plain": [
       "<Figure size 1000x700 with 1 Axes>"
      ]
     },
     "metadata": {},
     "output_type": "display_data"
    }
   ],
   "source": [
    "# 3. Split into train and test\n",
    "X_blob_train, X_blob_test, y_blob_train, y_blob_test = train_test_split(X_blob,\n",
    "                                                        y_blob,\n",
    "                                                        test_size=0.2, # 20% of data will be test & 80% will be train\n",
    "                                                        random_state=RANDOM_SEED)\n",
    "\n",
    "# 4. Plot data (visualize, visualize, visualize)\n",
    "plt.figure(figsize=(10, 7))\n",
    "plt.scatter(X_blob[:, 0], X_blob[:, 1], c=y_blob, cmap=plt.cm.RdYlBu);\n",
    "\n",
    "\n"
   ]
  },
  {
   "cell_type": "code",
   "execution_count": 119,
   "id": "488c0232",
   "metadata": {},
   "outputs": [
    {
     "data": {
      "text/html": [
       "<div>\n",
       "<style scoped>\n",
       "    .dataframe tbody tr th:only-of-type {\n",
       "        vertical-align: middle;\n",
       "    }\n",
       "\n",
       "    .dataframe tbody tr th {\n",
       "        vertical-align: top;\n",
       "    }\n",
       "\n",
       "    .dataframe thead th {\n",
       "        text-align: right;\n",
       "    }\n",
       "</style>\n",
       "<table border=\"1\" class=\"dataframe\">\n",
       "  <thead>\n",
       "    <tr style=\"text-align: right;\">\n",
       "      <th></th>\n",
       "      <th>X1</th>\n",
       "      <th>X2</th>\n",
       "      <th>X3</th>\n",
       "      <th>label</th>\n",
       "    </tr>\n",
       "  </thead>\n",
       "  <tbody>\n",
       "    <tr>\n",
       "      <th>0</th>\n",
       "      <td>-8.714668</td>\n",
       "      <td>5.137196</td>\n",
       "      <td>1.558487</td>\n",
       "      <td>2</td>\n",
       "    </tr>\n",
       "    <tr>\n",
       "      <th>1</th>\n",
       "      <td>3.006458</td>\n",
       "      <td>-11.532485</td>\n",
       "      <td>8.714016</td>\n",
       "      <td>3</td>\n",
       "    </tr>\n",
       "    <tr>\n",
       "      <th>2</th>\n",
       "      <td>1.858093</td>\n",
       "      <td>-8.453127</td>\n",
       "      <td>10.316900</td>\n",
       "      <td>3</td>\n",
       "    </tr>\n",
       "    <tr>\n",
       "      <th>3</th>\n",
       "      <td>-5.219405</td>\n",
       "      <td>8.500429</td>\n",
       "      <td>1.993410</td>\n",
       "      <td>2</td>\n",
       "    </tr>\n",
       "    <tr>\n",
       "      <th>4</th>\n",
       "      <td>4.526492</td>\n",
       "      <td>-6.518497</td>\n",
       "      <td>-2.977585</td>\n",
       "      <td>1</td>\n",
       "    </tr>\n",
       "    <tr>\n",
       "      <th>...</th>\n",
       "      <td>...</td>\n",
       "      <td>...</td>\n",
       "      <td>...</td>\n",
       "      <td>...</td>\n",
       "    </tr>\n",
       "    <tr>\n",
       "      <th>995</th>\n",
       "      <td>-2.746209</td>\n",
       "      <td>8.373964</td>\n",
       "      <td>3.121722</td>\n",
       "      <td>0</td>\n",
       "    </tr>\n",
       "    <tr>\n",
       "      <th>996</th>\n",
       "      <td>3.949261</td>\n",
       "      <td>-6.583228</td>\n",
       "      <td>-3.767218</td>\n",
       "      <td>1</td>\n",
       "    </tr>\n",
       "    <tr>\n",
       "      <th>997</th>\n",
       "      <td>0.191772</td>\n",
       "      <td>-6.414896</td>\n",
       "      <td>-5.929444</td>\n",
       "      <td>1</td>\n",
       "    </tr>\n",
       "    <tr>\n",
       "      <th>998</th>\n",
       "      <td>3.408223</td>\n",
       "      <td>-8.058611</td>\n",
       "      <td>-8.876959</td>\n",
       "      <td>1</td>\n",
       "    </tr>\n",
       "    <tr>\n",
       "      <th>999</th>\n",
       "      <td>-9.059999</td>\n",
       "      <td>6.643651</td>\n",
       "      <td>4.201002</td>\n",
       "      <td>2</td>\n",
       "    </tr>\n",
       "  </tbody>\n",
       "</table>\n",
       "<p>1000 rows × 4 columns</p>\n",
       "</div>"
      ],
      "text/plain": [
       "           X1         X2         X3  label\n",
       "0   -8.714668   5.137196   1.558487      2\n",
       "1    3.006458 -11.532485   8.714016      3\n",
       "2    1.858093  -8.453127  10.316900      3\n",
       "3   -5.219405   8.500429   1.993410      2\n",
       "4    4.526492  -6.518497  -2.977585      1\n",
       "..        ...        ...        ...    ...\n",
       "995 -2.746209   8.373964   3.121722      0\n",
       "996  3.949261  -6.583228  -3.767218      1\n",
       "997  0.191772  -6.414896  -5.929444      1\n",
       "998  3.408223  -8.058611  -8.876959      1\n",
       "999 -9.059999   6.643651   4.201002      2\n",
       "\n",
       "[1000 rows x 4 columns]"
      ]
     },
     "execution_count": 119,
     "metadata": {},
     "output_type": "execute_result"
    }
   ],
   "source": [
    "df = pd.DataFrame({\"X1\": X_blob[:, 0], # all rows and col 1st\n",
    "                   \"X2\": X_blob[:, 1], # all rows and col 2nd\n",
    "                   \"X3\": X_blob[:, 2], # all rows and col 3nd\n",
    "                   \"label\": y_blob})\n",
    "df"
   ]
  },
  {
   "cell_type": "code",
   "execution_count": 120,
   "id": "d47f813f",
   "metadata": {},
   "outputs": [
    {
     "data": {
      "text/plain": [
       "label\n",
       "2    250\n",
       "3    250\n",
       "1    250\n",
       "0    250\n",
       "Name: count, dtype: int64"
      ]
     },
     "execution_count": 120,
     "metadata": {},
     "output_type": "execute_result"
    }
   ],
   "source": [
    "df.label.value_counts()"
   ]
  },
  {
   "cell_type": "code",
   "execution_count": 117,
   "id": "9da75606",
   "metadata": {},
   "outputs": [
    {
     "data": {
      "text/plain": [
       "'cpu'"
      ]
     },
     "execution_count": 117,
     "metadata": {},
     "output_type": "execute_result"
    }
   ],
   "source": [
    "# Create device agnostic code\n",
    "device = \"cuda\" if torch.cuda.is_available() else \"cpu\"\n",
    "device"
   ]
  },
  {
   "cell_type": "code",
   "execution_count": null,
   "id": "89f11f2a",
   "metadata": {},
   "outputs": [],
   "source": [
    "class BlobModel(nn.Module):\n",
    "    def __init__(self, input_features, output_features, hidden_units=8):\n",
    "        super().__init__()\n",
    "\n",
    "        self.linear_layer_stack = nn.Sequential(\n",
    "            nn.Linear(in_features=input_features, out_features=hidden_units),\n",
    "            nn.ReLU(),\n",
    "            nn.Linear(in_features=hidden_units, out_features=hidden_units),\n",
    "            nn.ReLU(),\n",
    "            nn.Linear(in_features=hidden_units, out_features=output_features)\n",
    "        )\n",
    "\n",
    "\n",
    "\n",
    "    def forward(self, x):\n",
    "        return self.linear_layer_stack(x)"
   ]
  },
  {
   "cell_type": "code",
   "execution_count": null,
   "id": "adbf6d50",
   "metadata": {},
   "outputs": [],
   "source": [
    "model_blob = BlobModel(\n",
    "              input_features=3,\n",
    "              output_features=4,\n",
    "              hidden_units=8).to(device)"
   ]
  },
  {
   "cell_type": "code",
   "execution_count": null,
   "id": "65c9b262",
   "metadata": {},
   "outputs": [],
   "source": []
  },
  {
   "cell_type": "code",
   "execution_count": null,
   "id": "808fd604",
   "metadata": {},
   "outputs": [
    {
     "name": "stdout",
     "output_type": "stream",
     "text": [
      "torch.Size([800, 4])\n",
      "torch.Size([800])\n",
      "tensor([[0.1068, 0.1070, 0.2118, 0.5745],\n",
      "        [0.2061, 0.2024, 0.3050, 0.2865],\n",
      "        [0.2104, 0.1813, 0.3078, 0.3006],\n",
      "        ...,\n",
      "        [0.2155, 0.1751, 0.3049, 0.3046],\n",
      "        [0.2044, 0.2054, 0.3037, 0.2865],\n",
      "        [0.1423, 0.1199, 0.2476, 0.4902]], grad_fn=<SoftmaxBackward0>)\n",
      "tensor([[1.],\n",
      "        [1.],\n",
      "        [1.],\n",
      "        [1.],\n",
      "        [1.],\n",
      "        [1.],\n",
      "        [1.],\n",
      "        [1.],\n",
      "        [1.],\n",
      "        [1.]], grad_fn=<SliceBackward0>)\n",
      "tensor([[3],\n",
      "        [2],\n",
      "        [2],\n",
      "        [3],\n",
      "        [2],\n",
      "        [2],\n",
      "        [2],\n",
      "        [2],\n",
      "        [2],\n",
      "        [3]])\n",
      "Predctions:\n",
      "tensor([3, 2, 2, 3, 2, 2, 2, 2, 2, 3])\n",
      "Targets:\n",
      "tensor([0, 1, 3, 3, 1, 1, 1, 3, 3, 2])\n"
     ]
    }
   ],
   "source": [
    "# Put data to target device\n",
    "X_blob_train, y_blob_train = X_blob_train.to(device), y_blob_train.to(device)\n",
    "X_blob_test, y_blob_test = X_blob_test.to(device), y_blob_test.to(device)\n",
    "\n",
    "\n",
    "\n",
    "y_pred_logits = model_blob(X_blob_train)\n",
    "print(y_pred_logits.shape)\n",
    "print(y_blob_train.shape)\n",
    "\n",
    "# Convert model's logit outputs to prediction probabilities\n",
    "y_pred_probs = torch.softmax(y_pred_logits, dim=1)\n",
    "print(y_pred_probs)\n",
    "\n",
    "print(y_pred_probs.sum(dim=1, keepdims=True)[0:10])\n",
    "\n",
    "# Find the index where probability is max\n",
    "print(torch.argmax(y_pred_probs, dim=1, keepdims=True)[0:10])\n",
    "\n",
    "# Convert our model's prediction probabilities to prediction labels\n",
    "y_pred_labels = torch.argmax(y_pred_probs, dim=1)\n",
    "\n",
    "print(\"Predctions:\")\n",
    "print(y_pred_labels[0:10])\n",
    "\n",
    "print(\"Targets:\")\n",
    "print(y_blob_train[0:10])\n"
   ]
  },
  {
   "cell_type": "code",
   "execution_count": 162,
   "id": "08bfe816",
   "metadata": {},
   "outputs": [],
   "source": [
    "loss_fn = nn.CrossEntropyLoss()\n",
    "\n",
    "optimizer = torch.optim.SGD(model_blob.parameters(), lr=0.1)"
   ]
  },
  {
   "cell_type": "code",
   "execution_count": null,
   "id": "48863edb",
   "metadata": {},
   "outputs": [
    {
     "name": "stdout",
     "output_type": "stream",
     "text": [
      "Epoch: 0 | Loss: 1.57793, Acc: 2.12% | Test loss: 1.34903, Test acc: 20.50%\n",
      "Epoch: 100 | Loss: 0.01143, Acc: 100.00% | Test loss: 0.00873, Test acc: 100.00%\n",
      "Epoch: 200 | Loss: 0.00545, Acc: 100.00% | Test loss: 0.00332, Test acc: 100.00%\n",
      "Epoch: 300 | Loss: 0.00375, Acc: 100.00% | Test loss: 0.00193, Test acc: 100.00%\n",
      "Epoch: 400 | Loss: 0.00294, Acc: 100.00% | Test loss: 0.00132, Test acc: 100.00%\n",
      "Epoch: 500 | Loss: 0.00246, Acc: 100.00% | Test loss: 0.00098, Test acc: 100.00%\n",
      "Epoch: 600 | Loss: 0.00214, Acc: 100.00% | Test loss: 0.00077, Test acc: 100.00%\n",
      "Epoch: 700 | Loss: 0.00191, Acc: 100.00% | Test loss: 0.00062, Test acc: 100.00%\n",
      "Epoch: 800 | Loss: 0.00174, Acc: 100.00% | Test loss: 0.00052, Test acc: 100.00%\n",
      "Epoch: 900 | Loss: 0.00160, Acc: 100.00% | Test loss: 0.00044, Test acc: 100.00%\n"
     ]
    }
   ],
   "source": [
    "torch.manual_seed(42)\n",
    "torch.cuda.manual_seed(42)\n",
    "\n",
    "# Set the number of epochs\n",
    "epochs = 1000\n",
    "\n",
    "for epoch in range(epochs):\n",
    "\n",
    "    # Training\n",
    "    model_blob.train()\n",
    "\n",
    "    # Forward Pass\n",
    "    y_pred_logits = model_blob(X_blob_train)\n",
    "\n",
    "    # Loss\n",
    "    loss = loss_fn(y_pred_logits, y_blob_train)\n",
    "\n",
    "    y_pred_probs = torch.softmax(y_pred_logits, dim=1)\n",
    "    y_pred_labels = torch.argmax(y_pred_probs, dim=1)\n",
    "\n",
    "    # Accuracy\n",
    "    acc = accuracy_fn(y_true=y_blob_train, y_pred=y_pred_labels)\n",
    "\n",
    "    # Zero grad\n",
    "    optimizer.zero_grad()\n",
    "\n",
    "    # Backpropagation\n",
    "    loss.backward()\n",
    "\n",
    "    # Gradient Descent\n",
    "    optimizer.step()\n",
    "\n",
    "\n",
    "    # Testing\n",
    "    model_blob.eval()\n",
    "\n",
    "    with torch.inference_mode():\n",
    "        y_test_logits = model_blob(X_blob_test)\n",
    "\n",
    "        # Test Loss\n",
    "        test_loss = loss_fn(y_test_logits, y_blob_test)\n",
    "\n",
    "        y_test_probs = torch.softmax(y_test_logits, dim=1)\n",
    "        y_test_labels = torch.argmax(y_test_probs, dim=1)\n",
    "\n",
    "        # Test Accuracy\n",
    "        test_acc = accuracy_fn(y_true=y_blob_test, y_pred=y_test_labels)\n",
    "\n",
    "        # Print out what's happenin'\n",
    "        if epoch % 100 == 0:\n",
    "            print(f\"Epoch: {epoch} | Loss: {loss:.5f}, Acc: {acc:.2f}% | Test loss: {test_loss:.5f}, Test acc: {test_acc:.2f}%\")\n"
   ]
  },
  {
   "cell_type": "code",
   "execution_count": 165,
   "id": "8979c80c",
   "metadata": {},
   "outputs": [
    {
     "data": {
      "text/plain": [
       "tensor([[ 1.8961e+00,  4.9454e-03, -1.1833e+01,  1.2438e+01],\n",
       "        [-7.2073e+00,  6.6273e+00, -1.8325e+00, -4.8661e+00],\n",
       "        [-7.6924e+00,  7.6358e+00, -3.2862e+00, -3.0976e+00],\n",
       "        [ 1.3454e+00,  1.6671e-01, -1.0213e+01,  1.1070e+01],\n",
       "        [-6.6906e+00, -3.7937e+00,  5.9466e+00, -1.0884e+01],\n",
       "        [ 2.0461e+00, -8.0745e-02, -1.1528e+01,  1.1936e+01],\n",
       "        [-5.3140e+00,  5.0967e+00, -1.6857e+00, -3.1497e+00],\n",
       "        [-6.6670e+00,  6.3510e+00, -1.9495e+00, -4.2126e+00],\n",
       "        [-9.2594e+00,  8.3323e+00, -1.8313e+00, -7.0530e+00],\n",
       "        [ 1.6915e+00, -6.9368e-02, -1.0001e+01,  1.0316e+01]])"
      ]
     },
     "execution_count": 165,
     "metadata": {},
     "output_type": "execute_result"
    }
   ],
   "source": [
    "\n",
    "# Make predictions\n",
    "model_blob.eval()\n",
    "with torch.inference_mode():\n",
    "  y_logits = model_blob(X_blob_test)\n",
    "\n",
    "# View the first 10 predictions\n",
    "y_logits[:10]"
   ]
  },
  {
   "cell_type": "code",
   "execution_count": 166,
   "id": "0676f485",
   "metadata": {},
   "outputs": [
    {
     "data": {
      "text/plain": [
       "tensor([[2.6409e-05, 3.9852e-06, 2.8799e-11, 9.9997e-01],\n",
       "        [9.8092e-07, 9.9978e-01, 2.1178e-04, 1.0195e-05],\n",
       "        [2.2032e-07, 9.9996e-01, 1.8056e-05, 2.1803e-05],\n",
       "        [5.9771e-05, 1.8391e-05, 5.7115e-10, 9.9992e-01],\n",
       "        [3.2486e-06, 5.8854e-05, 9.9994e-01, 4.9014e-08],\n",
       "        [5.0682e-05, 6.0416e-06, 6.4546e-11, 9.9994e-01],\n",
       "        [3.0064e-05, 9.9858e-01, 1.1319e-03, 2.6182e-04],\n",
       "        [2.2194e-06, 9.9972e-01, 2.4833e-04, 2.5834e-05],\n",
       "        [2.2909e-08, 9.9996e-01, 3.8546e-05, 2.0809e-07],\n",
       "        [1.7953e-04, 3.0861e-05, 1.5000e-09, 9.9979e-01]])"
      ]
     },
     "execution_count": 166,
     "metadata": {},
     "output_type": "execute_result"
    }
   ],
   "source": [
    "# Go from logits -> Prediction probabilities\n",
    "y_pred_probs = torch.softmax(y_logits, dim=1)\n",
    "y_pred_probs[:10]"
   ]
  },
  {
   "cell_type": "code",
   "execution_count": 170,
   "id": "4a7d6d44",
   "metadata": {},
   "outputs": [
    {
     "name": "stdout",
     "output_type": "stream",
     "text": [
      "Predictions: tensor([3, 1, 1, 3, 2, 3, 1, 1, 1, 3])\n",
      "Targets: tensor([3, 1, 1, 3, 2, 3, 1, 1, 1, 3])\n",
      "tensor([True, True, True, True, True, True, True, True, True, True])\n"
     ]
    }
   ],
   "source": [
    "# Go from pred probs to pred labels\n",
    "y_preds = torch.argmax(y_pred_probs, dim=1)\n",
    "print(\"Predictions:\",  y_preds[:10])\n",
    "print(\"Targets:\", y_blob_test[0:10])\n",
    "\n",
    "print(y_preds[:10] == y_blob_test[0:10])"
   ]
  },
  {
   "cell_type": "code",
   "execution_count": 182,
   "id": "73f92726",
   "metadata": {},
   "outputs": [],
   "source": [
    "# plt.figure(figsize=(12, 6))\n",
    "# plt.subplot(1, 2, 1)\n",
    "# plt.title(\"Train\")\n",
    "# plot_decision_boundary(model=model_blob, X=X_blob_train, y=y_blob_train)\n",
    "# plt.subplot(1, 2, 2)\n",
    "# plt.title(\"Test\")\n",
    "# plot_decision_boundary(model=model_blob, X=X_blob_test, y=y_blob_test)"
   ]
  },
  {
   "cell_type": "code",
   "execution_count": 175,
   "id": "d14eb02c",
   "metadata": {},
   "outputs": [
    {
     "name": "stdout",
     "output_type": "stream",
     "text": [
      "Collecting torchmetrics\n",
      "  Downloading torchmetrics-1.3.2-py3-none-any.whl.metadata (19 kB)\n",
      "Requirement already satisfied: numpy>1.20.0 in /Users/saalikmubeen/Dev/Machine Learning/personal-learning/venv/lib/python3.11/site-packages (from torchmetrics) (1.26.3)\n",
      "Requirement already satisfied: packaging>17.1 in /Users/saalikmubeen/Dev/Machine Learning/personal-learning/venv/lib/python3.11/site-packages (from torchmetrics) (23.2)\n",
      "Requirement already satisfied: torch>=1.10.0 in /Users/saalikmubeen/Dev/Machine Learning/personal-learning/venv/lib/python3.11/site-packages (from torchmetrics) (2.1.2)\n",
      "Collecting lightning-utilities>=0.8.0 (from torchmetrics)\n",
      "  Downloading lightning_utilities-0.11.0-py3-none-any.whl.metadata (4.7 kB)\n",
      "Requirement already satisfied: setuptools in /Users/saalikmubeen/Dev/Machine Learning/personal-learning/venv/lib/python3.11/site-packages (from lightning-utilities>=0.8.0->torchmetrics) (68.1.2)\n",
      "Requirement already satisfied: typing-extensions in /Users/saalikmubeen/Dev/Machine Learning/personal-learning/venv/lib/python3.11/site-packages (from lightning-utilities>=0.8.0->torchmetrics) (4.10.0)\n",
      "Requirement already satisfied: filelock in /Users/saalikmubeen/Dev/Machine Learning/personal-learning/venv/lib/python3.11/site-packages (from torch>=1.10.0->torchmetrics) (3.13.1)\n",
      "Requirement already satisfied: sympy in /Users/saalikmubeen/Dev/Machine Learning/personal-learning/venv/lib/python3.11/site-packages (from torch>=1.10.0->torchmetrics) (1.12)\n",
      "Requirement already satisfied: networkx in /Users/saalikmubeen/Dev/Machine Learning/personal-learning/venv/lib/python3.11/site-packages (from torch>=1.10.0->torchmetrics) (3.2.1)\n",
      "Requirement already satisfied: jinja2 in /Users/saalikmubeen/Dev/Machine Learning/personal-learning/venv/lib/python3.11/site-packages (from torch>=1.10.0->torchmetrics) (3.1.3)\n",
      "Requirement already satisfied: fsspec in /Users/saalikmubeen/Dev/Machine Learning/personal-learning/venv/lib/python3.11/site-packages (from torch>=1.10.0->torchmetrics) (2023.12.2)\n",
      "Requirement already satisfied: MarkupSafe>=2.0 in /Users/saalikmubeen/Dev/Machine Learning/personal-learning/venv/lib/python3.11/site-packages (from jinja2->torch>=1.10.0->torchmetrics) (2.1.3)\n",
      "Requirement already satisfied: mpmath>=0.19 in /Users/saalikmubeen/Dev/Machine Learning/personal-learning/venv/lib/python3.11/site-packages (from sympy->torch>=1.10.0->torchmetrics) (1.3.0)\n",
      "Downloading torchmetrics-1.3.2-py3-none-any.whl (841 kB)\n",
      "\u001b[2K   \u001b[38;2;114;156;31m━━━━━━━━━━━━━━━━━━━━━━━━━━━━━━━━━━━━━━━━\u001b[0m \u001b[32m841.5/841.5 kB\u001b[0m \u001b[31m3.8 MB/s\u001b[0m eta \u001b[36m0:00:00\u001b[0mm eta \u001b[36m0:00:01\u001b[0m[36m0:00:01\u001b[0m\n",
      "\u001b[?25hDownloading lightning_utilities-0.11.0-py3-none-any.whl (25 kB)\n",
      "Installing collected packages: lightning-utilities, torchmetrics\n",
      "Successfully installed lightning-utilities-0.11.0 torchmetrics-1.3.2\n"
     ]
    }
   ],
   "source": [
    "!pip install torchmetrics"
   ]
  },
  {
   "cell_type": "code",
   "execution_count": 180,
   "id": "93e58374",
   "metadata": {},
   "outputs": [
    {
     "data": {
      "text/plain": [
       "tensor(1.)"
      ]
     },
     "execution_count": 180,
     "metadata": {},
     "output_type": "execute_result"
    }
   ],
   "source": [
    "from torchmetrics import Accuracy\n",
    "\n",
    "# Setup metric\n",
    "torchmetric_accuracy = Accuracy(task=\"multiclass\", num_classes=4).to(device)\n",
    "\n",
    "# Calculuate accuracy\n",
    "torchmetric_accuracy(y_preds, y_blob_test)"
   ]
  },
  {
   "cell_type": "code",
   "execution_count": null,
   "id": "7248f310",
   "metadata": {},
   "outputs": [],
   "source": []
  }
 ],
 "metadata": {
  "kernelspec": {
   "display_name": "Python 3 (ipykernel)",
   "language": "python",
   "name": "python3"
  },
  "language_info": {
   "codemirror_mode": {
    "name": "ipython",
    "version": 3
   },
   "file_extension": ".py",
   "mimetype": "text/x-python",
   "name": "python",
   "nbconvert_exporter": "python",
   "pygments_lexer": "ipython3",
   "version": "3.11.8"
  }
 },
 "nbformat": 4,
 "nbformat_minor": 5
}
