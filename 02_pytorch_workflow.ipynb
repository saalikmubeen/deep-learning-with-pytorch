{
 "cells": [
  {
   "cell_type": "code",
   "execution_count": 72,
   "id": "e0f5092a",
   "metadata": {},
   "outputs": [
    {
     "data": {
      "text/plain": [
       "'2.1.2'"
      ]
     },
     "execution_count": 72,
     "metadata": {},
     "output_type": "execute_result"
    }
   ],
   "source": [
    "import torch\n",
    "from torch import nn\n",
    "from torch.optim import SGD\n",
    "import matplotlib.pyplot as plt\n",
    "torch.__version__"
   ]
  },
  {
   "cell_type": "code",
   "execution_count": 16,
   "id": "70751fcd",
   "metadata": {},
   "outputs": [
    {
     "data": {
      "text/plain": [
       "('X:',\n",
       " tensor([[0.0000],\n",
       "         [0.0200],\n",
       "         [0.0400],\n",
       "         [0.0600],\n",
       "         [0.0800],\n",
       "         [0.1000],\n",
       "         [0.1200],\n",
       "         [0.1400],\n",
       "         [0.1600],\n",
       "         [0.1800]]),\n",
       " 'Y:',\n",
       " tensor([[0.3000],\n",
       "         [0.3140],\n",
       "         [0.3280],\n",
       "         [0.3420],\n",
       "         [0.3560],\n",
       "         [0.3700],\n",
       "         [0.3840],\n",
       "         [0.3980],\n",
       "         [0.4120],\n",
       "         [0.4260]]))"
      ]
     },
     "execution_count": 16,
     "metadata": {},
     "output_type": "execute_result"
    }
   ],
   "source": [
    "weight = 0.7\n",
    "bias = 0.3\n",
    "\n",
    "\n",
    "\n",
    "start = 0\n",
    "end = 1\n",
    "step = 0.02\n",
    "\n",
    "X = torch.arange(start, end, step).unsqueeze(dim=1)\n",
    "\n",
    "y = weight * X + bias\n",
    "\n",
    "\"X:\", X[0: 10, :], \"Y:\", y[0:10, :]"
   ]
  },
  {
   "cell_type": "code",
   "execution_count": 25,
   "id": "386de11c",
   "metadata": {},
   "outputs": [
    {
     "data": {
      "text/plain": [
       "(40, 40, '.....', 10, 10)"
      ]
     },
     "execution_count": 25,
     "metadata": {},
     "output_type": "execute_result"
    }
   ],
   "source": [
    "train_split = int(0.8 * len(X))\n",
    "\n",
    "X_train, y_train = X[:train_split], y[:train_split]\n",
    "\n",
    "X_test, y_test = X[train_split:], y[train_split:]\n",
    "\n",
    "len(X_train), len(y_train), \".....\", len(X_test), len(y_test)"
   ]
  },
  {
   "cell_type": "code",
   "execution_count": null,
   "id": "cef4f73c",
   "metadata": {},
   "outputs": [],
   "source": []
  },
  {
   "cell_type": "code",
   "execution_count": 30,
   "id": "8f816527",
   "metadata": {},
   "outputs": [],
   "source": [
    "def plot_predictions(train_data=X_train, \n",
    "                     train_labels=y_train, \n",
    "                     test_data=X_test, \n",
    "                     test_labels=y_test, \n",
    "                     predictions=None):\n",
    "  \"\"\"\n",
    "  Plots training data, test data and compares predictions.\n",
    "  \"\"\"\n",
    "  plt.figure(figsize=(10, 7))\n",
    "\n",
    "  # Plot training data in blue\n",
    "  plt.scatter(train_data, train_labels, c=\"b\", s=4, label=\"Training data\")\n",
    "  \n",
    "  # Plot test data in green\n",
    "  plt.scatter(test_data, test_labels, c=\"g\", s=4, label=\"Testing data\")\n",
    "\n",
    "  if predictions is not None:\n",
    "    # Plot the predictions in red (predictions were made on the test data)\n",
    "    plt.scatter(test_data, predictions, c=\"r\", s=4, label=\"Predictions\")\n",
    "\n",
    "  # Show the legend\n",
    "  plt.legend(prop={\"size\": 14});"
   ]
  },
  {
   "cell_type": "code",
   "execution_count": 31,
   "id": "62311151",
   "metadata": {},
   "outputs": [
    {
     "data": {
      "image/png": "[encoded data removed]",
      "text/plain": [
       "<Figure size 1000x700 with 1 Axes>"
      ]
     },
     "metadata": {},
     "output_type": "display_data"
    }
   ],
   "source": [
    "plot_predictions();"
   ]
  },
  {
   "cell_type": "code",
   "execution_count": 35,
   "id": "a000e561",
   "metadata": {},
   "outputs": [],
   "source": [
    "class LinearRegression(nn.Module):\n",
    "    def __init__(self):\n",
    "        super().__init__()\n",
    "        self.weight = nn.Parameter(torch.randn(1, \n",
    "                            requires_grad=True,\n",
    "                            dtype=torch.float)\n",
    "                        )\n",
    "        \n",
    "        self.bias = nn.Parameter(torch.randn(1, \n",
    "                            requires_grad=True,\n",
    "                            dtype=torch.float)\n",
    "                        )\n",
    "        \n",
    "        # or \n",
    "        # Use nn.Linear() for creating the model parameters / also called: linear transform, \n",
    "        # probing layer, fully connected layer, dense layer\n",
    "#         self.linear_layer = nn.Linear(in_features=1, out_features=1)\n",
    "        \n",
    "    def forward(self, x):\n",
    "        return self.weight * x + bias\n",
    "    \n",
    "#     def forward(self, x: torch.Tensor) -> torch.Tensor:\n",
    "#         return self.linear_layer(x)\n",
    "        "
   ]
  },
  {
   "cell_type": "code",
   "execution_count": 93,
   "id": "23bdbf33",
   "metadata": {},
   "outputs": [],
   "source": [
    "torch.manual_seed(42)\n",
    "model_0 = LinearRegression()"
   ]
  },
  {
   "cell_type": "code",
   "execution_count": 94,
   "id": "413d68d4",
   "metadata": {},
   "outputs": [
    {
     "name": "stdout",
     "output_type": "stream",
     "text": [
      "[Parameter containing:\n",
      "tensor([0.3367], requires_grad=True), Parameter containing:\n",
      "tensor([0.1288], requires_grad=True)]\n"
     ]
    },
    {
     "data": {
      "text/plain": [
       "Parameter containing:\n",
       "tensor([0.3367], requires_grad=True)"
      ]
     },
     "execution_count": 94,
     "metadata": {},
     "output_type": "execute_result"
    }
   ],
   "source": [
    "print(list(model_0.parameters()))\n",
    "model_0.weight"
   ]
  },
  {
   "cell_type": "code",
   "execution_count": 52,
   "id": "9ac641a3",
   "metadata": {},
   "outputs": [
    {
     "data": {
      "text/plain": [
       "OrderedDict([('weight', tensor([0.3367])), ('bias', tensor([0.1288]))])"
      ]
     },
     "execution_count": 52,
     "metadata": {},
     "output_type": "execute_result"
    }
   ],
   "source": [
    "model_0.state_dict()"
   ]
  },
  {
   "cell_type": "code",
   "execution_count": 95,
   "id": "15b13855",
   "metadata": {},
   "outputs": [
    {
     "data": {
      "text/plain": [
       "tensor([[0.3000],\n",
       "        [0.3067],\n",
       "        [0.3135],\n",
       "        [0.3202],\n",
       "        [0.3269],\n",
       "        [0.3337],\n",
       "        [0.3404],\n",
       "        [0.3471],\n",
       "        [0.3539],\n",
       "        [0.3606],\n",
       "        [0.3673],\n",
       "        [0.3741],\n",
       "        [0.3808],\n",
       "        [0.3875],\n",
       "        [0.3943],\n",
       "        [0.4010],\n",
       "        [0.4077],\n",
       "        [0.4145],\n",
       "        [0.4212],\n",
       "        [0.4279],\n",
       "        [0.4347],\n",
       "        [0.4414],\n",
       "        [0.4481],\n",
       "        [0.4549],\n",
       "        [0.4616],\n",
       "        [0.4683],\n",
       "        [0.4751],\n",
       "        [0.4818],\n",
       "        [0.4885],\n",
       "        [0.4953],\n",
       "        [0.5020],\n",
       "        [0.5087],\n",
       "        [0.5155],\n",
       "        [0.5222],\n",
       "        [0.5289],\n",
       "        [0.5357],\n",
       "        [0.5424],\n",
       "        [0.5492],\n",
       "        [0.5559],\n",
       "        [0.5626]], grad_fn=<AddBackward0>)"
      ]
     },
     "execution_count": 95,
     "metadata": {},
     "output_type": "execute_result"
    }
   ],
   "source": [
    "model_0.forward(X_train)"
   ]
  },
  {
   "cell_type": "code",
   "execution_count": 97,
   "id": "03ccd7c2",
   "metadata": {},
   "outputs": [
    {
     "data": {
      "text/plain": [
       "tensor([[0.5694],\n",
       "        [0.5761],\n",
       "        [0.5828],\n",
       "        [0.5896],\n",
       "        [0.5963],\n",
       "        [0.6030],\n",
       "        [0.6098],\n",
       "        [0.6165],\n",
       "        [0.6232],\n",
       "        [0.6300]])"
      ]
     },
     "execution_count": 97,
     "metadata": {},
     "output_type": "execute_result"
    }
   ],
   "source": [
    "with torch.inference_mode(): # or torch.no_grad()\n",
    "    y_preds = model_0(X_test)\n",
    "    \n",
    "# y_preds = model_0(X_test)\n",
    "y_preds"
   ]
  },
  {
   "cell_type": "code",
   "execution_count": 64,
   "id": "91432a11",
   "metadata": {},
   "outputs": [
    {
     "data": {
      "text/plain": [
       "tensor([[0.8600],\n",
       "        [0.8740],\n",
       "        [0.8880],\n",
       "        [0.9020],\n",
       "        [0.9160],\n",
       "        [0.9300],\n",
       "        [0.9440],\n",
       "        [0.9580],\n",
       "        [0.9720],\n",
       "        [0.9860]])"
      ]
     },
     "execution_count": 64,
     "metadata": {},
     "output_type": "execute_result"
    }
   ],
   "source": [
    "y_test"
   ]
  },
  {
   "cell_type": "code",
   "execution_count": 98,
   "id": "c219737e",
   "metadata": {
    "scrolled": true
   },
   "outputs": [
    {
     "data": {
      "image/png": "[encoded data removed]",
      "text/plain": [
       "<Figure size 1000x700 with 1 Axes>"
      ]
     },
     "metadata": {},
     "output_type": "display_data"
    }
   ],
   "source": [
    "plot_predictions(predictions=y_preds);"
   ]
  },
  {
   "cell_type": "code",
   "execution_count": 99,
   "id": "6969ee9a",
   "metadata": {},
   "outputs": [],
   "source": [
    "loss_fn = nn.L1Loss() # How wrong the model is\n",
    "\n",
    "optimizer = SGD(params=model_0.parameters(), lr=0.01)"
   ]
  },
  {
   "cell_type": "code",
   "execution_count": 100,
   "id": "20a86a20",
   "metadata": {},
   "outputs": [
    {
     "name": "stdout",
     "output_type": "stream",
     "text": [
      "Epoch: 0 | Train loss: 0.14169074594974518 | Test loss: 0.3198745846748352\n",
      "Epoch: 10 | Train loss: 0.12648077309131622 | Test loss: 0.28516465425491333\n",
      "Epoch: 20 | Train loss: 0.11127082258462906 | Test loss: 0.25045472383499146\n",
      "Epoch: 30 | Train loss: 0.0960608422756195 | Test loss: 0.21574480831623077\n",
      "Epoch: 40 | Train loss: 0.08085088431835175 | Test loss: 0.1810348629951477\n",
      "Epoch: 50 | Train loss: 0.06564091145992279 | Test loss: 0.14632496237754822\n",
      "Epoch: 60 | Train loss: 0.050430942326784134 | Test loss: 0.11161501705646515\n",
      "Epoch: 70 | Train loss: 0.035220976918935776 | Test loss: 0.07690508663654327\n",
      "Epoch: 80 | Train loss: 0.02001100964844227 | Test loss: 0.04219517856836319\n",
      "Epoch: 90 | Train loss: 0.004801043774932623 | Test loss: 0.007485252805054188\n",
      "Epoch: 100 | Train loss: 0.0012829385232180357 | Test loss: 0.000543272471986711\n",
      "Epoch: 110 | Train loss: 0.0012829385232180357 | Test loss: 0.000543272471986711\n",
      "Epoch: 120 | Train loss: 0.0012829385232180357 | Test loss: 0.000543272471986711\n",
      "Epoch: 130 | Train loss: 0.0012829385232180357 | Test loss: 0.000543272471986711\n",
      "Epoch: 140 | Train loss: 0.0012829385232180357 | Test loss: 0.000543272471986711\n",
      "Epoch: 150 | Train loss: 0.0012829385232180357 | Test loss: 0.000543272471986711\n",
      "Epoch: 160 | Train loss: 0.0012829385232180357 | Test loss: 0.000543272471986711\n",
      "Epoch: 170 | Train loss: 0.0012829385232180357 | Test loss: 0.000543272471986711\n",
      "Epoch: 180 | Train loss: 0.0012829385232180357 | Test loss: 0.000543272471986711\n",
      "Epoch: 190 | Train loss: 0.0012829385232180357 | Test loss: 0.000543272471986711\n",
      "Epoch: 200 | Train loss: 0.0012829385232180357 | Test loss: 0.000543272471986711\n",
      "Epoch: 210 | Train loss: 0.0012829385232180357 | Test loss: 0.000543272471986711\n",
      "Epoch: 220 | Train loss: 0.0012829385232180357 | Test loss: 0.000543272471986711\n",
      "Epoch: 230 | Train loss: 0.0012829385232180357 | Test loss: 0.000543272471986711\n",
      "Epoch: 240 | Train loss: 0.0012829385232180357 | Test loss: 0.000543272471986711\n",
      "Epoch: 250 | Train loss: 0.0012829385232180357 | Test loss: 0.000543272471986711\n",
      "Epoch: 260 | Train loss: 0.0012829385232180357 | Test loss: 0.000543272471986711\n",
      "Epoch: 270 | Train loss: 0.0012829385232180357 | Test loss: 0.000543272471986711\n",
      "Epoch: 280 | Train loss: 0.0012829385232180357 | Test loss: 0.000543272471986711\n",
      "Epoch: 290 | Train loss: 0.0012829385232180357 | Test loss: 0.000543272471986711\n",
      "Epoch: 300 | Train loss: 0.0012829385232180357 | Test loss: 0.000543272471986711\n",
      "Epoch: 310 | Train loss: 0.0012829385232180357 | Test loss: 0.000543272471986711\n",
      "Epoch: 320 | Train loss: 0.0012829385232180357 | Test loss: 0.000543272471986711\n",
      "Epoch: 330 | Train loss: 0.0012829385232180357 | Test loss: 0.000543272471986711\n",
      "Epoch: 340 | Train loss: 0.0012829385232180357 | Test loss: 0.000543272471986711\n",
      "Epoch: 350 | Train loss: 0.0012829385232180357 | Test loss: 0.000543272471986711\n",
      "Epoch: 360 | Train loss: 0.0012829385232180357 | Test loss: 0.000543272471986711\n",
      "Epoch: 370 | Train loss: 0.0012829385232180357 | Test loss: 0.000543272471986711\n",
      "Epoch: 380 | Train loss: 0.0012829385232180357 | Test loss: 0.000543272471986711\n",
      "Epoch: 390 | Train loss: 0.0012829385232180357 | Test loss: 0.000543272471986711\n",
      "Epoch: 400 | Train loss: 0.0012829385232180357 | Test loss: 0.000543272471986711\n",
      "Epoch: 410 | Train loss: 0.0012829385232180357 | Test loss: 0.000543272471986711\n",
      "Epoch: 420 | Train loss: 0.0012829385232180357 | Test loss: 0.000543272471986711\n",
      "Epoch: 430 | Train loss: 0.0012829385232180357 | Test loss: 0.000543272471986711\n",
      "Epoch: 440 | Train loss: 0.0012829385232180357 | Test loss: 0.000543272471986711\n",
      "Epoch: 450 | Train loss: 0.0012829385232180357 | Test loss: 0.000543272471986711\n",
      "Epoch: 460 | Train loss: 0.0012829385232180357 | Test loss: 0.000543272471986711\n",
      "Epoch: 470 | Train loss: 0.0012829385232180357 | Test loss: 0.000543272471986711\n",
      "Epoch: 480 | Train loss: 0.0012829385232180357 | Test loss: 0.000543272471986711\n",
      "Epoch: 490 | Train loss: 0.0012829385232180357 | Test loss: 0.000543272471986711\n"
     ]
    }
   ],
   "source": [
    "# training loop\n",
    "\n",
    "torch.manual_seed(42)\n",
    "\n",
    "# Set the number of epochs \n",
    "epochs = 500\n",
    "\n",
    "# Track different values\n",
    "epoch_count = []\n",
    "loss_values = []\n",
    "test_loss_values = []\n",
    "\n",
    "for epoch in range(epochs):\n",
    "    # set the model to training mode (It's default)\n",
    "    model_0.train()\n",
    "    \n",
    "    # 1. Forward pass\n",
    "    y_preds = model_0.forward(X_train)\n",
    "    \n",
    "    # 2. Calculate loss\n",
    "    loss = loss_fn(y_preds, y_train)\n",
    "    \n",
    "    # 3. Make gradients zero i.e reset gradients\n",
    "    optimizer.zero_grad()\n",
    "    \n",
    "    # 4. Backpropagation on loss w.r.t parameters\n",
    "    loss.backward()\n",
    "    \n",
    "    # 5. Gradient Descent (upadate the parameters - weights and bias)\n",
    "    # Gradients that the optimizer calculates accumulates over time\n",
    "    # with each epoch. That's why we need to reset it.\n",
    "    optimizer.step() \n",
    "    \n",
    "    # put the model in evaluation mode for testing (inference)\n",
    "    # turns off differnet settings in the model not needed for the\n",
    "    # evaluation/testing (like batch normalization, dropout etc)\n",
    "    model_0.eval() # turns off the gradient tracking\n",
    "    \n",
    "    # turn off gradient tracking and couple more things behind the scenes\n",
    "    with torch.inference_mode():\n",
    "        \n",
    "        # forward pass\n",
    "        test_pred = model_0(X_test)\n",
    "        \n",
    "        # calculate test loss\n",
    "        test_loss = loss_fn(test_pred, y_test)\n",
    "        \n",
    "        if epoch % 10 == 0:\n",
    "            epoch_count.append(epoch)\n",
    "            loss_values.append(loss.detach().numpy())\n",
    "            test_loss_values.append(test_loss.detach().numpy())\n",
    "            print(f\"Epoch: {epoch} | Train loss: {loss} | Test loss: {test_loss}\")"
   ]
  },
  {
   "cell_type": "code",
   "execution_count": 101,
   "id": "a2ec8f1d",
   "metadata": {},
   "outputs": [
    {
     "data": {
      "text/plain": [
       "tensor([[0.8626],\n",
       "        [0.8767],\n",
       "        [0.8908],\n",
       "        [0.9048],\n",
       "        [0.9189],\n",
       "        [0.9330],\n",
       "        [0.9470],\n",
       "        [0.9611],\n",
       "        [0.9752],\n",
       "        [0.9892]])"
      ]
     },
     "execution_count": 101,
     "metadata": {},
     "output_type": "execute_result"
    }
   ],
   "source": [
    "with torch.inference_mode(): # or torch.no_grad()\n",
    "    y_preds = model_0(X_test)\n",
    "    \n",
    "# y_preds = model_0(X_test)\n",
    "y_preds"
   ]
  },
  {
   "cell_type": "code",
   "execution_count": 102,
   "id": "21a4bab7",
   "metadata": {},
   "outputs": [
    {
     "data": {
      "image/png": "[encoded data removed]",
      "text/plain": [
       "<Figure size 1000x700 with 1 Axes>"
      ]
     },
     "metadata": {},
     "output_type": "display_data"
    }
   ],
   "source": [
    "plot_predictions(predictions=y_preds);"
   ]
  },
  {
   "cell_type": "code",
   "execution_count": 103,
   "id": "cff11ed9",
   "metadata": {},
   "outputs": [
    {
     "data": {
      "text/plain": [
       "OrderedDict([('weight', tensor([0.7033])), ('bias', tensor([0.1288]))])"
      ]
     },
     "execution_count": 103,
     "metadata": {},
     "output_type": "execute_result"
    }
   ],
   "source": [
    "model_0.state_dict()"
   ]
  },
  {
   "cell_type": "code",
   "execution_count": 106,
   "id": "d419b805",
   "metadata": {},
   "outputs": [
    {
     "data": {
      "image/png": "[encoded data removed]",
      "text/plain": [
       "<Figure size 640x480 with 1 Axes>"
      ]
     },
     "metadata": {},
     "output_type": "display_data"
    }
   ],
   "source": [
    "# Plot the loss curves\n",
    "\n",
    "plt.plot(epoch_count, loss_values, label=\"Train Loss\")\n",
    "plt.plot(epoch_count, test_loss_values, label=\"Test Loss\")\n",
    "plt.title(\"Training and test loss curves\")\n",
    "plt.ylabel(\"Loss\")\n",
    "plt.xlabel(\"Epochs\")\n",
    "plt.legend();"
   ]
  },
  {
   "cell_type": "code",
   "execution_count": 108,
   "id": "5afcc76f",
   "metadata": {},
   "outputs": [
    {
     "data": {
      "text/plain": [
       "{'state': {0: {'momentum_buffer': None}},\n",
       " 'param_groups': [{'lr': 0.01,\n",
       "   'momentum': 0,\n",
       "   'dampening': 0,\n",
       "   'weight_decay': 0,\n",
       "   'nesterov': False,\n",
       "   'maximize': False,\n",
       "   'foreach': None,\n",
       "   'differentiable': False,\n",
       "   'params': [0, 1]}]}"
      ]
     },
     "execution_count": 108,
     "metadata": {},
     "output_type": "execute_result"
    }
   ],
   "source": [
    "optimizer.state_dict()"
   ]
  },
  {
   "cell_type": "markdown",
   "id": "2f532922",
   "metadata": {},
   "source": [
    "# Saving and loading the model"
   ]
  },
  {
   "cell_type": "code",
   "execution_count": 109,
   "id": "0cc08ba2",
   "metadata": {},
   "outputs": [
    {
     "name": "stdout",
     "output_type": "stream",
     "text": [
      "Saving model to: models/01_pytorch_workflow_model_0.pth\n"
     ]
    }
   ],
   "source": [
    "# Saving our PyTorch model\n",
    "from pathlib import Path\n",
    "\n",
    "# 1. Create models directory \n",
    "MODEL_PATH = Path(\"models\")\n",
    "MODEL_PATH.mkdir(parents=True, exist_ok=True)\n",
    "\n",
    "# 2. Create model save path\n",
    "MODEL_NAME = \"01_pytorch_workflow_model_0.pth\"\n",
    "MODEL_SAVE_PATH = MODEL_PATH / MODEL_NAME\n",
    "\n",
    "# 3. Save the model state dict\n",
    "print(f\"Saving model to: {MODEL_SAVE_PATH}\")\n",
    "torch.save(obj=model_0.state_dict(),\n",
    "           f=MODEL_SAVE_PATH)"
   ]
  },
  {
   "cell_type": "code",
   "execution_count": 110,
   "id": "92385ee6",
   "metadata": {},
   "outputs": [
    {
     "data": {
      "text/plain": [
       "<All keys matched successfully>"
      ]
     },
     "execution_count": 110,
     "metadata": {},
     "output_type": "execute_result"
    }
   ],
   "source": [
    "# To load in a saved state_dict we have to instantiate a new instance of our model class\n",
    "loaded_model_0 = LinearRegression()\n",
    "\n",
    "# Load the saved state_dict of model_0 (this will update the new instance with updated parameters)\n",
    "loaded_model_0.load_state_dict(torch.load(f=MODEL_SAVE_PATH))"
   ]
  },
  {
   "cell_type": "code",
   "execution_count": 111,
   "id": "9d2b4a8e",
   "metadata": {},
   "outputs": [
    {
     "data": {
      "text/plain": [
       "OrderedDict([('weight', tensor([0.7033])), ('bias', tensor([0.1288]))])"
      ]
     },
     "execution_count": 111,
     "metadata": {},
     "output_type": "execute_result"
    }
   ],
   "source": [
    "loaded_model_0.state_dict()"
   ]
  },
  {
   "cell_type": "code",
   "execution_count": 113,
   "id": "551d771c",
   "metadata": {},
   "outputs": [
    {
     "data": {
      "text/plain": [
       "tensor([[0.8626],\n",
       "        [0.8767],\n",
       "        [0.8908],\n",
       "        [0.9048],\n",
       "        [0.9189],\n",
       "        [0.9330],\n",
       "        [0.9470],\n",
       "        [0.9611],\n",
       "        [0.9752],\n",
       "        [0.9892]])"
      ]
     },
     "execution_count": 113,
     "metadata": {},
     "output_type": "execute_result"
    }
   ],
   "source": [
    "# Make some predictions with our loaded model\n",
    "loaded_model_0.eval()\n",
    "with torch.inference_mode():\n",
    "  loaded_model_preds = loaded_model_0(X_test)\n",
    "\n",
    "loaded_model_preds"
   ]
  },
  {
   "cell_type": "code",
   "execution_count": 114,
   "id": "17ca17e1",
   "metadata": {},
   "outputs": [
    {
     "data": {
      "text/plain": [
       "tensor([[0.8626],\n",
       "        [0.8767],\n",
       "        [0.8908],\n",
       "        [0.9048],\n",
       "        [0.9189],\n",
       "        [0.9330],\n",
       "        [0.9470],\n",
       "        [0.9611],\n",
       "        [0.9752],\n",
       "        [0.9892]])"
      ]
     },
     "execution_count": 114,
     "metadata": {},
     "output_type": "execute_result"
    }
   ],
   "source": [
    "# Make some models preds\n",
    "model_0.eval()\n",
    "with torch.inference_mode():\n",
    "  y_preds = model_0(X_test)\n",
    "\n",
    "y_preds"
   ]
  },
  {
   "cell_type": "code",
   "execution_count": 115,
   "id": "58af2c7e",
   "metadata": {},
   "outputs": [
    {
     "data": {
      "text/plain": [
       "tensor([[True],\n",
       "        [True],\n",
       "        [True],\n",
       "        [True],\n",
       "        [True],\n",
       "        [True],\n",
       "        [True],\n",
       "        [True],\n",
       "        [True],\n",
       "        [True]])"
      ]
     },
     "execution_count": 115,
     "metadata": {},
     "output_type": "execute_result"
    }
   ],
   "source": [
    "\n",
    "# Compare loaded model preds with original model preds\n",
    "y_preds == loaded_model_preds"
   ]
  },
  {
   "cell_type": "code",
   "execution_count": 116,
   "id": "9b37e405",
   "metadata": {},
   "outputs": [
    {
     "name": "stdout",
     "output_type": "stream",
     "text": [
      "Using device: cpu\n"
     ]
    }
   ],
   "source": [
    "# Setup device agnostic code\n",
    "device = \"cuda\" if torch.cuda.is_available() else \"cpu\"\n",
    "print(f\"Using device: {device}\")"
   ]
  },
  {
   "cell_type": "code",
   "execution_count": 118,
   "id": "7cf01b1e",
   "metadata": {},
   "outputs": [],
   "source": [
    "# !nvidia-smi"
   ]
  },
  {
   "cell_type": "code",
   "execution_count": 119,
   "id": "06919f05",
   "metadata": {},
   "outputs": [
    {
     "data": {
      "text/plain": [
       "device(type='cpu')"
      ]
     },
     "execution_count": 119,
     "metadata": {},
     "output_type": "execute_result"
    }
   ],
   "source": [
    "\n",
    "# Check the model current device\n",
    "next(model_0.parameters()).device"
   ]
  },
  {
   "cell_type": "code",
   "execution_count": 121,
   "id": "1ef652de",
   "metadata": {},
   "outputs": [
    {
     "data": {
      "text/plain": [
       "device(type='cpu')"
      ]
     },
     "execution_count": 121,
     "metadata": {},
     "output_type": "execute_result"
    }
   ],
   "source": [
    "# Set the model to use the target device\n",
    "model_0.to(device)\n",
    "next(model_0.parameters()).device"
   ]
  },
  {
   "cell_type": "code",
   "execution_count": null,
   "id": "5593a473",
   "metadata": {},
   "outputs": [],
   "source": []
  }
 ],
 "metadata": {
  "kernelspec": {
   "display_name": "Python 3 (ipykernel)",
   "language": "python",
   "name": "python3"
  },
  "language_info": {
   "codemirror_mode": {
    "name": "ipython",
    "version": 3
   },
   "file_extension": ".py",
   "mimetype": "text/x-python",
   "name": "python",
   "nbconvert_exporter": "python",
   "pygments_lexer": "ipython3",
   "version": "3.11.8"
  }
 },
 "nbformat": 4,
 "nbformat_minor": 5
}
