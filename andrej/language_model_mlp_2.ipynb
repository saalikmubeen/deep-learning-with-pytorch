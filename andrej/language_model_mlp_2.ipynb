{
 "cells": [
  {
   "cell_type": "code",
   "execution_count": 1,
   "id": "9516cdce",
   "metadata": {},
   "outputs": [],
   "source": [
    "import torch\n",
    "import torch.nn.functional as F\n",
    "import matplotlib.pyplot as plt # for making figures\n",
    "%matplotlib inline"
   ]
  },
  {
   "cell_type": "code",
   "execution_count": 2,
   "id": "6f356ebe",
   "metadata": {},
   "outputs": [
    {
     "name": "stdout",
     "output_type": "stream",
     "text": [
      "['emma', 'olivia', 'ava', 'isabella', 'sophia', 'charlotte', 'mia', 'amelia']\n",
      "32033\n"
     ]
    }
   ],
   "source": [
    "# read in all the words\n",
    "words = open('names.txt', 'r').read().splitlines()\n",
    "print(words[:8])\n",
    "print(len(words))"
   ]
  },
  {
   "cell_type": "code",
   "execution_count": 3,
   "id": "2a5d6bc6",
   "metadata": {},
   "outputs": [
    {
     "name": "stdout",
     "output_type": "stream",
     "text": [
      "{1: 'a', 2: 'b', 3: 'c', 4: 'd', 5: 'e', 6: 'f', 7: 'g', 8: 'h', 9: 'i', 10: 'j', 11: 'k', 12: 'l', 13: 'm', 14: 'n', 15: 'o', 16: 'p', 17: 'q', 18: 'r', 19: 's', 20: 't', 21: 'u', 22: 'v', 23: 'w', 24: 'x', 25: 'y', 26: 'z', 0: '.'}\n"
     ]
    }
   ],
   "source": [
    "# build the vocabulary of characters and mappings to/from integers\n",
    "chars = sorted(list(set(''.join(words))))\n",
    "stoi = {s: i+1 for i, s in enumerate(chars)} # string: integer\n",
    "stoi['.'] = 0\n",
    "itos = {i: s for s, i in stoi.items()} # integer: string\n",
    "print(itos)"
   ]
  },
  {
   "cell_type": "code",
   "execution_count": 4,
   "id": "063b18e0",
   "metadata": {},
   "outputs": [
    {
     "name": "stdout",
     "output_type": "stream",
     "text": [
      "... ---> e\n",
      "..e ---> m\n",
      ".em ---> m\n",
      "emm ---> a\n",
      "mma ---> .\n",
      "... ---> o\n",
      "..o ---> l\n",
      ".ol ---> i\n",
      "oli ---> v\n",
      "liv ---> i\n",
      "ivi ---> a\n",
      "via ---> .\n",
      "... ---> a\n",
      "..a ---> v\n",
      ".av ---> a\n",
      "ava ---> .\n",
      "... ---> i\n",
      "..i ---> s\n",
      ".is ---> a\n",
      "isa ---> b\n",
      "sab ---> e\n",
      "abe ---> l\n",
      "bel ---> l\n",
      "ell ---> a\n",
      "lla ---> .\n",
      "... ---> s\n",
      "..s ---> o\n",
      ".so ---> p\n",
      "sop ---> h\n",
      "oph ---> i\n",
      "phi ---> a\n",
      "hia ---> .\n"
     ]
    }
   ],
   "source": [
    "# build the dataset\n",
    "\n",
    "block_size = 3  # context length: how many characters do we take to predict the next one?\n",
    "X, Y = [], []\n",
    "for w in words[:5]:\n",
    "\n",
    "  # print(w)\n",
    "  context = [0] * block_size  # [0, 0, 0] (...) for the first character\n",
    "  for ch in w + '.':\n",
    "    ix = stoi[ch]\n",
    "    X.append(context)\n",
    "    Y.append(ix)\n",
    "    print(''.join(itos[i] for i in context), '--->', itos[ix])\n",
    "    context = context[1:] + [ix]  # crop the 0th character and append the new one\n",
    "\n",
    "X = torch.tensor(X)\n",
    "Y = torch.tensor(Y)"
   ]
  },
  {
   "cell_type": "code",
   "execution_count": 5,
   "id": "52116712",
   "metadata": {},
   "outputs": [
    {
     "data": {
      "text/plain": [
       "(torch.Size([32, 3]), torch.int64, torch.Size([32]), torch.int64)"
      ]
     },
     "execution_count": 5,
     "metadata": {},
     "output_type": "execute_result"
    }
   ],
   "source": [
    "X.shape, X.dtype, Y.shape, Y.dtype"
   ]
  },
  {
   "cell_type": "code",
   "execution_count": 6,
   "id": "cad736da",
   "metadata": {},
   "outputs": [
    {
     "name": "stdout",
     "output_type": "stream",
     "text": [
      "torch.Size([182625, 3]) torch.Size([182625])\n",
      "torch.Size([22655, 3]) torch.Size([22655])\n",
      "torch.Size([22866, 3]) torch.Size([22866])\n"
     ]
    }
   ],
   "source": [
    "# build the dataset\n",
    "import random\n",
    "block_size = 3  # context length: how many characters do we take to predict the next one?\n",
    "\n",
    "\n",
    "def build_dataset(words):\n",
    "  X, Y = [], []\n",
    "  for w in words:\n",
    "\n",
    "    # print(w)\n",
    "    context = [0] * block_size\n",
    "    for ch in w + '.':\n",
    "      ix = stoi[ch]\n",
    "      X.append(context)\n",
    "      Y.append(ix)\n",
    "      # print(''.join(itos[i] for i in context), '--->', itos[ix])\n",
    "      context = context[1:] + [ix]  # crop the 0th character and append the new one\n",
    "\n",
    "  X = torch.tensor(X)\n",
    "  Y = torch.tensor(Y)\n",
    "  print(X.shape, Y.shape)\n",
    "  return X, Y\n",
    "\n",
    "\n",
    "random.seed(42)\n",
    "random.shuffle(words)\n",
    "n1 = int(0.8*len(words))\n",
    "n2 = int(0.9*len(words))\n",
    "\n",
    "X_train, Y_train = build_dataset(words[:n1])\n",
    "X_dev, Y_dev = build_dataset(words[n1:n2])\n",
    "X_test, Y_test = build_dataset(words[n2:])"
   ]
  },
  {
   "cell_type": "code",
   "execution_count": 7,
   "id": "ed39dbb0",
   "metadata": {},
   "outputs": [
    {
     "name": "stdout",
     "output_type": "stream",
     "text": [
      "tensor([-0.3256, -0.4487])\n",
      "tensor([[-0.3256, -0.4487]])\n"
     ]
    },
    {
     "data": {
      "text/plain": [
       "tensor([[-0.3256, -0.4487],\n",
       "        [ 1.4860,  0.6933],\n",
       "        [-0.8998,  0.1486]])"
      ]
     },
     "execution_count": 7,
     "metadata": {},
     "output_type": "execute_result"
    }
   ],
   "source": [
    "# C is a lookup table that maps each character to vector in 2 dimensional space\n",
    "C = torch.randn((27, 2)) # 27 characters, 2-dimensional vectors\n",
    "\n",
    "print(C[5, :]) # 2d vector for character with index 5\n",
    "\n",
    "# Another way to get a 2d vector for a character is to use one hot encoding for that character\n",
    "# and then matrix multiply it with the lookup table C. This will plick out the row from the\n",
    "# lookup table C corresponding to the index of the character.\n",
    "one_hot = F.one_hot(torch.tensor(5), num_classes=27).float() # one hot vector for character with index 5\n",
    "# print(one_hot.unsqueeze(0).shape) # [1, 27]\n",
    "# print(one_hot.shape)  # [1, 27]\n",
    "# print(C.shape)  # torch.Size([27, 2])\n",
    "# Matrix multiply -> [1, 27] x  [27, 2] = # [1, 2]\n",
    "\n",
    "print(one_hot.unsqueeze(0) @ C)  # should be same as C[5]\n",
    "\n",
    "\n",
    "# So we can interpret this as a lookup into C using the index(integer) of the character or\n",
    "# we can equivalently also think of it as the first layer of a neural network that takes the one hot\n",
    "# encoding of the character and outputs a 2d vector whose weight matrix is C. And we are encoding\n",
    "# integers as one hot vectors and feeding those into the first layer of a neural network. And the\n",
    "# first layer basically embeds the character into a 2d vector space.\n",
    "\n",
    "\n",
    "# Indexing multiple characters or integer indices at once\n",
    "C[[5, 6, 7], :]  # this will give us the 2D vectors for characters with indices 5, 6, and 7"
   ]
  },
  {
   "cell_type": "code",
   "execution_count": 8,
   "id": "be64d1ef",
   "metadata": {},
   "outputs": [
    {
     "name": "stdout",
     "output_type": "stream",
     "text": [
      "torch.Size([182625, 3, 2])\n",
      "tensor(18)\n",
      "tensor([ 1.0287, -1.9672])\n",
      "tensor([ 1.0287, -1.9672])\n",
      "torch.Size([182625, 3, 2])\n"
     ]
    }
   ],
   "source": [
    "# Embedding single integer like 5 is easy --> C[5, :] or one_hot @ C\n",
    "# But how do we simultaneously embed a whole batch of integers i.e [182625, 3] integers?\n",
    "\n",
    "# this will give us the 2D vectors for all the integers(3 integers) in each row of X_train\n",
    "# So each integer out of 3 integers in every row of X_train will be used to index into C\n",
    "# to get the corresponding 2D vector\n",
    "print(C[X_train, :].shape)  # torch.Size([182625, 3, 2]) for 182625 rows, 3 characters, and 2D vectors for each character\n",
    "\n",
    "\n",
    "print(X_train[13, 2])  # tensor(18)\n",
    "\n",
    "# this will give us the 2D vector for the character with integer 18\n",
    "print(C[X_train[13, 2], :])  # tensor([1.1501, -0.3578])\n",
    "print(C[18, :])  # same, tensor([1.1501, -0.3578])\n",
    "\n",
    "\n",
    "embed = C[X_train, :]  # this will give us the 2D vectors for all the characters in X_train\n",
    "print(embed.shape)  # torch.Size([182625, 3, 2]) for 182625 rows, 3 characters, and 2D vectors for each character"
   ]
  },
  {
   "cell_type": "code",
   "execution_count": 9,
   "id": "3cbcaad0",
   "metadata": {},
   "outputs": [
    {
     "name": "stdout",
     "output_type": "stream",
     "text": [
      "torch.Size([6, 100])\n"
     ]
    },
    {
     "data": {
      "text/plain": [
       "torch.Size([182625, 6])"
      ]
     },
     "execution_count": 9,
     "metadata": {},
     "output_type": "execute_result"
    }
   ],
   "source": [
    "# 2 is the dimensionality of the vectors we are using to represent each character\n",
    "# and block_size is the number of characters that we feed into the model at once to predict the next character\n",
    "W1 = torch.randn((2*block_size, 100))  # 2d vectors for each character, 100 neurons in the first layer\n",
    "b = torch.randn(100)  # bias for the first layer\n",
    "\n",
    "print(W1.shape)  # torch.Size([6, 100])\n",
    "\n",
    "# Since embed is of shape [182625, 3, 2] and W1 is of shape [6, 100], we can\n",
    "# reshape embed to [182625, 6] and then matrix multiply it with W1\n",
    "# Xb = embed.view(-1, 2*block_size)  # reshape to [182625, 6]\n",
    "# print(Xb.shape)  # torch.Size([182625, 6])\n",
    "\n",
    "# We want is to concatenate the 2D vectors for each character of 3 characters in every example in X_train\n",
    "# So we want to concatenate the following\n",
    "# print(embed[:, 0, :].shape) # this will give us the 2D vectors for the first character in each example\n",
    "# print(embed[:, 1, :].shape) # this will give us the 2D vectors for the second character in each example\n",
    "# print(embed[:, 2, :].shape) # this will give us the 2D vectors for the third character in each example\n",
    "# Xb = torch.cat((embed[:, 0, :], embed[:, 1, :], embed[:, 2, :]), dim=1)  # concatenate along the last dimension\n",
    "# OR\n",
    "# Xb = torch.cat(torch.unbind(embed, dim=1), dim=1)  # unbind along the second dimension and then concatenate\n",
    "# torch.unbind(embed, dim=1) returns a tuple of 3 tensors, each tensor is of shape [182625, 2]\n",
    "# print(Xb.shape)  # torch.Size([182625, 6]) for 182625 rows and 6 columns (2D vectors for each character)\n",
    "\n",
    "Xb = embed.view(embed.shape[0], -1)  # reshape to [182625, 6]\n",
    "Xb.shape"
   ]
  },
  {
   "cell_type": "code",
   "execution_count": 10,
   "id": "51ee912a",
   "metadata": {},
   "outputs": [
    {
     "name": "stdout",
     "output_type": "stream",
     "text": [
      "torch.Size([182625, 100])\n"
     ]
    }
   ],
   "source": [
    "z = Xb @ W1 + b  # matrix multiply and add bias\n",
    "print(z.shape)  # torch.Size([182625, 100])"
   ]
  },
  {
   "cell_type": "code",
   "execution_count": 11,
   "id": "38bdd09f",
   "metadata": {},
   "outputs": [
    {
     "data": {
      "text/plain": [
       "torch.Size([182625, 27])"
      ]
     },
     "execution_count": 11,
     "metadata": {},
     "output_type": "execute_result"
    }
   ],
   "source": [
    "W2 = torch.randn((100, 27))  # 100 neurons in the first layer, 27 characters in the output layer\n",
    "b = torch.randn(27)  # bias for the output layer\n",
    "\n",
    "logits = z @ W2 + b  # matrix multiply and add bias\n",
    "logits.shape  # torch.Size([182625, 27])"
   ]
  },
  {
   "cell_type": "code",
   "execution_count": 12,
   "id": "c7aaae14",
   "metadata": {},
   "outputs": [
    {
     "data": {
      "text/plain": [
       "torch.Size([182625, 27])"
      ]
     },
     "execution_count": 12,
     "metadata": {},
     "output_type": "execute_result"
    }
   ],
   "source": [
    "# Calculate the max logit in each row and subtract it from each logit in that row to prevent\n",
    "# the overflow. Because say a logit is 1000, then exp(1000) will overflow and give us inf and NaN.\n",
    "\n",
    "# This is a common technique called \"log-sum-exp trick\" to prevent overflow in softmax calculations.\n",
    "max_logits = logits.max(dim=1, keepdim=True).values  # get the max logit in each row # torch.Size([182625, 1])\n",
    "logits = logits - max_logits  # subtract the max logit from each logit in that row\n",
    "# Now we can safely calculate the exponentials without overflow\n",
    "\n",
    "counts = logits.exp()\n",
    "probs = counts / counts.sum(dim=1, keepdim=True)  # normalize to get probabilities\n",
    "probs.shape"
   ]
  },
  {
   "cell_type": "code",
   "execution_count": 16,
   "id": "6609ee33",
   "metadata": {},
   "outputs": [
    {
     "name": "stdout",
     "output_type": "stream",
     "text": [
      "torch.Size([182625])\n"
     ]
    },
    {
     "data": {
      "text/plain": [
       "tensor(inf)"
      ]
     },
     "execution_count": 16,
     "metadata": {},
     "output_type": "execute_result"
    }
   ],
   "source": [
    "true_label_prob = probs[torch.arange(Xb.shape[0]), Y_train]\n",
    "print(true_label_prob.shape)  # torch.Size([182625])\n",
    "\n",
    "loss = -true_label_prob.log().mean()  # negative log likelihood loss\n",
    "loss"
   ]
  },
  {
   "cell_type": "code",
   "execution_count": 14,
   "id": "14294987",
   "metadata": {},
   "outputs": [
    {
     "data": {
      "text/plain": [
       "torch.Size([182625, 1])"
      ]
     },
     "execution_count": 14,
     "metadata": {},
     "output_type": "execute_result"
    }
   ],
   "source": [
    "max_logits = logits.max(dim=1, keepdim=True).values\n",
    "max_logits.shape"
   ]
  },
  {
   "cell_type": "code",
   "execution_count": 36,
   "id": "e9d7de9e",
   "metadata": {},
   "outputs": [
    {
     "name": "stdout",
     "output_type": "stream",
     "text": [
      "Total number of parameters: 11897\n"
     ]
    }
   ],
   "source": [
    "g = torch.Generator().manual_seed(2147483647)  # for reproducibility\n",
    "vector_size = 10  # dimensionality of the vectors we are using to represent each character\n",
    "context_size = 3  # number of characters we take to predict the next one\n",
    "C = torch.randn((27, vector_size), generator=g)\n",
    "W1 = torch.randn((context_size * vector_size, 200), generator=g)\n",
    "b1 = torch.randn(200, generator=g)\n",
    "W2 = torch.randn((200, 27), generator=g)\n",
    "b2 = torch.randn(27, generator=g)\n",
    "parameters = [C, W1, b1, W2, b2]\n",
    "\n",
    "total_params = sum(p.nelement() for p in parameters)  # number of parameters in total\n",
    "print(f'Total number of parameters: {total_params}')\n",
    "\n",
    "for p in parameters:\n",
    "  p.requires_grad = True"
   ]
  },
  {
   "cell_type": "code",
   "execution_count": 37,
   "id": "a0a5c3f2",
   "metadata": {},
   "outputs": [
    {
     "name": "stdout",
     "output_type": "stream",
     "text": [
      "2.4694817066192627\n"
     ]
    }
   ],
   "source": [
    "lre = torch.linspace(-3, 0, 1000) # create a linear space from -3 to 0 with 1000 points\n",
    "lrs = 10**lre\n",
    "\n",
    "\n",
    "lri = []\n",
    "lossi = []\n",
    "stepi = []\n",
    "\n",
    "\n",
    "for i in range(200000):\n",
    "\n",
    "  # minibatch construct\n",
    "  ix = torch.randint(0, X_train.shape[0], (32,)) # 32 random indices between 0 and the number of training examples.\n",
    "\n",
    "  # forward pass\n",
    "  # X_train[[0, 5, 8], :] -> this will give us the 3 rows of X_train with indices 0, 5, and 8 and all columns\n",
    "  embed = C[X_train[ix], :]  # (32, 3, 10)\n",
    "  h = torch.tanh(embed.view(-1, 30) @ W1 + b1)  # (32, 200)\n",
    "  logits = h @ W2 + b2  # (32, 27)\n",
    "\n",
    "  max_logits = logits.max(dim=1, keepdim=True).values\n",
    "  logits = logits - max_logits  # subtract the max logit from each logit in that row\n",
    "  counts = logits.exp()\n",
    "  probs = counts / counts.sum(dim=1, keepdim=True)  # normalize to get probabilities\n",
    "  # print(probs.shape)  # torch.Size([32, 27])\n",
    "  # print(X_train[ix].shape[0])  # 32, number of examples in the minibatch\n",
    "  # print(Y_train[ix].shape)  # torch.Size([32])\n",
    "  true_label_prob = probs[torch.arange(X_train[ix].shape[0]), Y_train[ix]]\n",
    "  loss = -true_label_prob.log().mean()  # negative log likelihood loss\n",
    "\n",
    "\n",
    "  # OR\n",
    "  # loss = F.cross_entropy(logits, Y_train[ix])\n",
    "\n",
    "  # backward pass\n",
    "  for p in parameters:\n",
    "    p.grad = None # Zero out the gradients before the backward pass\n",
    "  # This is important because otherwise gradients will accumulate from previous iterations\n",
    "  # and we will not get the correct gradients for the current iteration.\n",
    "  # This is because by default, pytorch accumulates gradients in the .grad attribute of the tensors.\n",
    "  loss.backward()\n",
    "\n",
    "  # update\n",
    "  # lr = lrs[i]\n",
    "  lr = 0.1 if i < 100000 else 0.01\n",
    "  for p in parameters:\n",
    "    p.data += -lr * p.grad\n",
    "\n",
    "  # track stats\n",
    "  # lri.append(lre[i])\n",
    "  stepi.append(i)\n",
    "  lossi.append(loss.log10().item())\n",
    "\n",
    "print(loss.item())"
   ]
  },
  {
   "cell_type": "code",
   "execution_count": 38,
   "id": "25ae8439",
   "metadata": {},
   "outputs": [
    {
     "data": {
      "text/plain": [
       "[<matplotlib.lines.Line2D at 0x11bb21d90>]"
      ]
     },
     "execution_count": 38,
     "metadata": {},
     "output_type": "execute_result"
    },
    {
     "data": {
      "image/png": "[encoded data removed]",
      "text/plain": [
       "<Figure size 640x480 with 1 Axes>"
      ]
     },
     "metadata": {},
     "output_type": "display_data"
    }
   ],
   "source": [
    "plt.plot(stepi, lossi)"
   ]
  },
  {
   "cell_type": "code",
   "execution_count": 34,
   "id": "28328f55",
   "metadata": {},
   "outputs": [
    {
     "data": {
      "image/png": "[encoded data removed]",
      "text/plain": [
       "<Figure size 800x800 with 1 Axes>"
      ]
     },
     "metadata": {},
     "output_type": "display_data"
    }
   ],
   "source": [
    "# visualize dimensions 0 and 1 of the embedding matrix C for all characters\n",
    "plt.figure(figsize=(8, 8))\n",
    "plt.scatter(C[:, 0].data, C[:, 1].data, s=200)\n",
    "for i in range(C.shape[0]):\n",
    "    plt.text(C[i, 0].item(), C[i, 1].item(), itos[i],\n",
    "             ha=\"center\", va=\"center\", color='white')\n",
    "plt.grid('minor')"
   ]
  },
  {
   "cell_type": "code",
   "execution_count": 46,
   "id": "7e0e8894",
   "metadata": {},
   "outputs": [
    {
     "name": "stdout",
     "output_type": "stream",
     "text": [
      "carmah.\n",
      "amelle.\n",
      "khy.\n",
      "mili.\n",
      "taty.\n",
      "sacassie.\n",
      "mahnen.\n",
      "delynn.\n",
      "jareen.\n",
      "nekonia.\n",
      "chaiiv.\n",
      "kaleigh.\n",
      "ham.\n",
      "join.\n",
      "quinn.\n",
      "sulisea.\n",
      "jadis.\n",
      "wavero.\n",
      "dearynix.\n",
      "kaellinsley.\n"
     ]
    }
   ],
   "source": [
    "# sample from the model\n",
    "g = torch.Generator().manual_seed(2147483647 + 10)\n",
    "\n",
    "for _ in range(20):\n",
    "\n",
    "    out = []\n",
    "    context = [0] * block_size  # initialize with all ... [0, 0, 0]\n",
    "    while True:\n",
    "      # print(torch.tensor([context]).shape)  # (1, 3) for a single example with 3 characters in the context\n",
    "      emb = C[torch.tensor([context])]  # (1,block_size,d)\n",
    "      # print(emb.shape)  # (1, 3, 10)\n",
    "      h = torch.tanh(emb.view(1, -1) @ W1 + b1)\n",
    "      # print(h.shape) # (1, 200)\n",
    "      logits = h @ W2 + b2\n",
    "      # print(logits.shape)  # (1, 27)\n",
    "      probs = F.softmax(logits, dim=1)\n",
    "      ix = torch.multinomial(probs, num_samples=1, generator=g).item()\n",
    "      context = context[1:] + [ix]\n",
    "      out.append(ix)\n",
    "      if ix == 0:\n",
    "        break\n",
    "\n",
    "    print(''.join(itos[i] for i in out))"
   ]
  },
  {
   "cell_type": "code",
   "execution_count": null,
   "id": "d384617d",
   "metadata": {},
   "outputs": [],
   "source": []
  }
 ],
 "metadata": {
  "kernelspec": {
   "display_name": "DL-FINAL-PROJECT (venv)",
   "language": "python",
   "name": "dl-final-project"
  },
  "language_info": {
   "codemirror_mode": {
    "name": "ipython",
    "version": 3
   },
   "file_extension": ".py",
   "mimetype": "text/x-python",
   "name": "python",
   "nbconvert_exporter": "python",
   "pygments_lexer": "ipython3",
   "version": "3.12.2"
  }
 },
 "nbformat": 4,
 "nbformat_minor": 5
}
