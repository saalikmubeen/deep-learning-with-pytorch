{
 "cells": [
  {
   "cell_type": "code",
   "execution_count": 3,
   "id": "13ad3305",
   "metadata": {},
   "outputs": [
    {
     "data": {
      "text/plain": [
       "'2.1.2'"
      ]
     },
     "execution_count": 3,
     "metadata": {},
     "output_type": "execute_result"
    }
   ],
   "source": [
    "import torch\n",
    "import numpy as np\n",
    "torch.__version__"
   ]
  },
  {
   "cell_type": "code",
   "execution_count": 8,
   "id": "d0ebddb1",
   "metadata": {},
   "outputs": [
    {
     "data": {
      "text/plain": [
       "'cpu'"
      ]
     },
     "execution_count": 8,
     "metadata": {},
     "output_type": "execute_result"
    }
   ],
   "source": [
    "device = \"cuda\" if torch.cuda.is_available() else \"cpu\"\n",
    "device"
   ]
  },
  {
   "cell_type": "code",
   "execution_count": 49,
   "id": "550b3cc1",
   "metadata": {},
   "outputs": [
    {
     "name": "stdout",
     "output_type": "stream",
     "text": [
      "tensor([1., 2., 3., 4.])\n",
      "torch.float32\n",
      "cpu\n",
      "torch.Size([4])\n",
      "False\n"
     ]
    }
   ],
   "source": [
    "my_tensor = torch.tensor([1, 2, 3, 4], \n",
    "                         dtype=torch.float32, \n",
    "                         device=device,\n",
    "                         requires_grad=False)\n",
    "print(my_tensor)\n",
    "print(my_tensor.dtype)\n",
    "print(my_tensor.device)\n",
    "print(my_tensor.shape)\n",
    "print(my_tensor.requires_grad)"
   ]
  },
  {
   "cell_type": "code",
   "execution_count": 5,
   "id": "6b407077",
   "metadata": {},
   "outputs": [
    {
     "data": {
      "text/plain": [
       "tensor(7)"
      ]
     },
     "execution_count": 5,
     "metadata": {},
     "output_type": "execute_result"
    }
   ],
   "source": [
    "scalar = torch.tensor(7)\n",
    "scalar"
   ]
  },
  {
   "cell_type": "code",
   "execution_count": 4,
   "id": "db0fda3b",
   "metadata": {},
   "outputs": [
    {
     "data": {
      "text/plain": [
       "0"
      ]
     },
     "execution_count": 4,
     "metadata": {},
     "output_type": "execute_result"
    }
   ],
   "source": [
    "scalar.ndim"
   ]
  },
  {
   "cell_type": "code",
   "execution_count": 6,
   "id": "fcc8a39c",
   "metadata": {},
   "outputs": [
    {
     "data": {
      "text/plain": [
       "7"
      ]
     },
     "execution_count": 6,
     "metadata": {},
     "output_type": "execute_result"
    }
   ],
   "source": [
    "scalar.item()"
   ]
  },
  {
   "cell_type": "code",
   "execution_count": 11,
   "id": "80182443",
   "metadata": {},
   "outputs": [
    {
     "data": {
      "text/plain": [
       "torch.Size([])"
      ]
     },
     "execution_count": 11,
     "metadata": {},
     "output_type": "execute_result"
    }
   ],
   "source": [
    "scalar.shape"
   ]
  },
  {
   "cell_type": "code",
   "execution_count": 174,
   "id": "1481fd05",
   "metadata": {},
   "outputs": [
    {
     "data": {
      "text/plain": [
       "tensor([3, 4])"
      ]
     },
     "execution_count": 174,
     "metadata": {},
     "output_type": "execute_result"
    }
   ],
   "source": [
    "vector = torch.tensor([3, 4])\n",
    "vector"
   ]
  },
  {
   "cell_type": "code",
   "execution_count": 133,
   "id": "69ad5c4f",
   "metadata": {},
   "outputs": [
    {
     "data": {
      "text/plain": [
       "1"
      ]
     },
     "execution_count": 133,
     "metadata": {},
     "output_type": "execute_result"
    }
   ],
   "source": [
    "vector.ndim"
   ]
  },
  {
   "cell_type": "code",
   "execution_count": 12,
   "id": "2c8c1b27",
   "metadata": {},
   "outputs": [
    {
     "data": {
      "text/plain": [
       "torch.Size([2])"
      ]
     },
     "execution_count": 12,
     "metadata": {},
     "output_type": "execute_result"
    }
   ],
   "source": [
    "vector.shape"
   ]
  },
  {
   "cell_type": "code",
   "execution_count": 178,
   "id": "ea66b596",
   "metadata": {},
   "outputs": [
    {
     "data": {
      "text/plain": [
       "(tensor([[1, 2],\n",
       "         [3, 4],\n",
       "         [5, 6]]),\n",
       " torch.Size([3, 2]),\n",
       " 3,\n",
       " torch.Size([3, 2]),\n",
       " 3)"
      ]
     },
     "execution_count": 178,
     "metadata": {},
     "output_type": "execute_result"
    }
   ],
   "source": [
    "matrix = torch.tensor([[1, 2], [3, 4], [5, 6]])\n",
    "matrix, matrix.shape, matrix.shape[0], matrix.size(), matrix.size(0)"
   ]
  },
  {
   "cell_type": "code",
   "execution_count": 14,
   "id": "79ea0bbe",
   "metadata": {},
   "outputs": [
    {
     "data": {
      "text/plain": [
       "2"
      ]
     },
     "execution_count": 14,
     "metadata": {},
     "output_type": "execute_result"
    }
   ],
   "source": [
    "matrix.ndim"
   ]
  },
  {
   "cell_type": "code",
   "execution_count": 15,
   "id": "1ea93bb1",
   "metadata": {},
   "outputs": [
    {
     "data": {
      "text/plain": [
       "torch.Size([3, 2])"
      ]
     },
     "execution_count": 15,
     "metadata": {},
     "output_type": "execute_result"
    }
   ],
   "source": [
    "matrix.shape"
   ]
  },
  {
   "cell_type": "code",
   "execution_count": 17,
   "id": "ca45ee2e",
   "metadata": {},
   "outputs": [
    {
     "data": {
      "text/plain": [
       "tensor(2)"
      ]
     },
     "execution_count": 17,
     "metadata": {},
     "output_type": "execute_result"
    }
   ],
   "source": [
    "matrix[0][1]"
   ]
  },
  {
   "cell_type": "code",
   "execution_count": 18,
   "id": "b171f214",
   "metadata": {},
   "outputs": [
    {
     "data": {
      "text/plain": [
       "tensor([[[ 1,  2,  3],\n",
       "         [ 4,  5,  6],\n",
       "         [ 7,  8,  9]],\n",
       "\n",
       "        [[10, 11, 12],\n",
       "         [13, 14, 15],\n",
       "         [16, 17, 18]]])"
      ]
     },
     "execution_count": 18,
     "metadata": {},
     "output_type": "execute_result"
    }
   ],
   "source": [
    "tensor = torch.tensor([\n",
    "    [\n",
    "      [1, 2, 3],\n",
    "      [4, 5, 6],\n",
    "      [7, 8, 9]\n",
    "    ],\n",
    "    [\n",
    "        [10, 11, 12],\n",
    "        [13, 14, 15],\n",
    "        [16, 17, 18]\n",
    "    ]\n",
    "])\n",
    "tensor"
   ]
  },
  {
   "cell_type": "code",
   "execution_count": 19,
   "id": "d725e156",
   "metadata": {},
   "outputs": [
    {
     "data": {
      "text/plain": [
       "3"
      ]
     },
     "execution_count": 19,
     "metadata": {},
     "output_type": "execute_result"
    }
   ],
   "source": [
    "tensor.ndim"
   ]
  },
  {
   "cell_type": "code",
   "execution_count": 21,
   "id": "f0ecfbf8",
   "metadata": {},
   "outputs": [
    {
     "data": {
      "text/plain": [
       "torch.Size([2, 3, 3])"
      ]
     },
     "execution_count": 21,
     "metadata": {},
     "output_type": "execute_result"
    }
   ],
   "source": [
    "tensor.shape"
   ]
  },
  {
   "cell_type": "code",
   "execution_count": 23,
   "id": "2baaba98",
   "metadata": {},
   "outputs": [
    {
     "data": {
      "text/plain": [
       "tensor([[1, 2, 3],\n",
       "        [4, 5, 6],\n",
       "        [7, 8, 9]])"
      ]
     },
     "execution_count": 23,
     "metadata": {},
     "output_type": "execute_result"
    }
   ],
   "source": [
    "tensor[0]"
   ]
  },
  {
   "cell_type": "code",
   "execution_count": 25,
   "id": "824e400f",
   "metadata": {},
   "outputs": [
    {
     "data": {
      "text/plain": [
       "torch.Size([3, 3])"
      ]
     },
     "execution_count": 25,
     "metadata": {},
     "output_type": "execute_result"
    }
   ],
   "source": [
    "tensor[0].shape"
   ]
  },
  {
   "cell_type": "code",
   "execution_count": 27,
   "id": "f3444dc1",
   "metadata": {},
   "outputs": [
    {
     "data": {
      "text/plain": [
       "9142274306024453846"
      ]
     },
     "execution_count": 27,
     "metadata": {},
     "output_type": "execute_result"
    }
   ],
   "source": [
    "torch.seed()"
   ]
  },
  {
   "cell_type": "code",
   "execution_count": 17,
   "id": "fe2e9edc",
   "metadata": {},
   "outputs": [
    {
     "data": {
      "text/plain": [
       "tensor([[0.0418, 0.9044, 0.3415],\n",
       "        [0.4456, 0.5843, 0.8203]])"
      ]
     },
     "execution_count": 17,
     "metadata": {},
     "output_type": "execute_result"
    }
   ],
   "source": [
    "# Initilizes a 2 x 3 matrix with values from a uniform distribution in the interval 0 and 1\n",
    "random_ten = torch.rand(2, 3)\n",
    "random_ten"
   ]
  },
  {
   "cell_type": "code",
   "execution_count": 15,
   "id": "10f584dd",
   "metadata": {},
   "outputs": [
    {
     "data": {
      "text/plain": [
       "tensor([[[0.0861, 0.4304, 0.7414],\n",
       "         [0.0043, 0.0617, 0.9759],\n",
       "         [0.1169, 0.9636, 0.3015],\n",
       "         ...,\n",
       "         [0.8511, 0.4184, 0.1025],\n",
       "         [0.2835, 0.4853, 0.8447],\n",
       "         [0.4642, 0.4922, 0.6898]],\n",
       "\n",
       "        [[0.7302, 0.7550, 0.0224],\n",
       "         [0.8113, 0.0515, 0.4935],\n",
       "         [0.0553, 0.0152, 0.8865],\n",
       "         ...,\n",
       "         [0.4499, 0.4243, 0.7271],\n",
       "         [0.1171, 0.5352, 0.1077],\n",
       "         [0.1378, 0.7569, 0.3838]],\n",
       "\n",
       "        [[0.1410, 0.7535, 0.2243],\n",
       "         [0.4570, 0.3784, 0.1504],\n",
       "         [0.7367, 0.2403, 0.4862],\n",
       "         ...,\n",
       "         [0.9857, 0.6892, 0.9984],\n",
       "         [0.0191, 0.3054, 0.2712],\n",
       "         [0.8671, 0.3491, 0.8803]],\n",
       "\n",
       "        ...,\n",
       "\n",
       "        [[0.9041, 0.1340, 0.8501],\n",
       "         [0.4060, 0.0228, 0.5797],\n",
       "         [0.1723, 0.1655, 0.9708],\n",
       "         ...,\n",
       "         [0.2878, 0.5997, 0.1605],\n",
       "         [0.7654, 0.7536, 0.8896],\n",
       "         [0.9905, 0.2637, 0.3123]],\n",
       "\n",
       "        [[0.8565, 0.2161, 0.8834],\n",
       "         [0.9009, 0.7175, 0.7054],\n",
       "         [0.6402, 0.1171, 0.8281],\n",
       "         ...,\n",
       "         [0.8083, 0.4564, 0.3239],\n",
       "         [0.9992, 0.3105, 0.6043],\n",
       "         [0.5011, 0.4051, 0.8933]],\n",
       "\n",
       "        [[0.2977, 0.1888, 0.2197],\n",
       "         [0.5423, 0.8827, 0.7397],\n",
       "         [0.2645, 0.1551, 0.6458],\n",
       "         ...,\n",
       "         [0.8529, 0.4273, 0.8223],\n",
       "         [0.8771, 0.1830, 0.1770],\n",
       "         [0.5121, 0.1557, 0.1590]]])"
      ]
     },
     "execution_count": 15,
     "metadata": {},
     "output_type": "execute_result"
    }
   ],
   "source": [
    "img_tensor = torch.rand(size=(224, 224, 3))\n",
    "img_tensor"
   ]
  },
  {
   "cell_type": "code",
   "execution_count": 16,
   "id": "82412ac6",
   "metadata": {},
   "outputs": [
    {
     "data": {
      "text/plain": [
       "tensor([[0., 0., 0.],\n",
       "        [0., 0., 0.],\n",
       "        [0., 0., 0.]])"
      ]
     },
     "execution_count": 16,
     "metadata": {},
     "output_type": "execute_result"
    }
   ],
   "source": [
    "empty = torch.empty(size=(3, 3))\n",
    "empty"
   ]
  },
  {
   "cell_type": "code",
   "execution_count": 47,
   "id": "5c6209f6",
   "metadata": {},
   "outputs": [
    {
     "data": {
      "text/plain": [
       "tensor([[0., 0., 0., 0.],\n",
       "        [0., 0., 0., 0.]])"
      ]
     },
     "execution_count": 47,
     "metadata": {},
     "output_type": "execute_result"
    }
   ],
   "source": [
    "zeroes = torch.zeros(2, 4)\n",
    "zeroes"
   ]
  },
  {
   "cell_type": "code",
   "execution_count": 49,
   "id": "16a2f647",
   "metadata": {},
   "outputs": [
    {
     "data": {
      "text/plain": [
       "tensor([[1., 1., 1., 1.],\n",
       "        [1., 1., 1., 1.]])"
      ]
     },
     "execution_count": 49,
     "metadata": {},
     "output_type": "execute_result"
    }
   ],
   "source": [
    "ones = torch.ones(2, 4)\n",
    "ones"
   ]
  },
  {
   "cell_type": "code",
   "execution_count": 50,
   "id": "1af1a88c",
   "metadata": {},
   "outputs": [
    {
     "data": {
      "text/plain": [
       "tensor([[0., 0., 0., 0.],\n",
       "        [0., 0., 0., 0.]])"
      ]
     },
     "execution_count": 50,
     "metadata": {},
     "output_type": "execute_result"
    }
   ],
   "source": [
    "zeroes * ones"
   ]
  },
  {
   "cell_type": "code",
   "execution_count": 51,
   "id": "b92c29ff",
   "metadata": {},
   "outputs": [
    {
     "data": {
      "text/plain": [
       "torch.float32"
      ]
     },
     "execution_count": 51,
     "metadata": {},
     "output_type": "execute_result"
    }
   ],
   "source": [
    "ones.dtype"
   ]
  },
  {
   "cell_type": "code",
   "execution_count": 19,
   "id": "ea905c4c",
   "metadata": {},
   "outputs": [
    {
     "data": {
      "text/plain": [
       "tensor([[1., 0., 0.],\n",
       "        [0., 1., 0.],\n",
       "        [0., 0., 1.]])"
      ]
     },
     "execution_count": 19,
     "metadata": {},
     "output_type": "execute_result"
    }
   ],
   "source": [
    "# Identity matrix (I)\n",
    "identity = torch.eye(3, 3)\n",
    "identity"
   ]
  },
  {
   "cell_type": "code",
   "execution_count": 28,
   "id": "6ca44f6c",
   "metadata": {},
   "outputs": [
    {
     "data": {
      "text/plain": [
       "tensor([[1., 0., 0.],\n",
       "        [0., 1., 0.],\n",
       "        [0., 0., 1.]])"
      ]
     },
     "execution_count": 28,
     "metadata": {},
     "output_type": "execute_result"
    }
   ],
   "source": [
    "diagonal = torch.diag(torch.ones(3))\n",
    "diagonal"
   ]
  },
  {
   "cell_type": "code",
   "execution_count": 62,
   "id": "11e79f67",
   "metadata": {},
   "outputs": [
    {
     "data": {
      "text/plain": [
       "tensor([ 2,  4,  6,  8, 10, 12, 14, 16, 18, 20])"
      ]
     },
     "execution_count": 62,
     "metadata": {},
     "output_type": "execute_result"
    }
   ],
   "source": [
    "torch.arange(start=2, end=21, step=2)"
   ]
  },
  {
   "cell_type": "code",
   "execution_count": 21,
   "id": "4433d20a",
   "metadata": {},
   "outputs": [
    {
     "data": {
      "text/plain": [
       "tensor([0.1000, 0.2000, 0.3000, 0.4000, 0.5000, 0.6000, 0.7000, 0.8000, 0.9000,\n",
       "        1.0000])"
      ]
     },
     "execution_count": 21,
     "metadata": {},
     "output_type": "execute_result"
    }
   ],
   "source": [
    "torch.linspace(start=0.1, end=1, steps=10) # 10 values between 0.1 and 1"
   ]
  },
  {
   "cell_type": "code",
   "execution_count": 63,
   "id": "933b0647",
   "metadata": {},
   "outputs": [
    {
     "data": {
      "text/plain": [
       "tensor([[0., 0., 0.],\n",
       "        [0., 0., 0.],\n",
       "        [0., 0., 0.]])"
      ]
     },
     "execution_count": 63,
     "metadata": {},
     "output_type": "execute_result"
    }
   ],
   "source": [
    "torch.zeros_like(identity)"
   ]
  },
  {
   "cell_type": "code",
   "execution_count": 24,
   "id": "fef90a37",
   "metadata": {},
   "outputs": [
    {
     "data": {
      "text/plain": [
       "tensor([[ 1.9598, -2.1323, -0.2340, -1.7366,  1.1864]])"
      ]
     },
     "execution_count": 24,
     "metadata": {},
     "output_type": "execute_result"
    }
   ],
   "source": [
    "# Creates a 1 x 5 tensor with normally distributed values with a mean of 0 and standard deviation of 1\n",
    "normal = torch.empty(size=(1, 5)).normal_(mean=0, std=1)\n",
    "normal"
   ]
  },
  {
   "cell_type": "code",
   "execution_count": 39,
   "id": "5600deec",
   "metadata": {},
   "outputs": [
    {
     "data": {
      "text/plain": [
       "(tensor([[0.2234, 0.8457, 0.4750, 0.9848, 0.4335]]), torch.float32)"
      ]
     },
     "execution_count": 39,
     "metadata": {},
     "output_type": "execute_result"
    }
   ],
   "source": [
    "# Creates a 1 x 5 tensor with uniformly distributed values \n",
    "# with a lower value of 0 and upper value of 1 for the uniform distribution\n",
    "uniform = torch.empty(size=(1, 5)).uniform_(0, 1) # lower of 0 and upper value of 1 for the uniform distribution\n",
    "uniform, uniform.dtype"
   ]
  },
  {
   "cell_type": "code",
   "execution_count": 42,
   "id": "4869d99c",
   "metadata": {},
   "outputs": [
    {
     "name": "stdout",
     "output_type": "stream",
     "text": [
      "tensor([0, 1, 2, 3, 4, 5]) torch.int64\n",
      "tensor([False,  True,  True,  True,  True,  True])\n",
      "tensor([0, 1, 2, 3, 4, 5], dtype=torch.int16)\n",
      "tensor([0, 1, 2, 3, 4, 5])\n",
      "tensor([0., 1., 2., 3., 4., 5.], dtype=torch.float16)\n",
      "tensor([0., 1., 2., 3., 4., 5.])\n",
      "tensor([0., 1., 2., 3., 4., 5.], dtype=torch.float64)\n"
     ]
    }
   ],
   "source": [
    "tensor = torch.arange(6)\n",
    "print(tensor, tensor.dtype)\n",
    "\n",
    "print(tensor.bool())  # converts tensor to boolean values\n",
    "print(tensor.short()) # converts to int16\n",
    "print(tensor.long())  # converts to int64\n",
    "print(tensor.half())  # converts to float16\n",
    "print(tensor.float()) # converts to float32\n",
    "print(tensor.double()) # converts to float64"
   ]
  },
  {
   "cell_type": "code",
   "execution_count": 46,
   "id": "a745e63f",
   "metadata": {},
   "outputs": [
    {
     "data": {
      "text/plain": [
       "tensor([3, 4, 5, 6], dtype=torch.int32)"
      ]
     },
     "execution_count": 46,
     "metadata": {},
     "output_type": "execute_result"
    }
   ],
   "source": [
    "int32_tensor = torch.tensor([3, 4, 5, 6], dtype=torch.int32)\n",
    "int32_tensor"
   ]
  },
  {
   "cell_type": "code",
   "execution_count": 47,
   "id": "2b0cd6d9",
   "metadata": {},
   "outputs": [
    {
     "data": {
      "text/plain": [
       "(tensor([3, 4, 5, 6]), torch.int64)"
      ]
     },
     "execution_count": 47,
     "metadata": {},
     "output_type": "execute_result"
    }
   ],
   "source": [
    "# Convert int32 tensor to int64 tensor\n",
    "int64_tensor = int32_tensor.type(torch.int64)\n",
    "int64_tensor, int64_tensor.dtype"
   ]
  },
  {
   "cell_type": "code",
   "execution_count": 73,
   "id": "d82dbe20",
   "metadata": {},
   "outputs": [
    {
     "data": {
      "text/plain": [
       "tensor([[3],\n",
       "        [4],\n",
       "        [5],\n",
       "        [6]])"
      ]
     },
     "execution_count": 73,
     "metadata": {},
     "output_type": "execute_result"
    }
   ],
   "source": [
    "int64.reshape(-1, 1)"
   ]
  },
  {
   "cell_type": "code",
   "execution_count": 74,
   "id": "e9c621d1",
   "metadata": {},
   "outputs": [
    {
     "data": {
      "text/plain": [
       "device(type='cpu')"
      ]
     },
     "execution_count": 74,
     "metadata": {},
     "output_type": "execute_result"
    }
   ],
   "source": [
    "int64.device"
   ]
  },
  {
   "cell_type": "code",
   "execution_count": 76,
   "id": "0f499423",
   "metadata": {},
   "outputs": [
    {
     "data": {
      "text/plain": [
       "torch.Size([4])"
      ]
     },
     "execution_count": 76,
     "metadata": {},
     "output_type": "execute_result"
    }
   ],
   "source": [
    "int64.size()"
   ]
  },
  {
   "cell_type": "code",
   "execution_count": 77,
   "id": "07777105",
   "metadata": {},
   "outputs": [
    {
     "data": {
      "text/plain": [
       "tensor([[1., 1., 1., 1.],\n",
       "        [1., 1., 1., 1.]])"
      ]
     },
     "execution_count": 77,
     "metadata": {},
     "output_type": "execute_result"
    }
   ],
   "source": [
    "ones"
   ]
  },
  {
   "cell_type": "code",
   "execution_count": 78,
   "id": "15e62588",
   "metadata": {},
   "outputs": [
    {
     "data": {
      "text/plain": [
       "tensor([[3., 3., 3., 3.],\n",
       "        [3., 3., 3., 3.]])"
      ]
     },
     "execution_count": 78,
     "metadata": {},
     "output_type": "execute_result"
    }
   ],
   "source": [
    "ones + 2"
   ]
  },
  {
   "cell_type": "code",
   "execution_count": 91,
   "id": "96f409b4",
   "metadata": {},
   "outputs": [
    {
     "name": "stdout",
     "output_type": "stream",
     "text": [
      "tensor([[2, 4, 5, 6]])\n"
     ]
    },
    {
     "data": {
      "text/plain": [
       "tensor([[2., 4., 5., 6.],\n",
       "        [2., 4., 5., 6.]])"
      ]
     },
     "execution_count": 91,
     "metadata": {},
     "output_type": "execute_result"
    }
   ],
   "source": [
    "a = torch.tensor([[2, 4, 5, 6]])\n",
    "print(a)\n",
    "ones * a\n"
   ]
  },
  {
   "cell_type": "code",
   "execution_count": 98,
   "id": "f08996f3",
   "metadata": {},
   "outputs": [
    {
     "data": {
      "text/plain": [
       "tensor([[1],\n",
       "        [2],\n",
       "        [3]])"
      ]
     },
     "execution_count": 98,
     "metadata": {},
     "output_type": "execute_result"
    }
   ],
   "source": [
    "a = torch.tensor([1, 2, 3])\n",
    "b = torch.tensor([4, 5, 6])\n",
    "a.reshape(-1, 1)"
   ]
  },
  {
   "cell_type": "code",
   "execution_count": 100,
   "id": "d9370401",
   "metadata": {},
   "outputs": [
    {
     "name": "stdout",
     "output_type": "stream",
     "text": [
      "CPU times: user 800 µs, sys: 233 µs, total: 1.03 ms\n",
      "Wall time: 836 µs\n"
     ]
    },
    {
     "data": {
      "text/plain": [
       "tensor([[ 4,  5,  6],\n",
       "        [ 8, 10, 12],\n",
       "        [12, 15, 18]])"
      ]
     },
     "execution_count": 100,
     "metadata": {},
     "output_type": "execute_result"
    }
   ],
   "source": [
    "%%time\n",
    "torch.matmul(a.reshape(-1, 1), b.reshape(1, 3))"
   ]
  },
  {
   "cell_type": "code",
   "execution_count": 102,
   "id": "cb0a51d2",
   "metadata": {},
   "outputs": [
    {
     "data": {
      "text/plain": [
       "tensor(32)"
      ]
     },
     "execution_count": 102,
     "metadata": {},
     "output_type": "execute_result"
    }
   ],
   "source": [
    "b @ a"
   ]
  },
  {
   "cell_type": "code",
   "execution_count": 107,
   "id": "7f4d31ea",
   "metadata": {},
   "outputs": [
    {
     "data": {
      "text/plain": [
       "tensor([[32]])"
      ]
     },
     "execution_count": 107,
     "metadata": {},
     "output_type": "execute_result"
    }
   ],
   "source": [
    "torch.mm(a.reshape(-1, 1).T, b.reshape(-1, 1))"
   ]
  },
  {
   "cell_type": "code",
   "execution_count": 109,
   "id": "dfc3506b",
   "metadata": {},
   "outputs": [
    {
     "data": {
      "text/plain": [
       "tensor([[0.1570, 0.7430],\n",
       "        [0.5915, 0.7914],\n",
       "        [0.4836, 0.5175]])"
      ]
     },
     "execution_count": 109,
     "metadata": {},
     "output_type": "execute_result"
    }
   ],
   "source": [
    "rand = torch.rand(3,2)\n",
    "rand"
   ]
  },
  {
   "cell_type": "code",
   "execution_count": 110,
   "id": "d33b217d",
   "metadata": {},
   "outputs": [
    {
     "data": {
      "text/plain": [
       "tensor([[0.1570, 0.5915, 0.4836],\n",
       "        [0.7430, 0.7914, 0.5175]])"
      ]
     },
     "execution_count": 110,
     "metadata": {},
     "output_type": "execute_result"
    }
   ],
   "source": [
    "rand.T"
   ]
  },
  {
   "cell_type": "code",
   "execution_count": 112,
   "id": "19de4e5b",
   "metadata": {},
   "outputs": [
    {
     "data": {
      "text/plain": [
       "tensor([[1., 1., 1., 1.],\n",
       "        [1., 1., 1., 1.],\n",
       "        [1., 1., 1., 1.]])"
      ]
     },
     "execution_count": 112,
     "metadata": {},
     "output_type": "execute_result"
    }
   ],
   "source": [
    "ones = torch.ones(3, 4)\n",
    "ones"
   ]
  },
  {
   "cell_type": "code",
   "execution_count": 126,
   "id": "d467b5a3",
   "metadata": {},
   "outputs": [
    {
     "data": {
      "text/plain": [
       "tensor([[0],\n",
       "        [0],\n",
       "        [0]])"
      ]
     },
     "execution_count": 126,
     "metadata": {},
     "output_type": "execute_result"
    }
   ],
   "source": [
    "torch.max(ones, axis=1, keepdims=True)"
   ]
  },
  {
   "cell_type": "code",
   "execution_count": null,
   "id": "f4461393",
   "metadata": {},
   "outputs": [],
   "source": []
  },
  {
   "cell_type": "code",
   "execution_count": 144,
   "id": "ded57ee1",
   "metadata": {},
   "outputs": [
    {
     "data": {
      "text/plain": [
       "tensor([[1., 2., 1., 1.],\n",
       "        [1., 1., 1., 8.],\n",
       "        [9., 1., 1., 2.]])"
      ]
     },
     "execution_count": 144,
     "metadata": {},
     "output_type": "execute_result"
    }
   ],
   "source": [
    "a = torch.tensor([\n",
    "        [1., 2., 1., 1.],\n",
    "        [1., 1., 1., 8.],\n",
    "        [9., 1., 1., 2.]])\n",
    "a"
   ]
  },
  {
   "cell_type": "code",
   "execution_count": 130,
   "id": "846396f1",
   "metadata": {},
   "outputs": [
    {
     "data": {
      "text/plain": [
       "tensor([2, 0, 0, 1])"
      ]
     },
     "execution_count": 130,
     "metadata": {},
     "output_type": "execute_result"
    }
   ],
   "source": [
    "a.argmax(axis=0)"
   ]
  },
  {
   "cell_type": "code",
   "execution_count": 131,
   "id": "ec08d173",
   "metadata": {},
   "outputs": [
    {
     "data": {
      "text/plain": [
       "tensor([1, 3, 0])"
      ]
     },
     "execution_count": 131,
     "metadata": {},
     "output_type": "execute_result"
    }
   ],
   "source": [
    "a.argmax(axis=1)"
   ]
  },
  {
   "cell_type": "code",
   "execution_count": 132,
   "id": "9dd7a5f2",
   "metadata": {},
   "outputs": [
    {
     "data": {
      "text/plain": [
       "tensor(2.4167)"
      ]
     },
     "execution_count": 132,
     "metadata": {},
     "output_type": "execute_result"
    }
   ],
   "source": [
    "a.mean()"
   ]
  },
  {
   "cell_type": "code",
   "execution_count": 133,
   "id": "57b1e8b0",
   "metadata": {},
   "outputs": [
    {
     "data": {
      "text/plain": [
       "tensor([[1., 2., 1., 1.],\n",
       "        [1., 1., 1., 8.],\n",
       "        [9., 1., 1., 2.]])"
      ]
     },
     "execution_count": 133,
     "metadata": {},
     "output_type": "execute_result"
    }
   ],
   "source": [
    "a"
   ]
  },
  {
   "cell_type": "code",
   "execution_count": 134,
   "id": "70cda533",
   "metadata": {},
   "outputs": [
    {
     "data": {
      "text/plain": [
       "tensor([[1., 2., 1.],\n",
       "        [1., 1., 1.],\n",
       "        [1., 8., 9.],\n",
       "        [1., 1., 2.]])"
      ]
     },
     "execution_count": 134,
     "metadata": {},
     "output_type": "execute_result"
    }
   ],
   "source": [
    "a.reshape(4, 3)"
   ]
  },
  {
   "cell_type": "code",
   "execution_count": 145,
   "id": "48243b82",
   "metadata": {},
   "outputs": [
    {
     "data": {
      "text/plain": [
       "tensor([[1., 2., 1.],\n",
       "        [1., 1., 1.],\n",
       "        [1., 8., 9.],\n",
       "        [1., 1., 2.]])"
      ]
     },
     "execution_count": 145,
     "metadata": {},
     "output_type": "execute_result"
    }
   ],
   "source": [
    "# View is jsut a view into the origional tesnor, so modifying view\n",
    "# will change the underlying or original tensor. While reshape creates \n",
    "# a brand new tensor of the specified shape\n",
    "view = a.view(4, 3)\n",
    "view"
   ]
  },
  {
   "cell_type": "code",
   "execution_count": 146,
   "id": "9ed2459e",
   "metadata": {},
   "outputs": [],
   "source": [
    "# Modifying view will modify the undelying or original tensor.\n",
    "view[0][0] = -9999"
   ]
  },
  {
   "cell_type": "code",
   "execution_count": 147,
   "id": "525ad525",
   "metadata": {},
   "outputs": [
    {
     "data": {
      "text/plain": [
       "tensor([[-9.9990e+03,  2.1120e+03,  1.0000e+00],\n",
       "        [ 2.1110e+03,  2.1110e+03,  1.0000e+00],\n",
       "        [ 2.1110e+03,  2.1180e+03,  9.0000e+00],\n",
       "        [ 2.1110e+03,  2.1110e+03,  2.0000e+00]])"
      ]
     },
     "execution_count": 147,
     "metadata": {},
     "output_type": "execute_result"
    }
   ],
   "source": [
    "view"
   ]
  },
  {
   "cell_type": "code",
   "execution_count": 148,
   "id": "33dd7dcc",
   "metadata": {},
   "outputs": [
    {
     "data": {
      "text/plain": [
       "tensor([[-9.9990e+03,  2.1120e+03,  1.0000e+00,  2.1110e+03],\n",
       "        [ 2.1110e+03,  1.0000e+00,  2.1110e+03,  2.1180e+03],\n",
       "        [ 9.0000e+00,  2.1110e+03,  2.1110e+03,  2.0000e+00]])"
      ]
     },
     "execution_count": 148,
     "metadata": {},
     "output_type": "execute_result"
    }
   ],
   "source": [
    "# Modifying view above modifies the underlying tensor.\n",
    "a"
   ]
  },
  {
   "cell_type": "code",
   "execution_count": 149,
   "id": "e6a9eabb",
   "metadata": {},
   "outputs": [],
   "source": [
    "a = torch.tensor([\n",
    "        [1., 2., 1., 1.],\n",
    "        [1., 1., 1., 8.],\n",
    "        [9., 1., 1., 2.]\n",
    "])"
   ]
  },
  {
   "cell_type": "code",
   "execution_count": 169,
   "id": "82a563be",
   "metadata": {},
   "outputs": [
    {
     "data": {
      "text/plain": [
       "tensor([[1., 1.],\n",
       "        [1., 1.]])"
      ]
     },
     "execution_count": 169,
     "metadata": {},
     "output_type": "execute_result"
    }
   ],
   "source": [
    "b = torch.ones(2, 2)\n",
    "b"
   ]
  },
  {
   "cell_type": "code",
   "execution_count": 174,
   "id": "ddee9c6a",
   "metadata": {},
   "outputs": [],
   "source": [
    "c = torch.stack([b, b], dim=1)"
   ]
  },
  {
   "cell_type": "code",
   "execution_count": 175,
   "id": "7bb5df5b",
   "metadata": {},
   "outputs": [
    {
     "data": {
      "text/plain": [
       "torch.Size([2, 2, 2])"
      ]
     },
     "execution_count": 175,
     "metadata": {},
     "output_type": "execute_result"
    }
   ],
   "source": [
    "c.shape"
   ]
  },
  {
   "cell_type": "code",
   "execution_count": 146,
   "id": "8bd0c6b9",
   "metadata": {},
   "outputs": [
    {
     "name": "stdout",
     "output_type": "stream",
     "text": [
      "torch.Size([4, 5])\n",
      "torch.Size([2, 10])\n"
     ]
    }
   ],
   "source": [
    "# Moving on to another operation, let's say we want to add two tensors dimensions togethor\n",
    "x1 = torch.rand(2, 5)\n",
    "x2 = torch.rand(2, 5)\n",
    "print(torch.cat((x1, x2), dim=0).shape)  # Shape: 4x5\n",
    "print(torch.cat((x1, x2), dim=1).shape)  # Shape 2x10"
   ]
  },
  {
   "cell_type": "code",
   "execution_count": 149,
   "id": "f9b4ba17",
   "metadata": {},
   "outputs": [
    {
     "data": {
      "text/plain": [
       "(torch.Size([10]),\n",
       " tensor([0.7071, 0.6581, 0.4913, 0.8913, 0.1447, 0.5315, 0.1587, 0.6542, 0.3278,\n",
       "         0.6532]))"
      ]
     },
     "execution_count": 149,
     "metadata": {},
     "output_type": "execute_result"
    }
   ],
   "source": [
    "x1 = torch.rand(2, 5)\n",
    "# Let's say we want to unroll x1 into one long vector with 10 elements, we can do:\n",
    "z = x1.view(-1)  # And -1 will unroll everything\n",
    "z.shape, z"
   ]
  },
  {
   "cell_type": "code",
   "execution_count": 150,
   "id": "259f67a5",
   "metadata": {},
   "outputs": [
    {
     "data": {
      "text/plain": [
       "torch.Size([64, 10])"
      ]
     },
     "execution_count": 150,
     "metadata": {},
     "output_type": "execute_result"
    }
   ],
   "source": [
    "# If we instead have an additional dimension and we wish to keep those as is we can do:\n",
    "batch = 64\n",
    "x = torch.rand((batch, 2, 5))\n",
    "z = x.view(\n",
    "    batch, -1\n",
    ")  # And z.shape would be 64x10, this is very useful stuff and is used all the time\n",
    "\n",
    "z.shape"
   ]
  },
  {
   "cell_type": "code",
   "execution_count": 153,
   "id": "ec4fa35c",
   "metadata": {},
   "outputs": [
    {
     "data": {
      "text/plain": [
       "torch.Size([64, 5, 2])"
      ]
     },
     "execution_count": 153,
     "metadata": {},
     "output_type": "execute_result"
    }
   ],
   "source": [
    "# Let's say we want to switch x axis so that instead of 64x2x5 we have 64x5x2\n",
    "# I.e we want dimension 0 to stay, dimension 1 to become dimension 2, dimension 2 to become dimension 1\n",
    "# Basically you tell permute where you want the new dimensions to be, torch.transpose is a special case\n",
    "# of permute (why?)\n",
    "\n",
    "x = torch.rand((64, 2, 5))\n",
    "\n",
    "z = x.permute(0, 2, 1)\n",
    "z.shape"
   ]
  },
  {
   "cell_type": "code",
   "execution_count": 154,
   "id": "a1621dab",
   "metadata": {},
   "outputs": [
    {
     "name": "stdout",
     "output_type": "stream",
     "text": [
      "torch.Size([1, 10])\n",
      "torch.Size([10, 1])\n"
     ]
    }
   ],
   "source": [
    "# Let's say we want to add an additional dimension\n",
    "x = torch.arange(10)  # Shape is [10], \n",
    "# let's say we want to add an additional so we have 1x10\n",
    "print(x.unsqueeze(0).shape)  # 1x10\n",
    "print(x.unsqueeze(1).shape)  # 10x1"
   ]
  },
  {
   "cell_type": "code",
   "execution_count": 158,
   "id": "dada39e0",
   "metadata": {},
   "outputs": [
    {
     "data": {
      "text/plain": [
       "torch.Size([1, 1, 10])"
      ]
     },
     "execution_count": 158,
     "metadata": {},
     "output_type": "execute_result"
    }
   ],
   "source": [
    "x = torch.arange(10).unsqueeze(0).unsqueeze(1)\n",
    "x.shape"
   ]
  },
  {
   "cell_type": "code",
   "execution_count": 161,
   "id": "c2d81732",
   "metadata": {},
   "outputs": [
    {
     "data": {
      "text/plain": [
       "torch.Size([1, 10])"
      ]
     },
     "execution_count": 161,
     "metadata": {},
     "output_type": "execute_result"
    }
   ],
   "source": [
    "# Let's say we have x which is 1x1x10 and we want to remove a dim so we have 1x10\n",
    "x = torch.arange(10).unsqueeze(0).unsqueeze(1) # 1x1x10\n",
    "\n",
    "# Perhaps unsurprisingly\n",
    "z = x.squeeze(1)  # can also do .squeeze(0) both returns 1x10\n",
    "z.shape"
   ]
  },
  {
   "cell_type": "code",
   "execution_count": 180,
   "id": "77682ef9",
   "metadata": {},
   "outputs": [
    {
     "data": {
      "text/plain": [
       "torch.Size([1, 3])"
      ]
     },
     "execution_count": 180,
     "metadata": {},
     "output_type": "execute_result"
    }
   ],
   "source": [
    "a = torch.tensor([[1, 2, 3]])\n",
    "a.shape"
   ]
  },
  {
   "cell_type": "code",
   "execution_count": 183,
   "id": "4c2e5610",
   "metadata": {},
   "outputs": [
    {
     "data": {
      "text/plain": [
       "tensor([1, 2, 3])"
      ]
     },
     "execution_count": 183,
     "metadata": {},
     "output_type": "execute_result"
    }
   ],
   "source": [
    "b = a.squeeze()\n",
    "b"
   ]
  },
  {
   "cell_type": "code",
   "execution_count": 187,
   "id": "a817870f",
   "metadata": {},
   "outputs": [
    {
     "data": {
      "text/plain": [
       "tensor([[1],\n",
       "        [2],\n",
       "        [3]])"
      ]
     },
     "execution_count": 187,
     "metadata": {},
     "output_type": "execute_result"
    }
   ],
   "source": [
    "b.unsqueeze(dim=1)"
   ]
  },
  {
   "cell_type": "code",
   "execution_count": 171,
   "id": "fa11462b",
   "metadata": {},
   "outputs": [
    {
     "name": "stdout",
     "output_type": "stream",
     "text": [
      "Chunk for dim=2\n",
      "2\n",
      "torch.Size([64, 2, 3])\n",
      "torch.Size([64, 2, 2])\n",
      "----------------------------------------\n",
      "Chunk for dim=0\n",
      "2\n",
      "torch.Size([32, 2, 5])\n",
      "torch.Size([32, 2, 5])\n",
      "----------------------------------------\n",
      "Chunk for dim=1\n",
      "2\n",
      "torch.Size([64, 1, 5])\n",
      "torch.Size([64, 1, 5])\n"
     ]
    }
   ],
   "source": [
    "x = torch.rand((64, 2, 5))\n",
    "\n",
    "# Splits x last dimension into chunks of 2 (since 5 is not integer div by 2) the last dimension\n",
    "# will be smaller, so it will split it into two tensors: 64x2x3 and 64x2x2\n",
    "z = torch.chunk(x, chunks=2, dim=2)\n",
    "print(\"Chunk for dim=2\")\n",
    "print(len(z))\n",
    "print(z[0].shape)\n",
    "print(z[1].shape)\n",
    "\n",
    "z = torch.chunk(x, chunks=2, dim=0)\n",
    "print(\"----\"*10)\n",
    "print(\"Chunk for dim=0\")\n",
    "print(len(z))\n",
    "print(z[0].shape)\n",
    "print(z[1].shape)\n",
    "\n",
    "z = torch.chunk(x, chunks=2, dim=1)\n",
    "print(\"----\"*10)\n",
    "print(\"Chunk for dim=1\")\n",
    "print(len(z))\n",
    "print(z[0].shape)\n",
    "print(z[1].shape)"
   ]
  },
  {
   "cell_type": "code",
   "execution_count": null,
   "id": "fa02b605",
   "metadata": {},
   "outputs": [],
   "source": []
  },
  {
   "cell_type": "code",
   "execution_count": null,
   "id": "d2936fa6",
   "metadata": {},
   "outputs": [],
   "source": []
  },
  {
   "cell_type": "code",
   "execution_count": 43,
   "id": "9520e4b8",
   "metadata": {},
   "outputs": [
    {
     "data": {
      "text/plain": [
       "array([1, 3, 5, 7, 9])"
      ]
     },
     "execution_count": 43,
     "metadata": {},
     "output_type": "execute_result"
    }
   ],
   "source": [
    "array = np.arange(1, 10, 2)\n",
    "array"
   ]
  },
  {
   "cell_type": "code",
   "execution_count": 44,
   "id": "f5ccbe19",
   "metadata": {},
   "outputs": [
    {
     "data": {
      "text/plain": [
       "tensor([1, 3, 5, 7, 9])"
      ]
     },
     "execution_count": 44,
     "metadata": {},
     "output_type": "execute_result"
    }
   ],
   "source": [
    "torch_arr = torch.from_numpy(array)\n",
    "torch_arr"
   ]
  },
  {
   "cell_type": "code",
   "execution_count": 45,
   "id": "42fb7182",
   "metadata": {},
   "outputs": [
    {
     "data": {
      "text/plain": [
       "array([1, 3, 5, 7, 9])"
      ]
     },
     "execution_count": 45,
     "metadata": {},
     "output_type": "execute_result"
    }
   ],
   "source": [
    "numpy_arr = torch_arr.numpy()\n",
    "numpy_arr"
   ]
  },
  {
   "cell_type": "code",
   "execution_count": 210,
   "id": "76a19961",
   "metadata": {},
   "outputs": [
    {
     "name": "stdout",
     "output_type": "stream",
     "text": [
      "tensor([[0.8823],\n",
      "        [0.9150]])\n",
      "tensor([[0.3829, 0.9593]])\n"
     ]
    }
   ],
   "source": [
    "torch.manual_seed(42)\n",
    "print(torch.rand(2, 1))\n",
    "print(torch.rand(1, 2))"
   ]
  },
  {
   "cell_type": "code",
   "execution_count": 212,
   "id": "928cf2d0",
   "metadata": {},
   "outputs": [
    {
     "data": {
      "text/plain": [
       "256341790350952121"
      ]
     },
     "execution_count": 212,
     "metadata": {},
     "output_type": "execute_result"
    }
   ],
   "source": [
    "torch.seed()"
   ]
  },
  {
   "cell_type": "code",
   "execution_count": 213,
   "id": "db29ddf2",
   "metadata": {},
   "outputs": [
    {
     "data": {
      "text/plain": [
       "False"
      ]
     },
     "execution_count": 213,
     "metadata": {},
     "output_type": "execute_result"
    }
   ],
   "source": [
    "torch.cuda.is_available()"
   ]
  },
  {
   "cell_type": "code",
   "execution_count": 214,
   "id": "fa01ccd9",
   "metadata": {},
   "outputs": [
    {
     "data": {
      "text/plain": [
       "0"
      ]
     },
     "execution_count": 214,
     "metadata": {},
     "output_type": "execute_result"
    }
   ],
   "source": [
    "torch.cuda.device_count()"
   ]
  },
  {
   "cell_type": "code",
   "execution_count": 215,
   "id": "8b422064",
   "metadata": {},
   "outputs": [
    {
     "data": {
      "text/plain": [
       "'cpu'"
      ]
     },
     "execution_count": 215,
     "metadata": {},
     "output_type": "execute_result"
    }
   ],
   "source": [
    "device = \"cuda\" if torch.cuda.is_available() else \"cpu\"\n",
    "device"
   ]
  },
  {
   "cell_type": "code",
   "execution_count": 218,
   "id": "f7d3c611",
   "metadata": {},
   "outputs": [
    {
     "data": {
      "text/plain": [
       "tensor([1.4553])"
      ]
     },
     "execution_count": 218,
     "metadata": {},
     "output_type": "execute_result"
    }
   ],
   "source": [
    "torch.randn(1)"
   ]
  },
  {
   "cell_type": "code",
   "execution_count": 82,
   "id": "983c0056",
   "metadata": {},
   "outputs": [],
   "source": [
    "x = torch.tensor([1, 2, 3])\n",
    "y = torch.tensor([5, 2, 7])"
   ]
  },
  {
   "cell_type": "code",
   "execution_count": 83,
   "id": "a3ab1522",
   "metadata": {},
   "outputs": [
    {
     "data": {
      "text/plain": [
       "tensor([False,  True, False])"
      ]
     },
     "execution_count": 83,
     "metadata": {},
     "output_type": "execute_result"
    }
   ],
   "source": [
    "torch.eq(x, y) # Element wise comparison"
   ]
  },
  {
   "cell_type": "code",
   "execution_count": 54,
   "id": "c6c88c85",
   "metadata": {},
   "outputs": [],
   "source": [
    "# Addition\n",
    "z1 = torch.empty(3)\n",
    "torch.add(x, y, out=z1)\n",
    "\n",
    "# or \n",
    "z2 = torch.add(x, y)\n",
    "\n",
    "# or \n",
    "z3 = x + y\n",
    "\n",
    "# Subtraction\n",
    "z = x - y"
   ]
  },
  {
   "cell_type": "code",
   "execution_count": 56,
   "id": "80764799",
   "metadata": {},
   "outputs": [
    {
     "data": {
      "text/plain": [
       "tensor([0.2000, 0.3333, 0.4286])"
      ]
     },
     "execution_count": 56,
     "metadata": {},
     "output_type": "execute_result"
    }
   ],
   "source": [
    "# Division\n",
    "torch.true_divide(x, y) # element wise division of similar shape tensors"
   ]
  },
  {
   "cell_type": "code",
   "execution_count": 60,
   "id": "d97cdcfa",
   "metadata": {},
   "outputs": [
    {
     "name": "stdout",
     "output_type": "stream",
     "text": [
      "tensor([2, 4, 6])\n",
      "tensor([3, 6, 9])\n"
     ]
    }
   ],
   "source": [
    "# Inplace operation. Mutates the tensor inplace rather than creating a copy\n",
    "\n",
    "t = torch.tensor([1, 2, 3])\n",
    "t.add_(x)\n",
    "print(t)\n",
    "\n",
    "t += x # Inplace addition\n",
    "print(t)\n",
    "t = t +x # Not an inplace addition will create a copy\n"
   ]
  },
  {
   "cell_type": "code",
   "execution_count": 61,
   "id": "0ce3a1ab",
   "metadata": {},
   "outputs": [],
   "source": [
    "# Exponentiation\n",
    "z = x.pow(2)\n",
    "# or\n",
    "z = x ** 2"
   ]
  },
  {
   "cell_type": "code",
   "execution_count": 62,
   "id": "e5d79507",
   "metadata": {},
   "outputs": [],
   "source": [
    "# -- Matrix Multiplication --\n",
    "x1 = torch.rand((2, 5))\n",
    "x2 = torch.rand((5, 3))\n",
    "x3 = torch.mm(x1, x2)  # Matrix multiplication of x1 and x2, out shape: 2x3\n",
    "x3 = x1.mm(x2)  # Similar as line above"
   ]
  },
  {
   "cell_type": "code",
   "execution_count": 63,
   "id": "8d2fc951",
   "metadata": {},
   "outputs": [
    {
     "name": "stdout",
     "output_type": "stream",
     "text": [
      "tensor([[2.5273, 1.9222, 3.9768, 2.8776, 3.0812],\n",
      "        [3.0035, 2.2241, 4.3978, 3.1160, 3.5718],\n",
      "        [2.2797, 2.1039, 3.5684, 2.2179, 3.0192],\n",
      "        [2.2168, 1.9030, 3.5177, 2.2935, 2.8891],\n",
      "        [3.3500, 2.9312, 5.1180, 3.4360, 4.2310]])\n"
     ]
    }
   ],
   "source": [
    "# -- Matrix Exponentiation --\n",
    "matrix_exp = torch.rand(5, 5)\n",
    "print(\n",
    "    matrix_exp.matrix_power(3)\n",
    ")  # is same as matrix_exp (mm) matrix_exp (mm) matrix_exp"
   ]
  },
  {
   "cell_type": "code",
   "execution_count": 66,
   "id": "aab53659",
   "metadata": {},
   "outputs": [
    {
     "data": {
      "text/plain": [
       "tensor([ 5, 12, 21])"
      ]
     },
     "execution_count": 66,
     "metadata": {},
     "output_type": "execute_result"
    }
   ],
   "source": [
    "# -- Element wise Multiplication --\n",
    "z = x * y  # z = [9, 16, 21] = [1*9, 2*8, 3*7]\n",
    "z"
   ]
  },
  {
   "cell_type": "code",
   "execution_count": 67,
   "id": "1a431cd1",
   "metadata": {},
   "outputs": [
    {
     "data": {
      "text/plain": [
       "tensor(38)"
      ]
     },
     "execution_count": 67,
     "metadata": {},
     "output_type": "execute_result"
    }
   ],
   "source": [
    "# -- Dot product --\n",
    "z = torch.dot(x, y)  # Dot product, in this case z = 1*9 + 2*8 + 3*7\n",
    "z"
   ]
  },
  {
   "cell_type": "code",
   "execution_count": 68,
   "id": "f988b8c1",
   "metadata": {},
   "outputs": [
    {
     "data": {
      "text/plain": [
       "torch.Size([32, 10, 30])"
      ]
     },
     "execution_count": 68,
     "metadata": {},
     "output_type": "execute_result"
    }
   ],
   "source": [
    "# -- Batch Matrix Multiplication --\n",
    "batch = 32\n",
    "n = 10\n",
    "m = 20\n",
    "p = 30\n",
    "tensor1 = torch.rand((batch, n, m))\n",
    "tensor2 = torch.rand((batch, m, p))\n",
    "out_bmm = torch.bmm(tensor1, tensor2)  # Will be shape: (b x n x p)\n",
    "out_bmm.shape"
   ]
  },
  {
   "cell_type": "code",
   "execution_count": 85,
   "id": "b9089009",
   "metadata": {},
   "outputs": [
    {
     "name": "stdout",
     "output_type": "stream",
     "text": [
      "tensor([[0.5136, 0.6057, 0.4847, 0.6421, 0.7427],\n",
      "        [0.5926, 0.0698, 0.1602, 0.4507, 0.8929],\n",
      "        [0.5745, 0.7654, 0.8543, 0.7686, 0.5404],\n",
      "        [0.8259, 0.2406, 0.2763, 0.6990, 0.9031],\n",
      "        [0.3782, 0.6200, 0.1005, 0.7110, 0.1221]])\n",
      "tensor([[1.5136, 1.6057, 1.4847, 1.6421, 1.7427],\n",
      "        [1.5926, 1.0698, 1.1602, 1.4507, 1.8929],\n",
      "        [1.5745, 1.7654, 1.8543, 1.7686, 1.5404],\n",
      "        [1.8259, 1.2406, 1.2763, 1.6990, 1.9031],\n",
      "        [1.3782, 1.6200, 1.1005, 1.7110, 1.1221]])\n"
     ]
    }
   ],
   "source": [
    "# -- Example of broadcasting --\n",
    "\n",
    "# Along the rows (axis=0) (axis 0 can be thought of as the vertical axis or Y axis).\n",
    "# i.e doing the operation along the 0 or y axis\n",
    "# Along the rows means that we are adding more rows to the tensor, adding rows while walking along the\n",
    "# vertical or Y or 0 axis.\n",
    "\n",
    "# Along the columns (axis=1) (axis 1 can be thought of as the horizontal axis or X axis).\n",
    "# i.e doing the operation along the 1 or X axis\n",
    "# Along the cols means that we are adding one or more cols together, adding cols while walking along the\n",
    "# horizontal or X or 1 axis.\n",
    "\n",
    "\n",
    "\n",
    "x1 = torch.rand((5, 5))\n",
    "x2 = torch.ones((1, 5))\n",
    "z = (\n",
    "    x1 + x2\n",
    ") \n",
    "# Shape of z is 5x5: How? The 1x5 vector (x2) is added to each row in \n",
    "# the 5x5 (x1) element wise. i.e x2 element wise add to each row of x2\n",
    "\n",
    "print(x1)\n",
    "print(z)"
   ]
  },
  {
   "cell_type": "code",
   "execution_count": 74,
   "id": "55cdb465",
   "metadata": {},
   "outputs": [
    {
     "data": {
      "text/plain": [
       "tensor([[0.4324, 0.1782, 0.5311, 0.0352, 0.9085],\n",
       "        [0.9180, 0.1166, 0.6966, 0.7871, 0.0706],\n",
       "        [0.7150, 0.5632, 0.9611, 0.5270, 0.4856],\n",
       "        [0.5289, 0.6852, 0.1430, 0.8764, 0.8636],\n",
       "        [0.8717, 0.1869, 0.9536, 0.3235, 0.0133]])"
      ]
     },
     "execution_count": 74,
     "metadata": {},
     "output_type": "execute_result"
    }
   ],
   "source": [
    "z = (\n",
    "    x1**x2\n",
    ")  # Shape of z is 5x5: How? Broadcasting! Element wise exponentiation for every row\n",
    "\n",
    "z"
   ]
  },
  {
   "cell_type": "code",
   "execution_count": 88,
   "id": "5c392284",
   "metadata": {},
   "outputs": [
    {
     "data": {
      "text/plain": [
       "torch.Size([1, 5])"
      ]
     },
     "execution_count": 88,
     "metadata": {},
     "output_type": "execute_result"
    }
   ],
   "source": [
    "# Other useful tensor operations\n",
    "sum_x = torch.sum(\n",
    "    x, dim=0\n",
    ")  # Sum of x across dim=0 (which is the only dim in our case), sum_x = 6\n",
    "\n",
    "sum_x1 = torch.sum(\n",
    "    x1, dim=0, keepdims=True\n",
    ")\n",
    "sum_x1.shape"
   ]
  },
  {
   "cell_type": "code",
   "execution_count": 91,
   "id": "5c1d56b5",
   "metadata": {},
   "outputs": [
    {
     "name": "stdout",
     "output_type": "stream",
     "text": [
      "tensor([1, 2, 3])\n",
      "tensor([1, 2, 2])\n"
     ]
    }
   ],
   "source": [
    "# Other useful tensor operations\n",
    "\n",
    "values, indices = torch.max(x, dim=0)  # Can also do x.max(dim=0)\n",
    "values, indices = torch.min(x, dim=0)  # Can also do x.min(dim=0)\n",
    "abs_x = torch.abs(x)  # Returns x where abs function has been applied to every element\n",
    "z = torch.argmax(x, dim=0)  # Gets index of the maximum value. Similar to second returned value of max operation\n",
    "z = torch.argmin(x, dim=0)  # Gets index of the minimum value\n",
    "mean_x = torch.mean(x.float(), dim=0)  # mean requires x to be float\n",
    "z = torch.eq(x, y)  # Element wise comparison, in this case z = [False, True, False]\n",
    "sorted_y, indices = torch.sort(y, dim=0, descending=False) # sorted_y and indices that we need to swap so that it becomes sorted\n",
    "\n",
    "z = torch.clamp(x, min=0)\n",
    "print(z)\n",
    "# All values < 0 set to 0 and values > 0 unchanged (this is exactly ReLU function)\n",
    "# If you want to values over max_val to be clamped, do torch.clamp(x, min=min_val, max=max_val)\n",
    "\n",
    "z = torch.clamp(x, max=2)\n",
    "print(z)"
   ]
  },
  {
   "cell_type": "code",
   "execution_count": 93,
   "id": "5025ef4f",
   "metadata": {},
   "outputs": [
    {
     "name": "stdout",
     "output_type": "stream",
     "text": [
      "tensor(True)\n",
      "tensor(False)\n"
     ]
    }
   ],
   "source": [
    "x = torch.tensor([1, 0, 1, 1, 1], dtype=torch.bool)  # True/False values\n",
    "z = torch.any(x)  # will return True if atleast one vlaue in the tensor is True, can also do x.any() instead of torch.any(x)\n",
    "print(z)\n",
    "z = torch.all(\n",
    "    x\n",
    ")  # will return False (since not all are True), can also do x.all() instead of torch.all()\n",
    "   # Returns True if all the values in the Tensor are true\n",
    "print(z)"
   ]
  },
  {
   "cell_type": "markdown",
   "id": "98a17370",
   "metadata": {},
   "source": [
    " ============================================================= \n",
    "                                   Tensor Indexing                        \n",
    " ============================================================= "
   ]
  },
  {
   "cell_type": "code",
   "execution_count": 94,
   "id": "9d1bba57",
   "metadata": {},
   "outputs": [
    {
     "data": {
      "text/plain": [
       "torch.Size([10, 25])"
      ]
     },
     "execution_count": 94,
     "metadata": {},
     "output_type": "execute_result"
    }
   ],
   "source": [
    "batch_size = 10\n",
    "features = 25\n",
    "x = torch.rand((batch_size, features))\n",
    "\n",
    "x.shape"
   ]
  },
  {
   "cell_type": "code",
   "execution_count": 98,
   "id": "aafb4954",
   "metadata": {},
   "outputs": [
    {
     "data": {
      "text/plain": [
       "torch.Size([25])"
      ]
     },
     "execution_count": 98,
     "metadata": {},
     "output_type": "execute_result"
    }
   ],
   "source": [
    "# Get first examples features\n",
    "# Get first row and all cols\n",
    "x[0].shape  # shape [25], this is same as doing x[0,:]"
   ]
  },
  {
   "cell_type": "code",
   "execution_count": 99,
   "id": "b00ad3c9",
   "metadata": {},
   "outputs": [
    {
     "data": {
      "text/plain": [
       "torch.Size([10])"
      ]
     },
     "execution_count": 99,
     "metadata": {},
     "output_type": "execute_result"
    }
   ],
   "source": [
    "# Get the first feature for all examples\n",
    "# Get all rows but first col of each row\n",
    "x[:, 0].shape  # shape [10]"
   ]
  },
  {
   "cell_type": "code",
   "execution_count": 100,
   "id": "e46f01fb",
   "metadata": {},
   "outputs": [
    {
     "data": {
      "text/plain": [
       "torch.Size([10])"
      ]
     },
     "execution_count": 100,
     "metadata": {},
     "output_type": "execute_result"
    }
   ],
   "source": [
    "# For example: Want to access third example in the batch and the first ten features\n",
    "x[2, 0:10].shape  # shape: [10]"
   ]
  },
  {
   "cell_type": "code",
   "execution_count": 101,
   "id": "ca895732",
   "metadata": {},
   "outputs": [],
   "source": [
    "# For example we can use this to, assign certain elements\n",
    "x[0, 0] = 100"
   ]
  },
  {
   "cell_type": "code",
   "execution_count": 102,
   "id": "0d4074de",
   "metadata": {},
   "outputs": [
    {
     "name": "stdout",
     "output_type": "stream",
     "text": [
      "tensor([0, 1, 2, 3, 4, 5, 6, 7, 8, 9])\n",
      "tensor([2, 5, 8])\n"
     ]
    }
   ],
   "source": [
    "# Fancy Indexing\n",
    "x = torch.arange(10)\n",
    "print(x)\n",
    "indices = [2, 5, 8]\n",
    "print(x[indices])  # x[indices] = [2, 5, 8]"
   ]
  },
  {
   "cell_type": "code",
   "execution_count": 118,
   "id": "18ee79f0",
   "metadata": {},
   "outputs": [
    {
     "name": "stdout",
     "output_type": "stream",
     "text": [
      "tensor([[0.8823, 0.9150, 0.3829, 0.9593, 0.3904],\n",
      "        [0.6009, 0.2566, 0.7936, 0.9408, 0.1332],\n",
      "        [0.9346, 0.5936, 0.8694, 0.5677, 0.7411]])\n",
      "tensor([0.3904, 0.7936])\n",
      "tensor([0.1332, 0.3829])\n"
     ]
    }
   ],
   "source": [
    "torch.manual_seed(42)\n",
    "x = torch.rand((3, 5))\n",
    "print(x)\n",
    "\n",
    "# In the first block, rows = torch.tensor([0, 1]) selects rows 0 and 1, \n",
    "# and cols = torch.tensor([4, 0]) selects columns 4 and 0. \n",
    "# So, x[rows, cols] accesses the elements at (0, 4) and (1, 0) \n",
    "# in the tensor x.\n",
    "rows = torch.tensor([0, 1]) # Give me 0th row and 1st row \n",
    "cols = torch.tensor([4, 2]) # Give me 4th col and 0th col\n",
    "print(x[rows, cols])  # Gets second row fifth column and first row first column\n",
    "\n",
    "\n",
    "# In the second block, rows = torch.tensor([1, 0]) selects rows 1 and 0, \n",
    "# and cols = torch.tensor([4, 0]) still selects columns 4 and 0. \n",
    "# So, x[rows, cols] accesses the elements at (1, 4) and (0, 0) in the tensor x.\n",
    "rows = torch.tensor([1, 0]) \n",
    "cols = torch.tensor([4, 2]) \n",
    "print(x[rows, cols])  # Gets second row fifth column and first row first column\n",
    "\n"
   ]
  },
  {
   "cell_type": "code",
   "execution_count": 122,
   "id": "896dfb8d",
   "metadata": {},
   "outputs": [
    {
     "name": "stdout",
     "output_type": "stream",
     "text": [
      "tensor([0, 1, 9])\n",
      "tensor([4, 6, 8])\n",
      "tensor([0, 2, 4, 6, 8])\n"
     ]
    }
   ],
   "source": [
    "# More advanced indexing\n",
    "x = torch.arange(10)\n",
    "print(x[(x < 2) | (x > 8)])  # will be [0, 1, 9]\n",
    "print(x[(x > 2) & (x % 2 == 0)]) # [4, 6, 8\n",
    "print(x[x.remainder(2) == 0])  # will be [0, 2, 4, 6, 8]"
   ]
  },
  {
   "cell_type": "code",
   "execution_count": 127,
   "id": "e50d8e45",
   "metadata": {},
   "outputs": [
    {
     "data": {
      "text/plain": [
       "tensor([ 0,  2,  4,  6,  8, 10,  6,  7,  8,  9])"
      ]
     },
     "execution_count": 127,
     "metadata": {},
     "output_type": "execute_result"
    }
   ],
   "source": [
    "# Useful operations for indexing\n",
    "torch.where(x > 5, x, x * 2) \n",
    "# gives [0, 2, 4, 6, 8, 10, 6, 7, 8, 9], \n",
    "# all values x > 5 yield x, else x*2\n",
    "# Means returns all the values in x and for each value return\n",
    "# the same value as it is if x > 5 else returns x*2 in place\n",
    "# of that element.\n",
    "\n"
   ]
  },
  {
   "cell_type": "code",
   "execution_count": 136,
   "id": "d3da1e48",
   "metadata": {},
   "outputs": [
    {
     "data": {
      "text/plain": [
       "tensor([0, 1, 2, 3, 4])"
      ]
     },
     "execution_count": 136,
     "metadata": {},
     "output_type": "execute_result"
    }
   ],
   "source": [
    "x = torch.tensor([0, 0, 1, 2, 2, 3, 4]).unique()  # x = [0, 1, 2, 3, 4]\n",
    "x"
   ]
  },
  {
   "cell_type": "code",
   "execution_count": 139,
   "id": "ed746aab",
   "metadata": {},
   "outputs": [
    {
     "name": "stdout",
     "output_type": "stream",
     "text": [
      "1\n"
     ]
    }
   ],
   "source": [
    "print(\n",
    "    x.ndimension()\n",
    ")  \n",
    "# # The number of dimensions, in this case 1. if x.shape is 5x5x5 ndim would be 3\n",
    "\n"
   ]
  },
  {
   "cell_type": "code",
   "execution_count": 142,
   "id": "5555cd86",
   "metadata": {},
   "outputs": [
    {
     "data": {
      "text/plain": [
       "15"
      ]
     },
     "execution_count": 142,
     "metadata": {},
     "output_type": "execute_result"
    }
   ],
   "source": [
    "torch.manual_seed(42)\n",
    "x = torch.rand((3, 5))\n",
    "\n",
    "# The total number of elements in x\n",
    "x.numel()"
   ]
  },
  {
   "cell_type": "code",
   "execution_count": null,
   "id": "c6a6bfb9",
   "metadata": {},
   "outputs": [],
   "source": []
  }
 ],
 "metadata": {
  "kernelspec": {
   "display_name": "Python 3 (ipykernel)",
   "language": "python",
   "name": "python3"
  },
  "language_info": {
   "codemirror_mode": {
    "name": "ipython",
    "version": 3
   },
   "file_extension": ".py",
   "mimetype": "text/x-python",
   "name": "python",
   "nbconvert_exporter": "python",
   "pygments_lexer": "ipython3",
   "version": "3.11.8"
  }
 },
 "nbformat": 4,
 "nbformat_minor": 5
}
