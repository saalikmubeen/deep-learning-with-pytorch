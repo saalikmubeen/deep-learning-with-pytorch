{
 "cells": [
  {
   "cell_type": "code",
   "execution_count": 1,
   "id": "e83afa07",
   "metadata": {},
   "outputs": [
    {
     "name": "stdout",
     "output_type": "stream",
     "text": [
      "2.1.2\n",
      "0.16.2\n"
     ]
    }
   ],
   "source": [
    "# Import PyTorch\n",
    "import torch\n",
    "import torch.nn.functional as F  # Parameterless functions, like (some) activation functions\n",
    "from torch import nn  # All neural network modules\n",
    "from torch import optim  # For optimizers like SGD, Adam, etc.\n",
    "\n",
    "# Import torchvision\n",
    "import torchvision\n",
    "\n",
    "from torchvision import transforms # Transformations we can perform on our dataset for augmentation\n",
    "from torchvision import datasets  # Standard datasets\n",
    "from torch.utils.data import DataLoader # Gives easier dataset managment by creating mini batches etc.\n",
    "from torchvision.transforms import ToTensor \n",
    "\n",
    "# Import matplotlib for visualization\n",
    "import matplotlib.pyplot as plt\n",
    "\n",
    "from utils import accuracy_fn\n",
    "\n",
    "\n",
    "# Check versions\n",
    "print(torch.__version__)\n",
    "print(torchvision.__version__)"
   ]
  },
  {
   "cell_type": "code",
   "execution_count": 2,
   "id": "63b878c7",
   "metadata": {},
   "outputs": [],
   "source": [
    "train_data = datasets.FashionMNIST(\n",
    "    root=\"data\", # where to download data to?\n",
    "    train=True, # do we want the training dataset?\n",
    "    download=True, # do we want to download yes/no?\n",
    "    transform=torchvision.transforms.ToTensor(), # how do we want to transform the data?\n",
    "    target_transform=None # how do we want to transform the labels/targets?\n",
    ")\n",
    "\n",
    "test_data = datasets.FashionMNIST(\n",
    "    root=\"data\",\n",
    "    train=False, # train=False -> Download the test data \n",
    "    download=True,\n",
    "    transform=ToTensor(),\n",
    "    target_transform=None\n",
    ")"
   ]
  },
  {
   "cell_type": "code",
   "execution_count": 3,
   "id": "25f3a530",
   "metadata": {},
   "outputs": [
    {
     "data": {
      "text/plain": [
       "(60000, 10000)"
      ]
     },
     "execution_count": 3,
     "metadata": {},
     "output_type": "execute_result"
    }
   ],
   "source": [
    "len(train_data), len(test_data)"
   ]
  },
  {
   "cell_type": "code",
   "execution_count": 62,
   "id": "fdf64338",
   "metadata": {},
   "outputs": [
    {
     "name": "stdout",
     "output_type": "stream",
     "text": [
      "torch.Size([1, 28, 28])\n",
      "9\n"
     ]
    }
   ],
   "source": [
    "image, label = train_data[0]\n",
    "print(image.shape)\n",
    "print(label)\n",
    "# image, label"
   ]
  },
  {
   "cell_type": "code",
   "execution_count": 4,
   "id": "25b32386",
   "metadata": {},
   "outputs": [
    {
     "data": {
      "text/plain": [
       "['T-shirt/top',\n",
       " 'Trouser',\n",
       " 'Pullover',\n",
       " 'Dress',\n",
       " 'Coat',\n",
       " 'Sandal',\n",
       " 'Shirt',\n",
       " 'Sneaker',\n",
       " 'Bag',\n",
       " 'Ankle boot']"
      ]
     },
     "execution_count": 4,
     "metadata": {},
     "output_type": "execute_result"
    }
   ],
   "source": [
    "class_names = train_data.classes\n",
    "class_names"
   ]
  },
  {
   "cell_type": "code",
   "execution_count": 5,
   "id": "a7a66d88",
   "metadata": {},
   "outputs": [
    {
     "data": {
      "text/plain": [
       "{'T-shirt/top': 0,\n",
       " 'Trouser': 1,\n",
       " 'Pullover': 2,\n",
       " 'Dress': 3,\n",
       " 'Coat': 4,\n",
       " 'Sandal': 5,\n",
       " 'Shirt': 6,\n",
       " 'Sneaker': 7,\n",
       " 'Bag': 8,\n",
       " 'Ankle boot': 9}"
      ]
     },
     "execution_count": 5,
     "metadata": {},
     "output_type": "execute_result"
    }
   ],
   "source": [
    "class_to_idx = train_data.class_to_idx\n",
    "class_to_idx"
   ]
  },
  {
   "cell_type": "code",
   "execution_count": 61,
   "id": "44392f2c",
   "metadata": {},
   "outputs": [
    {
     "data": {
      "text/plain": [
       "tensor([9, 0, 0,  ..., 3, 0, 5])"
      ]
     },
     "execution_count": 61,
     "metadata": {},
     "output_type": "execute_result"
    }
   ],
   "source": [
    "train_data.targets # get all target labels in the dataset"
   ]
  },
  {
   "cell_type": "code",
   "execution_count": 65,
   "id": "1a235f47",
   "metadata": {},
   "outputs": [
    {
     "name": "stdout",
     "output_type": "stream",
     "text": [
      "Image shape: torch.Size([1, 28, 28]) -> [color_channels, height, width]\n",
      "Image target label: 9\n",
      "Image: Ankle boot\n"
     ]
    }
   ],
   "source": [
    "# Check the shape of our image\n",
    "print(f\"Image shape: {image.shape} -> [color_channels, height, width]\") \n",
    "print(f\"Image target label: {label}\")\n",
    "print(f\"Image: {class_names[label]}\")"
   ]
  },
  {
   "cell_type": "code",
   "execution_count": 69,
   "id": "06cf13de",
   "metadata": {},
   "outputs": [
    {
     "data": {
      "image/png": "[encoded data removed]",
      "text/plain": [
       "<Figure size 640x480 with 1 Axes>"
      ]
     },
     "metadata": {},
     "output_type": "display_data"
    }
   ],
   "source": [
    "image, label = train_data[0]\n",
    "plt.imshow(image.squeeze())\n",
    "plt.title(label);"
   ]
  },
  {
   "cell_type": "code",
   "execution_count": 70,
   "id": "d7119647",
   "metadata": {},
   "outputs": [
    {
     "data": {
      "image/png": "[encoded data removed]",
      "text/plain": [
       "<Figure size 640x480 with 1 Axes>"
      ]
     },
     "metadata": {},
     "output_type": "display_data"
    }
   ],
   "source": [
    "plt.imshow(image.squeeze(), cmap=\"gray\")\n",
    "plt.title(class_names[label]);\n",
    "plt.axis(False);"
   ]
  },
  {
   "cell_type": "code",
   "execution_count": 78,
   "id": "0aef9804",
   "metadata": {},
   "outputs": [
    {
     "data": {
      "image/png": "[encoded data removed]",
      "text/plain": [
       "<Figure size 900x900 with 16 Axes>"
      ]
     },
     "metadata": {},
     "output_type": "display_data"
    }
   ],
   "source": [
    "# Plot more images\n",
    "torch.manual_seed(42)\n",
    "\n",
    "fig = plt.figure(figsize=(9, 9))\n",
    "\n",
    "rows, cols = 4, 4\n",
    "\n",
    "for i in range(1, rows * cols + 1):\n",
    "    random_idx = torch.randint(0, len(train_data), size=[1]).item()\n",
    "    img, label = train_data[random_idx]\n",
    "    fig.add_subplot(rows, cols, i) # add subplot on figure\n",
    "    plt.imshow(img.squeeze(), cmap=\"gray\") # plot the actual image on that subplot\n",
    "    plt.title(class_names[label])\n",
    "    plt.axis(False)\n",
    "    \n",
    "    "
   ]
  },
  {
   "cell_type": "code",
   "execution_count": 75,
   "id": "930f3bc2",
   "metadata": {},
   "outputs": [
    {
     "data": {
      "text/plain": [
       "tensor([46876, 46414, 10026])"
      ]
     },
     "execution_count": 75,
     "metadata": {},
     "output_type": "execute_result"
    }
   ],
   "source": [
    "random_idx = torch.randint(0, len(train_data), size=[3])\n",
    "random_idx"
   ]
  },
  {
   "cell_type": "code",
   "execution_count": 81,
   "id": "db0defa2",
   "metadata": {},
   "outputs": [
    {
     "data": {
      "text/plain": [
       "(<torch.utils.data.dataloader.DataLoader at 0x3381cd1d0>,\n",
       " <torch.utils.data.dataloader.DataLoader at 0x338709010>)"
      ]
     },
     "execution_count": 81,
     "metadata": {},
     "output_type": "execute_result"
    }
   ],
   "source": [
    "# Setup the batch size hyperparameter\n",
    "BATCH_SIZE = 32\n",
    "\n",
    "\n",
    "# Dataloader turn datasets into iterables (batches)\n",
    "train_dataloader = DataLoader(dataset=train_data, batch_size=BATCH_SIZE, shuffle=True)\n",
    "\n",
    "test_dataloader = DataLoader(dataset=test_data, batch_size=BATCH_SIZE, shuffle=False)\n",
    "\n",
    "train_dataloader, test_dataloader"
   ]
  },
  {
   "cell_type": "code",
   "execution_count": 84,
   "id": "b1358bf8",
   "metadata": {},
   "outputs": [
    {
     "name": "stdout",
     "output_type": "stream",
     "text": [
      "Length of train_dataloader: 1875 batches of 32... Each one of 1875 batches contain 32 images \n",
      "Length of test_dataloader: 313 batches of 32...\n"
     ]
    }
   ],
   "source": [
    "print(f\"Length of train_dataloader: {len(train_dataloader)} batches of {BATCH_SIZE}... Each one of {len(train_dataloader)} batches contain {BATCH_SIZE} images \")\n",
    "print(f\"Length of test_dataloader: {len(test_dataloader)} batches of {BATCH_SIZE}...\")\n",
    "     "
   ]
  },
  {
   "cell_type": "code",
   "execution_count": 164,
   "id": "ef164003",
   "metadata": {},
   "outputs": [
    {
     "name": "stdout",
     "output_type": "stream",
     "text": [
      "1875\n"
     ]
    },
    {
     "data": {
      "text/plain": [
       "60000"
      ]
     },
     "execution_count": 164,
     "metadata": {},
     "output_type": "execute_result"
    }
   ],
   "source": [
    "print(len(train_dataloader)) # -> number of batches\n",
    "len(train_dataloader.dataset) # -> total number of training exampels across all batches"
   ]
  },
  {
   "cell_type": "code",
   "execution_count": 92,
   "id": "c1b99958",
   "metadata": {},
   "outputs": [
    {
     "data": {
      "text/plain": [
       "(torch.Size([32, 1, 28, 28]), torch.Size([32]))"
      ]
     },
     "execution_count": 92,
     "metadata": {},
     "output_type": "execute_result"
    }
   ],
   "source": [
    "next(iter(train_dataloader))[0].shape, next(iter(train_dataloader))[1].shape\n",
    "\n"
   ]
  },
  {
   "cell_type": "code",
   "execution_count": 96,
   "id": "c2c4aa7f",
   "metadata": {},
   "outputs": [
    {
     "data": {
      "text/plain": [
       "(torch.Size([32, 1, 28, 28]), torch.Size([32]))"
      ]
     },
     "execution_count": 96,
     "metadata": {},
     "output_type": "execute_result"
    }
   ],
   "source": [
    "train_features_batch1, train_labels_batch1 = next(iter(train_dataloader))\n",
    "\n",
    "train_features_batch1.shape, train_labels_batch1.shape"
   ]
  },
  {
   "cell_type": "code",
   "execution_count": 97,
   "id": "f35e2fff",
   "metadata": {},
   "outputs": [
    {
     "data": {
      "text/plain": [
       "torch.Size([1, 28, 28])"
      ]
     },
     "execution_count": 97,
     "metadata": {},
     "output_type": "execute_result"
    }
   ],
   "source": [
    "train_features_batch1[0].shape"
   ]
  },
  {
   "cell_type": "code",
   "execution_count": 100,
   "id": "846a901d",
   "metadata": {},
   "outputs": [
    {
     "data": {
      "text/plain": [
       "(-0.5, 27.5, 27.5, -0.5)"
      ]
     },
     "execution_count": 100,
     "metadata": {},
     "output_type": "execute_result"
    },
    {
     "data": {
      "image/png": "[encoded data removed]",
      "text/plain": [
       "<Figure size 640x480 with 1 Axes>"
      ]
     },
     "metadata": {},
     "output_type": "display_data"
    }
   ],
   "source": [
    "# Show a sample\n",
    "# torch.manual_seed(42)\n",
    "random_idx = torch.randint(0, len(train_features_batch1), size=[1]).item()\n",
    "img, label = train_features_batch1[random_idx], train_labels_batch1[random_idx]\n",
    "plt.imshow(img.squeeze(), cmap=\"gray\")\n",
    "plt.title(class_names[label])\n",
    "plt.axis(False)"
   ]
  },
  {
   "cell_type": "code",
   "execution_count": 102,
   "id": "433e28ac",
   "metadata": {},
   "outputs": [
    {
     "data": {
      "text/plain": [
       "(torch.Size([32, 1, 28, 28]), torch.Size([32, 784]))"
      ]
     },
     "execution_count": 102,
     "metadata": {},
     "output_type": "execute_result"
    }
   ],
   "source": [
    "# Create a flatten layer\n",
    "flatten_model = nn.Flatten() \n",
    "\n",
    "x = train_features_batch1\n",
    "\n",
    "# Flatten the batch of 32 images each 1 x 28 x 28\n",
    "output = flatten_model(x) # perform forward pass\n",
    "\n",
    "\n",
    "x.shape, output.shape"
   ]
  },
  {
   "cell_type": "code",
   "execution_count": 133,
   "id": "82d99ad9",
   "metadata": {},
   "outputs": [
    {
     "name": "stdout",
     "output_type": "stream",
     "text": [
      "torch.Size([28, 28])\n"
     ]
    },
    {
     "data": {
      "text/plain": [
       "torch.Size([28, 28])"
      ]
     },
     "execution_count": 133,
     "metadata": {},
     "output_type": "execute_result"
    }
   ],
   "source": [
    "dummy_x = train_features_batch1[0][0]\n",
    "print(dummy_x.shape)\n",
    "\n",
    "flatten_model(dummy_x).shape"
   ]
  },
  {
   "cell_type": "code",
   "execution_count": 106,
   "id": "af6c8d42",
   "metadata": {},
   "outputs": [
    {
     "name": "stdout",
     "output_type": "stream",
     "text": [
      "Shape before flattening: torch.Size([32, 1, 28, 28]) -> [num_images, color_channels, height, width]\n",
      "Shape after flattening: torch.Size([32, 784]) -> [num_images, color_channels * height * width]\n"
     ]
    }
   ],
   "source": [
    "# Print out what happened\n",
    "print(f\"Shape before flattening: {x.shape} -> [num_images, color_channels, height, width]\")\n",
    "print(f\"Shape after flattening: {output.shape} -> [num_images, color_channels * height * width]\")"
   ]
  },
  {
   "cell_type": "code",
   "execution_count": 114,
   "id": "fd0d7c73",
   "metadata": {},
   "outputs": [],
   "source": [
    "class FashionMNISTModel(nn.Module):\n",
    "    def __init__(self, input_shape, hidden_units, output_shape):\n",
    "        super().__init__()\n",
    "        self.linear_stack = nn.Sequential(\n",
    "            nn.Flatten(), # Flattens the 1 x 28 x 28 images into a vector of length 784 (1 * 28 * 28)\n",
    "            nn.Linear(in_features=input_shape, out_features=hidden_units),\n",
    "            nn.Linear(in_features=hidden_units, out_features=hidden_units),\n",
    "            nn.Linear(in_features=hidden_units, out_features=output_shape)\n",
    "        )\n",
    "        \n",
    "    def forward(self, x):\n",
    "        return self.linear_stack(x)\n",
    "    "
   ]
  },
  {
   "cell_type": "code",
   "execution_count": 9,
   "id": "6f98101a",
   "metadata": {},
   "outputs": [
    {
     "data": {
      "text/plain": [
       "'cpu'"
      ]
     },
     "execution_count": 9,
     "metadata": {},
     "output_type": "execute_result"
    }
   ],
   "source": [
    "# Make device agnostic code\n",
    "device = \"cuda\" if torch.cuda.is_available() else \"cpu\"\n",
    "device"
   ]
  },
  {
   "cell_type": "code",
   "execution_count": 115,
   "id": "8a773af2",
   "metadata": {},
   "outputs": [],
   "source": [
    "torch.manual_seed(42)\n",
    "\n",
    "model_0 = FashionMNISTModel(\n",
    "    input_shape = 28 * 28, # 28 * 28 = 784\n",
    "    hidden_units = 10,\n",
    "    output_shape = len(class_names) # number of classes\n",
    ").to(device)"
   ]
  },
  {
   "cell_type": "code",
   "execution_count": 119,
   "id": "8a704cac",
   "metadata": {},
   "outputs": [
    {
     "data": {
      "text/plain": [
       "torch.Size([1, 10])"
      ]
     },
     "execution_count": 119,
     "metadata": {},
     "output_type": "execute_result"
    }
   ],
   "source": [
    "dummy_x = torch.rand([1, 1, 28, 28])\n",
    "model_0(dummy_x).shape"
   ]
  },
  {
   "cell_type": "code",
   "execution_count": 121,
   "id": "a4d67742",
   "metadata": {},
   "outputs": [],
   "source": [
    "loss_fn = nn.CrossEntropyLoss()\n",
    "\n",
    "optimizer = torch.optim.SGD(params=model_0.parameters(), lr=0.1)"
   ]
  },
  {
   "cell_type": "code",
   "execution_count": 17,
   "id": "a64edcab",
   "metadata": {},
   "outputs": [
    {
     "name": "stdout",
     "output_type": "stream",
     "text": [
      "Train time on cpu: 0.000 seconds\n"
     ]
    },
    {
     "data": {
      "text/plain": [
       "1.6709003830328584e-05"
      ]
     },
     "execution_count": 17,
     "metadata": {},
     "output_type": "execute_result"
    }
   ],
   "source": [
    "# Example of timing our functions or code\n",
    "\n",
    "from timeit import default_timer as timer\n",
    "\n",
    "def print_train_time(start: float,\n",
    "                     end: float, \n",
    "                     device: torch.device = None):\n",
    "  \"\"\"Prints difference between start and end time.\"\"\"\n",
    "  total_time = end - start\n",
    "  print(f\"Train time on {device}: {total_time:.3f} seconds\")\n",
    "  return total_time\n",
    "\n",
    "\n",
    "\n",
    "\n",
    "start_time = timer()\n",
    "# some code...\n",
    "end_time = timer()\n",
    "print_train_time(start=start_time, end=end_time, device=\"cpu\")\n"
   ]
  },
  {
   "cell_type": "code",
   "execution_count": 18,
   "id": "ba1aa52a",
   "metadata": {},
   "outputs": [
    {
     "name": "stderr",
     "output_type": "stream",
     "text": [
      "/Users/saalikmubeen/Dev/Machine Learning/personal-learning/venv/lib/python3.11/site-packages/tqdm/auto.py:22: TqdmWarning: IProgress not found. Please update jupyter and ipywidgets. See https://ipywidgets.readthedocs.io/en/stable/user_install.html\n",
      "  from .autonotebook import tqdm as notebook_tqdm\n"
     ]
    }
   ],
   "source": [
    "from tqdm.auto import tqdm"
   ]
  },
  {
   "cell_type": "code",
   "execution_count": 149,
   "id": "eb1213f6",
   "metadata": {},
   "outputs": [
    {
     "name": "stdout",
     "output_type": "stream",
     "text": [
      "torch.Size([32, 1, 28, 28])\n"
     ]
    }
   ],
   "source": [
    "print(next(iter(train_dataloader))[0].shape)"
   ]
  },
  {
   "cell_type": "code",
   "execution_count": 159,
   "id": "bd7a674e",
   "metadata": {},
   "outputs": [
    {
     "name": "stdout",
     "output_type": "stream",
     "text": [
      "y_pred_logits.shape:  torch.Size([32, 10])\n",
      "first_batch_y.shape:  torch.Size([32])\n",
      "torch.Size([32, 10])\n",
      "tensor([[1.0000],\n",
      "        [1.0000],\n",
      "        [1.0000],\n",
      "        [1.0000],\n",
      "        [1.0000],\n",
      "        [1.0000],\n",
      "        [1.0000],\n",
      "        [1.0000],\n",
      "        [1.0000],\n",
      "        [1.0000]], grad_fn=<SliceBackward0>)\n",
      "tensor([[0],\n",
      "        [8],\n",
      "        [0],\n",
      "        [0],\n",
      "        [0],\n",
      "        [0],\n",
      "        [0],\n",
      "        [0],\n",
      "        [0],\n",
      "        [0]])\n",
      "y_pred_labels.shape:  torch.Size([32])\n",
      "Predctions:\n",
      "tensor([0, 8, 0, 0, 0, 0, 0, 0, 0, 0])\n",
      "Targets:\n",
      "tensor([4, 5, 0, 4, 6, 9, 3, 7, 7, 2])\n"
     ]
    }
   ],
   "source": [
    "# first_batch_x = next(iter(train_dataloader))[0]\n",
    "# first_batch_y = next(iter(train_dataloader))[0]\n",
    "\n",
    "first_batch_x, first_batch_y = next(iter(train_dataloader))\n",
    "y_pred_logits = model_0(first_batch)\n",
    "\n",
    "print(\"y_pred_logits.shape: \", y_pred_logits.shape)\n",
    "print(\"first_batch_y.shape: \", first_batch_y.shape)\n",
    "\n",
    "\n",
    "# Convert model's logit outputs to prediction probabilities\n",
    "y_pred_probs = torch.softmax(y_pred_logits, dim=1)\n",
    "print(y_pred_probs.shape)\n",
    "\n",
    "print(y_pred_probs.sum(dim=1, keepdims=True)[0:10])\n",
    "\n",
    "# Find the index where probability is max\n",
    "print(torch.argmax(y_pred_probs, dim=1, keepdims=True)[0:10])\n",
    "\n",
    "# Convert our model's prediction probabilities to prediction labels\n",
    "y_pred_labels = torch.argmax(y_pred_probs, dim=1)\n",
    "\n",
    "print(\"y_pred_labels.shape: \", y_pred_labels.shape)\n",
    "\n",
    "print(\"Predctions:\")\n",
    "print(y_pred_labels[0:10])\n",
    "\n",
    "print(\"Targets:\")\n",
    "print(first_batch_y[0:10])"
   ]
  },
  {
   "cell_type": "code",
   "execution_count": 169,
   "id": "c3facf5e",
   "metadata": {},
   "outputs": [
    {
     "name": "stdout",
     "output_type": "stream",
     "text": [
      "Epoch: 0\n",
      "------\n",
      "Looked at 0/60000 samples.\n",
      "Looked at 12800/60000 samples.\n",
      "Looked at 25600/60000 samples.\n",
      "Looked at 38400/60000 samples.\n",
      "Looked at 51200/60000 samples.\n",
      "\n",
      "Train loss: 0.4287 | Test loss: 0.4696, Train acc: 10.0033, Test acc: 83.5863\n",
      "Epoch: 1\n",
      "------\n",
      "Looked at 0/60000 samples.\n",
      "Looked at 12800/60000 samples.\n",
      "Looked at 25600/60000 samples.\n",
      "Looked at 38400/60000 samples.\n",
      "Looked at 51200/60000 samples.\n",
      "\n",
      "Train loss: 0.4243 | Test loss: 0.5032, Train acc: 9.9633, Test acc: 82.5180\n",
      "Epoch: 2\n",
      "------\n",
      "Looked at 0/60000 samples.\n",
      "Looked at 12800/60000 samples.\n",
      "Looked at 25600/60000 samples.\n",
      "Looked at 38400/60000 samples.\n",
      "Looked at 51200/60000 samples.\n",
      "\n",
      "Train loss: 0.4233 | Test loss: 0.5360, Train acc: 9.9500, Test acc: 82.2983\n",
      "Epoch: 3\n",
      "------\n",
      "Looked at 0/60000 samples.\n",
      "Looked at 12800/60000 samples.\n",
      "Looked at 25600/60000 samples.\n",
      "Looked at 38400/60000 samples.\n",
      "Looked at 51200/60000 samples.\n",
      "\n",
      "Train loss: 0.4219 | Test loss: 0.4668, Train acc: 10.0050, Test acc: 83.2768\n",
      "Epoch: 4\n",
      "------\n",
      "Looked at 0/60000 samples.\n",
      "Looked at 12800/60000 samples.\n",
      "Looked at 25600/60000 samples.\n",
      "Looked at 38400/60000 samples.\n",
      "Looked at 51200/60000 samples.\n",
      "\n",
      "Train loss: 0.4201 | Test loss: 0.4744, Train acc: 9.9517, Test acc: 83.5663\n",
      "Epoch: 5\n",
      "------\n",
      "Looked at 0/60000 samples.\n",
      "Looked at 12800/60000 samples.\n",
      "Looked at 25600/60000 samples.\n",
      "Looked at 38400/60000 samples.\n",
      "Looked at 51200/60000 samples.\n",
      "\n",
      "Train loss: 0.4167 | Test loss: 0.5187, Train acc: 10.0233, Test acc: 82.3283\n",
      "Epoch: 6\n",
      "------\n",
      "Looked at 0/60000 samples.\n",
      "Looked at 12800/60000 samples.\n",
      "Looked at 25600/60000 samples.\n",
      "Looked at 38400/60000 samples.\n",
      "Looked at 51200/60000 samples.\n",
      "\n",
      "Train loss: 0.4177 | Test loss: 0.4948, Train acc: 9.9833, Test acc: 82.7576\n",
      "Epoch: 7\n",
      "------\n",
      "Looked at 0/60000 samples.\n",
      "Looked at 12800/60000 samples.\n",
      "Looked at 25600/60000 samples.\n",
      "Looked at 38400/60000 samples.\n",
      "Looked at 51200/60000 samples.\n",
      "\n",
      "Train loss: 0.4159 | Test loss: 0.4857, Train acc: 10.0283, Test acc: 83.1270\n",
      "Epoch: 8\n",
      "------\n",
      "Looked at 0/60000 samples.\n",
      "Looked at 12800/60000 samples.\n",
      "Looked at 25600/60000 samples.\n",
      "Looked at 38400/60000 samples.\n",
      "Looked at 51200/60000 samples.\n",
      "\n",
      "Train loss: 0.4154 | Test loss: 0.4565, Train acc: 9.9983, Test acc: 84.0056\n",
      "Epoch: 9\n",
      "------\n",
      "Looked at 0/60000 samples.\n",
      "Looked at 12800/60000 samples.\n",
      "Looked at 25600/60000 samples.\n",
      "Looked at 38400/60000 samples.\n",
      "Looked at 51200/60000 samples.\n",
      "\n",
      "Train loss: 0.4131 | Test loss: 0.4726, Train acc: 10.0150, Test acc: 83.6162\n",
      "Train time on cpu: 24.489 seconds\n"
     ]
    }
   ],
   "source": [
    "# Training Loop\n",
    "\n",
    "\n",
    "# Set the seed and start the timer\n",
    "torch.manual_seed(42)\n",
    "train_time_start_on_cpu = timer() \n",
    "\n",
    "# Set the number of epochs (we'll keep this small for faster training time)\n",
    "epochs = 10\n",
    "\n",
    "for epoch in range(epochs):\n",
    "    print(f\"Epoch: {epoch}\\n------\")\n",
    "    \n",
    "    ### Training\n",
    "    train_loss = 0 # Total loss for one epoch\n",
    "    train_acc = 0  # Total acc for one epoch\n",
    "    \n",
    "    for batch, (X, y) in enumerate(train_dataloader):\n",
    "        \n",
    "        model_0.train()\n",
    "        \n",
    "        # Forward pass\n",
    "        # X is a tensor of 32 images i,e \n",
    "        # X -> 32 x 1 x 28 x 28\n",
    "        y_pred_logits = model_0.forward(X) # shape = torch.Size([32, 10])\n",
    "        \n",
    "        #  Calculate loss (per batch)\n",
    "        loss = loss_fn(y_pred_logits, y) # loss per batch\n",
    "        train_loss += loss # accumulate train loss\n",
    "        \n",
    "        y_pred_probs = torch.softmax(y_pred_logits, dim=1)\n",
    "        y_pred_labels = torch.argmax(y_pred_probs, dim=1) # shape -> torch.Size([32])\n",
    "        \n",
    "        # Accuracy\n",
    "        acc = accuracy_fn(y_true=y, y_pred=y_pred_labels)\n",
    "        train_acc += acc\n",
    "        \n",
    "        # Zero grad\n",
    "        optimizer.zero_grad()\n",
    "        \n",
    "        # Backward Propagation\n",
    "        loss.backward()\n",
    "        \n",
    "        # Gradient Descent\n",
    "        optimizer.step()\n",
    "        \n",
    "        # Print out what's happening\n",
    "        # len(train_dataloader) -> number of batches\n",
    "        # len(train_dataloader.dataset) -> total number of training exampels across all batches\n",
    "        if batch % 400 == 0:\n",
    "            print(f\"Looked at {batch * len(X)}/{len(train_dataloader.dataset)} samples.\")\n",
    "       \n",
    "    # Divide total train loss by length of train dataloader\n",
    "    # to calculate train loss average per batch\n",
    "    # length of train dataloader = number of batches\n",
    "    train_loss = train_loss / len(train_dataloader)\n",
    "    \n",
    "    train_acc /= len(train_dataloader)\n",
    "    \n",
    "    # Testing\n",
    "    model_0.eval()\n",
    "        \n",
    "    test_loss, test_acc = 0, 0\n",
    "        \n",
    "    with torch.inference_mode():\n",
    "            \n",
    "        for X_test, y_test in test_dataloader:\n",
    "                \n",
    "            # Forward pass\n",
    "            y_test_logits = model_0(X_test)\n",
    "                \n",
    "            # Test Loss for each batch\n",
    "            test_batch_loss = loss_fn(y_test_logits, y_test)\n",
    "            test_loss += test_batch_loss\n",
    "                \n",
    "            y_test_probs = torch.softmax(y_test_logits, dim=1)\n",
    "            y_test_labels = torch.argmax(y_test_probs, dim=1) # shape -> torch.Size([32])\n",
    "                \n",
    "            # Calculate accuracy\n",
    "            acc = accuracy_fn(y_true=y_test, y_pred=y_test_labels)\n",
    "            test_acc += acc\n",
    "            \n",
    "        test_loss = test_loss / len(test_dataloader)\n",
    "        \n",
    "        test_acc = test_acc / len(test_dataloader)\n",
    "        \n",
    "    # Print out what's happening after end of each epoch\n",
    "    # This is the end of each epcoh of out training loop.\n",
    "    print(f\"\\nTrain loss: {train_loss:.4f} | Test loss: {test_loss:.4f}, Train acc: {train_acc:.4f}, Test acc: {test_acc:.4f}\")\n",
    "        \n",
    "                \n",
    "# Calculate training time\n",
    "train_time_end_on_cpu = timer()\n",
    "total_train_time_model_0 = print_train_time(start=train_time_start_on_cpu,\n",
    "                                            end=train_time_end_on_cpu,\n",
    "                                            device=str(next(model_0.parameters()).device))"
   ]
  },
  {
   "cell_type": "markdown",
   "id": "b904b2cc",
   "metadata": {},
   "source": [
    "### Functionizing training and evaluation/testing loops"
   ]
  },
  {
   "cell_type": "code",
   "execution_count": 24,
   "id": "2c517edc",
   "metadata": {},
   "outputs": [],
   "source": [
    "def eval_model(model: torch.nn.Module,\n",
    "               data_loader: torch.utils.data.DataLoader,\n",
    "               loss_fn: torch.nn.Module, \n",
    "               accuracy_fn\n",
    "              ):\n",
    "  \"\"\"Returns a dictionary containing the results of model predicting on data_loader.\"\"\"\n",
    "  loss, acc = 0, 0\n",
    "  model.eval()\n",
    "  with torch.inference_mode():\n",
    "    for X, y in data_loader:  # for X, y in tqdm(data_loader):\n",
    "        \n",
    "      # Make predictions\n",
    "      # Forward pass\n",
    "      y_logits = model(X)\n",
    "      \n",
    "      y_probs = torch.softmax(y_logits, dim=1)\n",
    "      y_pred = torch.argmax(y_probs, dim=1)\n",
    "\n",
    "      # Accumulate the loss and acc values per batch\n",
    "      loss += loss_fn(y_logits, y)\n",
    "    \n",
    "      acc += accuracy_fn(y_true=y,\n",
    "                         y_pred=y_pred)\n",
    "\n",
    "    # Scale loss and acc to find the average loss/acc per batch\n",
    "    loss /= len(data_loader)\n",
    "    acc /= len(data_loader)\n",
    "\n",
    "  return {\"model_name\": model.__class__.__name__, # only works when model was created with a class\n",
    "          \"model_loss\": loss.item(),\n",
    "          \"model_acc\": acc}"
   ]
  },
  {
   "cell_type": "code",
   "execution_count": 23,
   "id": "bdfb127f",
   "metadata": {},
   "outputs": [
    {
     "ename": "NameError",
     "evalue": "name 'model_0' is not defined",
     "output_type": "error",
     "traceback": [
      "\u001b[0;31m---------------------------------------------------------------------------\u001b[0m",
      "\u001b[0;31mNameError\u001b[0m                                 Traceback (most recent call last)",
      "Cell \u001b[0;32mIn[23], line 34\u001b[0m\n\u001b[1;32m     29\u001b[0m   \u001b[38;5;28;01mreturn\u001b[39;00m {\u001b[38;5;124m\"\u001b[39m\u001b[38;5;124mmodel_name\u001b[39m\u001b[38;5;124m\"\u001b[39m: model\u001b[38;5;241m.\u001b[39m\u001b[38;5;18m__class__\u001b[39m\u001b[38;5;241m.\u001b[39m\u001b[38;5;18m__name__\u001b[39m, \u001b[38;5;66;03m# only works when model was created with a class\u001b[39;00m\n\u001b[1;32m     30\u001b[0m           \u001b[38;5;124m\"\u001b[39m\u001b[38;5;124mmodel_loss\u001b[39m\u001b[38;5;124m\"\u001b[39m: loss\u001b[38;5;241m.\u001b[39mitem(),\n\u001b[1;32m     31\u001b[0m           \u001b[38;5;124m\"\u001b[39m\u001b[38;5;124mmodel_acc\u001b[39m\u001b[38;5;124m\"\u001b[39m: acc}\n\u001b[1;32m     33\u001b[0m \u001b[38;5;66;03m# Calculate model 0 results on test dataset\u001b[39;00m\n\u001b[0;32m---> 34\u001b[0m model_0_results \u001b[38;5;241m=\u001b[39m eval_model(model\u001b[38;5;241m=\u001b[39m\u001b[43mmodel_0\u001b[49m,\n\u001b[1;32m     35\u001b[0m                              data_loader\u001b[38;5;241m=\u001b[39mtest_dataloader,\n\u001b[1;32m     36\u001b[0m                              loss_fn\u001b[38;5;241m=\u001b[39mloss_fn, \n\u001b[1;32m     37\u001b[0m                              accuracy_fn\u001b[38;5;241m=\u001b[39maccuracy_fn)\n\u001b[1;32m     38\u001b[0m model_0_results\n",
      "\u001b[0;31mNameError\u001b[0m: name 'model_0' is not defined"
     ]
    }
   ],
   "source": [
    "torch.manual_seed(42)\n",
    "\n",
    "\n",
    "# Calculate model 0 results on test dataset\n",
    "model_0_results = eval_model(model=model_0,\n",
    "                             data_loader=test_dataloader,\n",
    "                             loss_fn=loss_fn, \n",
    "                             accuracy_fn=accuracy_fn)\n",
    "model_0_results\n"
   ]
  },
  {
   "cell_type": "code",
   "execution_count": 178,
   "id": "319426ea",
   "metadata": {},
   "outputs": [],
   "source": [
    "\n",
    "def train_step(model: torch.nn.Module,\n",
    "               data_loader: torch.utils.data.DataLoader,\n",
    "               loss_fn: torch.nn.Module,\n",
    "               optimizer: torch.optim.Optimizer,\n",
    "               accuracy_fn,\n",
    "               device: torch.device = device):\n",
    "  \"\"\"Performs a training with model trying to learn on data_loader.\"\"\"\n",
    "  train_loss, train_acc = 0, 0\n",
    "\n",
    "  # Put model into training mode\n",
    "  model.train()\n",
    "\n",
    "  # Add a loop to loop through the training batches\n",
    "  for batch, (X, y) in enumerate(data_loader):\n",
    "    # Put data on target device \n",
    "    X, y = X.to(device), y.to(device)\n",
    "\n",
    "    # 1. Forward pass (outputs the raw logits from the model)\n",
    "    y_logits = model(X)\n",
    "    \n",
    "    # go from logits -> prediction labels\n",
    "    y_probs = torch.softmax(y_logits, dim=1)\n",
    "    y_pred = torch.argmax(y_probs, dim=1)\n",
    "    \n",
    "    # 2. Calculate loss and accuracy (per batch)\n",
    "    loss = loss_fn(y_logits, y)\n",
    "    train_loss += loss # accumulate train loss\n",
    "    train_acc += accuracy_fn(y_true=y, y_pred=y_pred)\n",
    "    \n",
    "    # 3. Optimizer zero grad\n",
    "    optimizer.zero_grad()\n",
    "    \n",
    "    # 4. Loss backward\n",
    "    loss.backward()\n",
    "    \n",
    "    # 5. Optimizer step (update the model's parameters once *per batch*)\n",
    "    optimizer.step()\n",
    "  \n",
    "  # Divide total train loss and acc by length of train dataloader\n",
    "  train_loss /= len(data_loader)\n",
    "  train_acc /= len(data_loader)\n",
    "  print(f\"Train loss: {train_loss:.5f} | Train acc: {train_acc:.2f}%\")"
   ]
  },
  {
   "cell_type": "code",
   "execution_count": 179,
   "id": "19ffaad6",
   "metadata": {},
   "outputs": [],
   "source": [
    "def test_step(model: torch.nn.Module,\n",
    "              data_loader: torch.utils.data.DataLoader, \n",
    "              loss_fn: torch.nn.Module,\n",
    "              accuracy_fn,\n",
    "              device: torch.device = device):\n",
    "  \"\"\"Performs a testing loop step on model going over data_loader.\"\"\"\n",
    "  test_loss, test_acc = 0, 0\n",
    "  \n",
    "  # Put the model in eval mode\n",
    "  model.eval()\n",
    "\n",
    "  # Turn on inference mode context manager\n",
    "  with torch.inference_mode():\n",
    "    for X, y in data_loader:\n",
    "      # Send the data to the target device\n",
    "      X, y = X.to(device), y.to(device)\n",
    "\n",
    "      # 1. Forward pass (outputs raw logits)\n",
    "      test_logits = model(X)\n",
    "        \n",
    "      # go from logits -> prediction labels \n",
    "      test_probs = torch.softmax(test_logits, dim=1)\n",
    "      y_pred = test_probs.argmax(dim=1)\n",
    "    \n",
    "\n",
    "      # 2. Calculuate the loss/acc\n",
    "      test_loss += loss_fn(test_logits, y)\n",
    "      test_acc += accuracy_fn(y_true=y, y_pred=y_pred) \n",
    "\n",
    "    # Adjust metrics and print out\n",
    "    test_loss /= len(data_loader)\n",
    "    test_acc /= len(data_loader)\n",
    "    print(f\"Test loss: {test_loss:.5f} | Test acc: {test_acc:.2f}%\\n\")"
   ]
  },
  {
   "cell_type": "code",
   "execution_count": 180,
   "id": "d194317e",
   "metadata": {},
   "outputs": [
    {
     "name": "stdout",
     "output_type": "stream",
     "text": [
      "Epoch: 0\n",
      "----------\n",
      "Train loss: 0.41360 | Train acc: 85.37%\n",
      "Test loss: 0.47006 | Test acc: 83.57%\n",
      "\n",
      "Epoch: 1\n",
      "----------\n",
      "Train loss: 0.41043 | Train acc: 85.58%\n",
      "Test loss: 0.49086 | Test acc: 82.92%\n",
      "\n",
      "Epoch: 2\n",
      "----------\n",
      "Train loss: 0.41056 | Train acc: 85.58%\n",
      "Test loss: 0.52794 | Test acc: 82.51%\n",
      "\n",
      "Train time on cpu: 7.300 seconds\n"
     ]
    }
   ],
   "source": [
    "torch.manual_seed(42)\n",
    "\n",
    "# Measure time\n",
    "from timeit import default_timer as timer\n",
    "train_time_start_on_gpu = timer()\n",
    "\n",
    "# Set epochs\n",
    "epochs = 3\n",
    "\n",
    "# Create a optimization and evaluation loop using train_step() and test_step()\n",
    "for epoch in range(epochs): # for epoch in tqdm(range(epochs)):\n",
    "  print(f\"Epoch: {epoch}\\n----------\")\n",
    "  train_step(model=model_0,\n",
    "             data_loader=train_dataloader,\n",
    "             loss_fn=loss_fn,\n",
    "             optimizer=optimizer,\n",
    "             accuracy_fn=accuracy_fn,\n",
    "             device=device)\n",
    "    \n",
    "  test_step(model=model_0,\n",
    "            data_loader=test_dataloader,\n",
    "            loss_fn=loss_fn,\n",
    "            accuracy_fn=accuracy_fn,\n",
    "            device=device)\n",
    "\n",
    "train_time_end_on_gpu = timer()\n",
    "total_train_time_model_0 = print_train_time(start=train_time_start_on_gpu,\n",
    "                                            end=train_time_end_on_gpu,\n",
    "                                            device=device)"
   ]
  },
  {
   "cell_type": "markdown",
   "id": "64e4679c",
   "metadata": {},
   "source": [
    "# Convolutional Neural Networks (CNN)"
   ]
  },
  {
   "cell_type": "code",
   "execution_count": 206,
   "id": "af9031fe",
   "metadata": {},
   "outputs": [],
   "source": []
  },
  {
   "cell_type": "code",
   "execution_count": 207,
   "id": "8b3368ed",
   "metadata": {},
   "outputs": [],
   "source": []
  },
  {
   "cell_type": "code",
   "execution_count": null,
   "id": "96373a26",
   "metadata": {},
   "outputs": [],
   "source": []
  },
  {
   "cell_type": "markdown",
   "id": "70257f97",
   "metadata": {},
   "source": [
    " ###  Stepping through nn.Conv2d()"
   ]
  },
  {
   "cell_type": "code",
   "execution_count": 213,
   "id": "dc712e2b",
   "metadata": {},
   "outputs": [
    {
     "name": "stdout",
     "output_type": "stream",
     "text": [
      "Image batch shape: torch.Size([32, 3, 64, 64])\n",
      "Single image shape: torch.Size([3, 64, 64])\n"
     ]
    }
   ],
   "source": [
    "torch.manual_seed(42)\n",
    "\n",
    "# Create a batch of images\n",
    "images = torch.randn(size=(32, 3, 64, 64)) # 3 channels \n",
    "test_image = images[0] \n",
    "\n",
    "\n",
    "print(f\"Image batch shape: {images.shape}\")\n",
    "print(f\"Single image shape: {test_image.shape}\")"
   ]
  },
  {
   "cell_type": "code",
   "execution_count": 215,
   "id": "d06bd6df",
   "metadata": {},
   "outputs": [
    {
     "data": {
      "text/plain": [
       "torch.Size([32, 10, 62, 62])"
      ]
     },
     "execution_count": 215,
     "metadata": {},
     "output_type": "execute_result"
    }
   ],
   "source": [
    "torch.manual_seed(42)\n",
    "\n",
    "# Create a sinlge conv2d layer\n",
    "conv_layer = nn.Conv2d(\n",
    "    in_channels=3,\n",
    "    out_channels=10, # use/apply 10 kernels/filters\n",
    "    kernel_size=(3, 3),\n",
    "    stride=1,\n",
    "    padding=0\n",
    ")\n",
    "\n",
    "# Output shape -> floor([n + 2p - f / s] + 1)\n",
    "# shape = (64 + 0 - 3) / 1 + 1 = 62 \n",
    "\n",
    "conv_output = conv_layer(images)\n",
    "conv_output.shape"
   ]
  },
  {
   "cell_type": "markdown",
   "id": "f76dc2c2",
   "metadata": {},
   "source": [
    "### Stepping through nn.MaxPool2d()"
   ]
  },
  {
   "cell_type": "code",
   "execution_count": 216,
   "id": "0b7351c4",
   "metadata": {},
   "outputs": [
    {
     "name": "stdout",
     "output_type": "stream",
     "text": [
      "Shape after going through conv_layer(): torch.Size([32, 10, 62, 62])\n",
      "Shape after going through conv_layer() and max_pool_layer(): torch.Size([32, 10, 31, 31])\n"
     ]
    }
   ],
   "source": [
    "# Create a sample nn.MaxPool2d layer\n",
    "max_pool_layer = nn.MaxPool2d(kernel_size=2)\n",
    "\n",
    "# Pass data through just the conv_layer\n",
    "test_image_through_conv = conv_layer(images)\n",
    "print(f\"Shape after going through conv_layer(): {test_image_through_conv.shape}\")\n",
    "\n",
    "# Pass data through the max pool layer\n",
    "test_image_through_conv_and_max_pool = max_pool_layer(test_image_through_conv)\n",
    "print(f\"Shape after going through conv_layer() and max_pool_layer(): {test_image_through_conv_and_max_pool.shape}\")\n",
    "     "
   ]
  },
  {
   "cell_type": "code",
   "execution_count": 225,
   "id": "6a3dfa02",
   "metadata": {},
   "outputs": [],
   "source": [
    "import math\n",
    "\n",
    "def calculate_conv_output_size(n, f, p=0, s=1):\n",
    "    \"\"\"\n",
    "    Calculates the output size given input size (n), filter size (f), padding size (p) and stride (s).\n",
    "    \"\"\"\n",
    "    return math.floor(((n - f + 2 * p) / s) + 1)"
   ]
  },
  {
   "cell_type": "code",
   "execution_count": 7,
   "id": "cf996727",
   "metadata": {},
   "outputs": [],
   "source": [
    "class FashionMNISTModel2(nn.Module):\n",
    "    \n",
    "    def __init__(self, input_channels, output_channels, output_shape):\n",
    "        super().__init__()\n",
    "        \n",
    "        self.conv_block_1 = nn.Sequential(\n",
    "           nn.Conv2d(\n",
    "               in_channels=input_channels, \n",
    "               out_channels=output_channels,\n",
    "               kernel_size=(3, 3),\n",
    "               stride=1,\n",
    "               padding=0),\n",
    "            nn.ReLU(),\n",
    "            nn.Conv2d(\n",
    "                in_channels=output_channels,\n",
    "                out_channels=output_channels,\n",
    "                kernel_size=(3, 3),\n",
    "                stride=1,\n",
    "                padding=0\n",
    "            ),\n",
    "            nn.ReLU(),\n",
    "            nn.MaxPool2d(kernel_size=2)\n",
    "        )\n",
    "        \n",
    "        \n",
    "        self.conv_block_2 = nn.Sequential(\n",
    "           nn.Conv2d(\n",
    "               in_channels=output_channels, \n",
    "               out_channels=output_channels,\n",
    "               kernel_size=(3, 3),\n",
    "               stride=1,\n",
    "               padding=0),\n",
    "            nn.ReLU(),\n",
    "            nn.Conv2d(\n",
    "                in_channels=output_channels,\n",
    "                out_channels=output_channels,\n",
    "                kernel_size=(3, 3),\n",
    "                stride=1,\n",
    "                padding=0\n",
    "            ),\n",
    "            nn.ReLU(),\n",
    "            nn.MaxPool2d(kernel_size=2)\n",
    "        )\n",
    "        \n",
    "        self.linear = nn.Sequential(\n",
    "           nn.Flatten(),\n",
    "           nn.Linear(\n",
    "              in_features = 160 ,\n",
    "              out_features = output_shape\n",
    "           )\n",
    "        )\n",
    "        \n",
    "        \n",
    "    \n",
    "    def forward(self, x):\n",
    "        z = self.conv_block_1(x)\n",
    "        z = self.conv_block_2(z)\n",
    "        # print(z.shape)\n",
    "        z = self.linear(z)\n",
    "        # l = nn.Flatten()\n",
    "        # return l(z)\n",
    "        return z"
   ]
  },
  {
   "cell_type": "code",
   "execution_count": 10,
   "id": "9e85ca08",
   "metadata": {},
   "outputs": [],
   "source": [
    "torch.manual_seed(42)\n",
    "model_1 = FashionMNISTModel2(input_channels=1, # rgb channels (only one for black and white images)\n",
    "                             output_channels=10,\n",
    "                             output_shape=len(class_names) # number of classes in the dataset\n",
    "                            ).to(device)\n"
   ]
  },
  {
   "cell_type": "code",
   "execution_count": 11,
   "id": "692361ba",
   "metadata": {},
   "outputs": [
    {
     "data": {
      "text/plain": [
       "(torch.Size([32, 1, 28, 28]), torch.Size([32]))"
      ]
     },
     "execution_count": 11,
     "metadata": {},
     "output_type": "execute_result"
    }
   ],
   "source": [
    "train_features_batch1, train_labels_batch1 = next(iter(train_dataloader))\n",
    "\n",
    "train_features_batch1.shape, train_labels_batch1.shape"
   ]
  },
  {
   "cell_type": "code",
   "execution_count": 12,
   "id": "0d70cc29",
   "metadata": {
    "scrolled": true
   },
   "outputs": [
    {
     "data": {
      "text/plain": [
       "torch.Size([32, 10])"
      ]
     },
     "execution_count": 12,
     "metadata": {},
     "output_type": "execute_result"
    }
   ],
   "source": [
    "model_1(train_features_batch1).shape"
   ]
  },
  {
   "cell_type": "code",
   "execution_count": 14,
   "id": "9f208a93",
   "metadata": {},
   "outputs": [
    {
     "name": "stdout",
     "output_type": "stream",
     "text": [
      "y_pred_logits.shape:  torch.Size([32, 10])\n",
      "first_batch_y.shape:  torch.Size([32])\n",
      "torch.Size([32, 10])\n",
      "tensor([[1.0000],\n",
      "        [1.0000],\n",
      "        [1.0000],\n",
      "        [1.0000],\n",
      "        [1.0000],\n",
      "        [1.0000],\n",
      "        [1.0000],\n",
      "        [1.0000],\n",
      "        [1.0000],\n",
      "        [1.0000]], grad_fn=<SliceBackward0>)\n",
      "tensor([[8],\n",
      "        [8],\n",
      "        [8],\n",
      "        [9],\n",
      "        [9],\n",
      "        [9],\n",
      "        [8],\n",
      "        [8],\n",
      "        [9],\n",
      "        [8]])\n",
      "y_pred_labels.shape:  torch.Size([32])\n",
      "Predctions:\n",
      "tensor([8, 8, 8, 9, 9, 9, 8, 8, 9, 8])\n",
      "Targets:\n",
      "tensor([0, 5, 5, 5, 4, 3, 0, 4, 6, 5])\n"
     ]
    }
   ],
   "source": [
    "y_pred_logits = model_1(train_features_batch1)\n",
    "\n",
    "print(\"y_pred_logits.shape: \", y_pred_logits.shape)\n",
    "print(\"first_batch_y.shape: \", train_labels_batch1.shape)\n",
    "\n",
    "\n",
    "# Convert model's logit outputs to prediction probabilities\n",
    "y_pred_probs = torch.softmax(y_pred_logits, dim=1)\n",
    "print(y_pred_probs.shape)\n",
    "\n",
    "print(y_pred_probs.sum(dim=1, keepdims=True)[0:10])\n",
    "\n",
    "# Find the index where probability is max\n",
    "print(torch.argmax(y_pred_probs, dim=1, keepdims=True)[0:10])\n",
    "\n",
    "# Convert our model's prediction probabilities to prediction labels\n",
    "y_pred_labels = torch.argmax(y_pred_probs, dim=1)\n",
    "\n",
    "print(\"y_pred_labels.shape: \", y_pred_labels.shape)\n",
    "\n",
    "print(\"Predctions:\")\n",
    "print(y_pred_labels[0:10])\n",
    "\n",
    "print(\"Targets:\")\n",
    "print(train_labels_batch1[0:10])"
   ]
  },
  {
   "cell_type": "code",
   "execution_count": 15,
   "id": "169c8df5",
   "metadata": {},
   "outputs": [],
   "source": [
    "loss_fn = nn.CrossEntropyLoss()\n",
    "optimizer = torch.optim.SGD(params=model_1.parameters(),\n",
    "                            lr=0.1)"
   ]
  },
  {
   "cell_type": "code",
   "execution_count": 21,
   "id": "6abd08b1",
   "metadata": {},
   "outputs": [
    {
     "name": "stdout",
     "output_type": "stream",
     "text": [
      "Epoch: 0\n",
      "------\n",
      "Looked at 0/60000 samples.\n",
      "Looked at 12800/60000 samples.\n",
      "Looked at 25600/60000 samples.\n",
      "Looked at 38400/60000 samples.\n",
      "Looked at 51200/60000 samples.\n",
      "\n",
      "Train loss: 0.3248 | Test loss: 0.3586, Train acc: 10.1500, Test acc: 87.3802\n",
      "Epoch: 1\n",
      "------\n",
      "Looked at 0/60000 samples.\n",
      "Looked at 12800/60000 samples.\n",
      "Looked at 25600/60000 samples.\n",
      "Looked at 38400/60000 samples.\n",
      "Looked at 51200/60000 samples.\n",
      "\n",
      "Train loss: 0.3176 | Test loss: 0.3583, Train acc: 10.0100, Test acc: 86.9409\n",
      "Epoch: 2\n",
      "------\n",
      "Looked at 0/60000 samples.\n",
      "Looked at 12800/60000 samples.\n",
      "Looked at 25600/60000 samples.\n",
      "Looked at 38400/60000 samples.\n",
      "Looked at 51200/60000 samples.\n",
      "\n",
      "Train loss: 0.3104 | Test loss: 0.3331, Train acc: 9.9583, Test acc: 87.9593\n",
      "Train time on cpu: 108.450 seconds\n"
     ]
    }
   ],
   "source": [
    "torch.manual_seed(42)\n",
    "torch.cuda.manual_seed(42)\n",
    "\n",
    "# Measure time\n",
    "train_time_start_model_1 = timer()\n",
    "\n",
    "# Train and test model\n",
    "epochs = 3\n",
    "\n",
    "for epoch in range(epochs):\n",
    "    print(f\"Epoch: {epoch}\\n------\")\n",
    "    \n",
    "    ### Training\n",
    "    train_loss = 0 # Total loss for one epoch\n",
    "    train_acc = 0  # Total acc for one epoch\n",
    "    \n",
    "    for batch, (X, y) in enumerate(train_dataloader):\n",
    "        \n",
    "        model_1.train()\n",
    "        \n",
    "        # Forward pass\n",
    "        # X is a tensor of 32 images i,e \n",
    "        # X -> 32 x 1 x 28 x 28\n",
    "        y_pred_logits = model_1.forward(X) # shape = torch.Size([32, 10])\n",
    "        \n",
    "        #  Calculate loss (per batch)\n",
    "        loss = loss_fn(y_pred_logits, y) # loss per batch\n",
    "        train_loss += loss # accumulate train loss\n",
    "        \n",
    "        y_pred_prob = torch.softmax(y_pred_logits, dim=1)\n",
    "        y_pred_labels = torch.argmax(y_pred_probs, dim=1) # shape -> torch.Size([32])\n",
    "        \n",
    "        # Accuracy\n",
    "        acc = accuracy_fn(y_true=y, y_pred=y_pred_labels)\n",
    "        train_acc += acc\n",
    "        \n",
    "        # Zero grad\n",
    "        optimizer.zero_grad()\n",
    "        \n",
    "        # Backward Propagation\n",
    "        loss.backward()\n",
    "        \n",
    "        # Gradient Descent\n",
    "        optimizer.step()\n",
    "        \n",
    "        # Print out what's happening\n",
    "        # len(train_dataloader) -> number of batches\n",
    "        # len(train_dataloader.dataset) -> total number of training exampels across all batches\n",
    "        if batch % 400 == 0:\n",
    "            print(f\"Looked at {batch * len(X)}/{len(train_dataloader.dataset)} samples.\")\n",
    "       \n",
    "    # Divide total train loss by length of train dataloader\n",
    "    # to calculate train loss average per batch\n",
    "    # length of train dataloader = number of batches\n",
    "    train_loss = train_loss / len(train_dataloader)\n",
    "    \n",
    "    train_acc /= len(train_dataloader)\n",
    "    \n",
    "    # Testing\n",
    "    model_1.eval()\n",
    "        \n",
    "    test_loss, test_acc = 0, 0\n",
    "        \n",
    "    with torch.inference_mode():\n",
    "            \n",
    "        for X_test, y_test in test_dataloader:\n",
    "                \n",
    "            # Forward pass\n",
    "            y_test_logits = model_1(X_test)\n",
    "                \n",
    "            # Test Loss for each batch\n",
    "            test_batch_loss = loss_fn(y_test_logits, y_test)\n",
    "            test_loss += test_batch_loss\n",
    "                \n",
    "            y_test_probs = torch.softmax(y_test_logits, dim=1)\n",
    "            y_test_labels = torch.argmax(y_test_probs, dim=1) # shape -> torch.Size([32])\n",
    "                \n",
    "            # Calculate accuracy\n",
    "            acc = accuracy_fn(y_true=y_test, y_pred=y_test_labels)\n",
    "            test_acc += acc\n",
    "            \n",
    "        test_loss = test_loss / len(test_dataloader)\n",
    "        \n",
    "        test_acc = test_acc / len(test_dataloader)\n",
    "        \n",
    "    # Print out what's happening after end of each epoch\n",
    "    # This is the end of each epcoh of out training loop.\n",
    "    print(f\"\\nTrain loss: {train_loss:.4f} | Test loss: {test_loss:.4f}, Train acc: {train_acc:.4f}, Test acc: {test_acc:.4f}\")\n",
    "        \n",
    "                \n",
    "# Calculate training time\n",
    "train_time_end_model_1 = timer()\n",
    "total_train_time_model_1 = print_train_time(start=train_time_start_model_1,\n",
    "                                            end=train_time_end_model_1,\n",
    "                                            device=str(next(model_1.parameters()).device))"
   ]
  },
  {
   "cell_type": "code",
   "execution_count": 26,
   "id": "c8b6cf0d",
   "metadata": {},
   "outputs": [
    {
     "data": {
      "text/plain": [
       "{'model_name': 'FashionMNISTModel2',\n",
       " 'model_loss': 0.33239251375198364,\n",
       " 'model_acc': 87.97923322683707}"
      ]
     },
     "execution_count": 26,
     "metadata": {},
     "output_type": "execute_result"
    }
   ],
   "source": [
    "# Get model_2 results\n",
    "model_1_results = eval_model(\n",
    "     model=model_1,\n",
    "     data_loader=test_dataloader,\n",
    "     loss_fn=loss_fn,\n",
    "     accuracy_fn=accuracy_fn,\n",
    ")\n",
    "\n",
    "model_1_results\n"
   ]
  },
  {
   "cell_type": "code",
   "execution_count": 55,
   "id": "eb5a98d9",
   "metadata": {},
   "outputs": [],
   "source": [
    "\n",
    "def make_predictions(model: torch.nn.Module, data: list, device: torch.device = device):\n",
    "    pred_labels = []\n",
    "    model.to(device)\n",
    "    \n",
    "    with torch.inference_mode():\n",
    "        \n",
    "        for sample in data:\n",
    "            # Prepare the sample (add a batch dimension and pass to target device)\n",
    "            sample = torch.unsqueeze(sample, dim=0).to(device)\n",
    "            \n",
    "            # Forward pass (model outputs raw logits)\n",
    "            pred_logit = model(sample)\n",
    "            \n",
    "            # Get prediction probability (logit -> prediction probability)\n",
    "            pred_prob = torch.softmax(pred_logit.squeeze(), dim=0)\n",
    "            \n",
    "            # Get prediction label (prediction probability -> prediction label)\n",
    "            pred_label = torch.argmax(pred_prob)\n",
    "            \n",
    "            pred_labels.append(pred_label.item())\n",
    "            \n",
    "            \n",
    "    return pred_labels\n"
   ]
  },
  {
   "cell_type": "code",
   "execution_count": 30,
   "id": "2a162622",
   "metadata": {},
   "outputs": [
    {
     "data": {
      "text/plain": [
       "[2, 3]"
      ]
     },
     "execution_count": 30,
     "metadata": {},
     "output_type": "execute_result"
    }
   ],
   "source": [
    "import random\n",
    "random.sample([1, 2, 3, 4, 5], k=2)"
   ]
  },
  {
   "cell_type": "code",
   "execution_count": 33,
   "id": "7704d380",
   "metadata": {},
   "outputs": [
    {
     "data": {
      "text/plain": [
       "10000"
      ]
     },
     "execution_count": 33,
     "metadata": {},
     "output_type": "execute_result"
    }
   ],
   "source": [
    "len(list(test_data))"
   ]
  },
  {
   "cell_type": "code",
   "execution_count": 46,
   "id": "f3f0ced5",
   "metadata": {},
   "outputs": [
    {
     "data": {
      "text/plain": [
       "torch.Size([1, 28, 28])"
      ]
     },
     "execution_count": 46,
     "metadata": {},
     "output_type": "execute_result"
    }
   ],
   "source": [
    "import random\n",
    "# random.seed(42)\n",
    "test_samples = [] \n",
    "test_labels = []\n",
    "# Randomly select 9 images from the test data\n",
    "for image, label in random.sample(list(test_data), k=9):\n",
    "  test_samples.append(image)\n",
    "  test_labels.append(label)\n",
    "\n",
    "# View the first sample shape\n",
    "test_samples[0].shape"
   ]
  },
  {
   "cell_type": "code",
   "execution_count": 47,
   "id": "f20c6f89",
   "metadata": {},
   "outputs": [
    {
     "data": {
      "text/plain": [
       "Text(0.5, 1.0, 'Dress')"
      ]
     },
     "execution_count": 47,
     "metadata": {},
     "output_type": "execute_result"
    },
    {
     "data": {
      "image/png": "[encoded data removed]",
      "text/plain": [
       "<Figure size 640x480 with 1 Axes>"
      ]
     },
     "metadata": {},
     "output_type": "display_data"
    }
   ],
   "source": [
    "plt.imshow(test_samples[0].squeeze(), cmap=\"gray\")\n",
    "plt.title(class_names[test_labels[0]])"
   ]
  },
  {
   "cell_type": "code",
   "execution_count": 56,
   "id": "4562378e",
   "metadata": {
    "scrolled": true
   },
   "outputs": [
    {
     "name": "stdout",
     "output_type": "stream",
     "text": [
      "Predicted Labels:  [3, 5, 7, 7, 0, 3, 2, 3, 4]\n",
      "Target Labels:  [3, 5, 5, 7, 0, 3, 2, 3, 4]\n"
     ]
    }
   ],
   "source": [
    "# Make predictions\n",
    "pred_classes = make_predictions(model=model_1,\n",
    "                              data=test_samples)\n",
    "\n",
    "# View prediction probabilities\n",
    "print(\"Predicted Labels: \", pred_classes)\n",
    "print(\"Target Labels: \", test_labels)"
   ]
  },
  {
   "cell_type": "code",
   "execution_count": 74,
   "id": "d915bd78",
   "metadata": {},
   "outputs": [
    {
     "data": {
      "image/png": "[encoded data removed]",
      "text/plain": [
       "<Figure size 900x900 with 9 Axes>"
      ]
     },
     "metadata": {},
     "output_type": "display_data"
    }
   ],
   "source": [
    "# Plot predictions\n",
    "plt.figure(figsize=(9, 9))\n",
    "nrows = 3\n",
    "ncols = 3\n",
    "for i, sample in enumerate(test_samples):\n",
    "  # Create subplot\n",
    "  plt.subplot(nrows, ncols, i+1)\n",
    "\n",
    "  # Plot the target image\n",
    "  plt.imshow(sample.squeeze(), cmap=\"gray\")\n",
    "\n",
    "  # Find the prediction (in text form, e.g \"Sandal\")\n",
    "  pred_label = class_names[pred_classes[i]]\n",
    "\n",
    "  # Get the truth label (in text form) \n",
    "  truth_label = class_names[test_labels[i]]\n",
    "\n",
    "  # Create a title for the plot\n",
    "  title_text = f\"Pred: {pred_label} | Truth: {truth_label}\"\n",
    "\n",
    "  # Check for equality between pred and truth and change color of title text\n",
    "  if pred_label == truth_label:\n",
    "    plt.title(title_text, fontsize=10, c=\"g\") # green text if prediction same as truth\n",
    "  else:\n",
    "    plt.title(title_text, fontsize=10, c=\"r\") \n",
    "  \n",
    "  plt.axis(False);"
   ]
  },
  {
   "cell_type": "markdown",
   "id": "039f8bef",
   "metadata": {},
   "source": [
    "### Confusion Matrix"
   ]
  },
  {
   "cell_type": "code",
   "execution_count": 83,
   "id": "a634ec69",
   "metadata": {},
   "outputs": [
    {
     "data": {
      "text/plain": [
       "(tensor([9, 2, 1,  ..., 8, 1, 8]), 10000)"
      ]
     },
     "execution_count": 83,
     "metadata": {},
     "output_type": "execute_result"
    }
   ],
   "source": [
    "# 1. Make predictions with trained model\n",
    "y_preds = []\n",
    "model_1.eval()\n",
    "with torch.inference_mode():\n",
    "  for X, y in test_dataloader:\n",
    "    # Send the data and targets to target device\n",
    "    X, y = X.to(device), y.to(device)\n",
    "    \n",
    "    # Do the forward pass\n",
    "    y_logit = model_1(X)\n",
    "    \n",
    "    # Turn predictions from logits -> prediction probabilities -> prediction labels\n",
    "    y_pred = torch.softmax(y_logit, dim=1).argmax(dim=1)\n",
    "    \n",
    "    # Put prediction on CPU for evaluation\n",
    "    y_preds.append(y_pred.cpu())\n",
    "\n",
    "# Concatenate list of prediction tensors into a tensor\n",
    "# print(y_preds)\n",
    "y_pred_tensor = torch.cat(y_preds)\n",
    "y_pred_tensor, len(y_pred_tensor)"
   ]
  },
  {
   "cell_type": "code",
   "execution_count": 64,
   "id": "dfe86b89",
   "metadata": {},
   "outputs": [
    {
     "name": "stdout",
     "output_type": "stream",
     "text": [
      "mlxtend version: 0.23.1\n",
      "Requirement already satisfied: torchmetrics in /Users/saalikmubeen/Dev/Machine Learning/personal-learning/venv/lib/python3.11/site-packages (1.3.2)\n",
      "Requirement already satisfied: mlxtend in /Users/saalikmubeen/Dev/Machine Learning/personal-learning/venv/lib/python3.11/site-packages (0.23.1)\n",
      "Requirement already satisfied: numpy>1.20.0 in /Users/saalikmubeen/Dev/Machine Learning/personal-learning/venv/lib/python3.11/site-packages (from torchmetrics) (1.26.3)\n",
      "Requirement already satisfied: packaging>17.1 in /Users/saalikmubeen/Dev/Machine Learning/personal-learning/venv/lib/python3.11/site-packages (from torchmetrics) (23.2)\n",
      "Requirement already satisfied: torch>=1.10.0 in /Users/saalikmubeen/Dev/Machine Learning/personal-learning/venv/lib/python3.11/site-packages (from torchmetrics) (2.1.2)\n",
      "Requirement already satisfied: lightning-utilities>=0.8.0 in /Users/saalikmubeen/Dev/Machine Learning/personal-learning/venv/lib/python3.11/site-packages (from torchmetrics) (0.11.0)\n",
      "Requirement already satisfied: scipy>=1.2.1 in /Users/saalikmubeen/Dev/Machine Learning/personal-learning/venv/lib/python3.11/site-packages (from mlxtend) (1.12.0)\n",
      "Requirement already satisfied: pandas>=0.24.2 in /Users/saalikmubeen/Dev/Machine Learning/personal-learning/venv/lib/python3.11/site-packages (from mlxtend) (2.1.4)\n",
      "Requirement already satisfied: scikit-learn>=1.0.2 in /Users/saalikmubeen/Dev/Machine Learning/personal-learning/venv/lib/python3.11/site-packages (from mlxtend) (1.4.0)\n",
      "Requirement already satisfied: matplotlib>=3.0.0 in /Users/saalikmubeen/Dev/Machine Learning/personal-learning/venv/lib/python3.11/site-packages (from mlxtend) (3.8.2)\n",
      "Requirement already satisfied: joblib>=0.13.2 in /Users/saalikmubeen/Dev/Machine Learning/personal-learning/venv/lib/python3.11/site-packages (from mlxtend) (1.3.2)\n",
      "Requirement already satisfied: setuptools in /Users/saalikmubeen/Dev/Machine Learning/personal-learning/venv/lib/python3.11/site-packages (from lightning-utilities>=0.8.0->torchmetrics) (68.1.2)\n",
      "Requirement already satisfied: typing-extensions in /Users/saalikmubeen/Dev/Machine Learning/personal-learning/venv/lib/python3.11/site-packages (from lightning-utilities>=0.8.0->torchmetrics) (4.10.0)\n",
      "Requirement already satisfied: contourpy>=1.0.1 in /Users/saalikmubeen/Dev/Machine Learning/personal-learning/venv/lib/python3.11/site-packages (from matplotlib>=3.0.0->mlxtend) (1.2.0)\n",
      "Requirement already satisfied: cycler>=0.10 in /Users/saalikmubeen/Dev/Machine Learning/personal-learning/venv/lib/python3.11/site-packages (from matplotlib>=3.0.0->mlxtend) (0.12.1)\n",
      "Requirement already satisfied: fonttools>=4.22.0 in /Users/saalikmubeen/Dev/Machine Learning/personal-learning/venv/lib/python3.11/site-packages (from matplotlib>=3.0.0->mlxtend) (4.47.2)\n",
      "Requirement already satisfied: kiwisolver>=1.3.1 in /Users/saalikmubeen/Dev/Machine Learning/personal-learning/venv/lib/python3.11/site-packages (from matplotlib>=3.0.0->mlxtend) (1.4.5)\n",
      "Requirement already satisfied: pillow>=8 in /Users/saalikmubeen/Dev/Machine Learning/personal-learning/venv/lib/python3.11/site-packages (from matplotlib>=3.0.0->mlxtend) (10.2.0)\n",
      "Requirement already satisfied: pyparsing>=2.3.1 in /Users/saalikmubeen/Dev/Machine Learning/personal-learning/venv/lib/python3.11/site-packages (from matplotlib>=3.0.0->mlxtend) (3.1.1)\n",
      "Requirement already satisfied: python-dateutil>=2.7 in /Users/saalikmubeen/Dev/Machine Learning/personal-learning/venv/lib/python3.11/site-packages (from matplotlib>=3.0.0->mlxtend) (2.8.2)\n",
      "Requirement already satisfied: pytz>=2020.1 in /Users/saalikmubeen/Dev/Machine Learning/personal-learning/venv/lib/python3.11/site-packages (from pandas>=0.24.2->mlxtend) (2023.3.post1)\n",
      "Requirement already satisfied: tzdata>=2022.1 in /Users/saalikmubeen/Dev/Machine Learning/personal-learning/venv/lib/python3.11/site-packages (from pandas>=0.24.2->mlxtend) (2023.4)\n",
      "Requirement already satisfied: threadpoolctl>=2.0.0 in /Users/saalikmubeen/Dev/Machine Learning/personal-learning/venv/lib/python3.11/site-packages (from scikit-learn>=1.0.2->mlxtend) (3.1.0)\n",
      "Requirement already satisfied: filelock in /Users/saalikmubeen/Dev/Machine Learning/personal-learning/venv/lib/python3.11/site-packages (from torch>=1.10.0->torchmetrics) (3.13.1)\n",
      "Requirement already satisfied: sympy in /Users/saalikmubeen/Dev/Machine Learning/personal-learning/venv/lib/python3.11/site-packages (from torch>=1.10.0->torchmetrics) (1.12)\n",
      "Requirement already satisfied: networkx in /Users/saalikmubeen/Dev/Machine Learning/personal-learning/venv/lib/python3.11/site-packages (from torch>=1.10.0->torchmetrics) (3.2.1)\n",
      "Requirement already satisfied: jinja2 in /Users/saalikmubeen/Dev/Machine Learning/personal-learning/venv/lib/python3.11/site-packages (from torch>=1.10.0->torchmetrics) (3.1.3)\n",
      "Requirement already satisfied: fsspec in /Users/saalikmubeen/Dev/Machine Learning/personal-learning/venv/lib/python3.11/site-packages (from torch>=1.10.0->torchmetrics) (2023.12.2)\n",
      "Requirement already satisfied: six>=1.5 in /Users/saalikmubeen/Dev/Machine Learning/personal-learning/venv/lib/python3.11/site-packages (from python-dateutil>=2.7->matplotlib>=3.0.0->mlxtend) (1.16.0)\n",
      "Requirement already satisfied: MarkupSafe>=2.0 in /Users/saalikmubeen/Dev/Machine Learning/personal-learning/venv/lib/python3.11/site-packages (from jinja2->torch>=1.10.0->torchmetrics) (2.1.3)\n",
      "Requirement already satisfied: mpmath>=0.19 in /Users/saalikmubeen/Dev/Machine Learning/personal-learning/venv/lib/python3.11/site-packages (from sympy->torch>=1.10.0->torchmetrics) (1.3.0)\n",
      "mlxtend version: 0.23.1\n"
     ]
    }
   ],
   "source": [
    "# See if required packages are installed and if not, install them...\n",
    "try:\n",
    "  import torchmetrics, mlxtend\n",
    "  print(f\"mlxtend version: {mlxtend.__version__}\")\n",
    "  assert int(mlxtend.__version__.split(\".\")[1] >= 19, \"mlxtend version should be 0.19.0 or higher\")\n",
    "except:\n",
    "  !pip install torchmetrics -U mlxtend \n",
    "  import torchmetrics, mlxtend\n",
    "  print(f\"mlxtend version: {mlxtend.__version__}\")"
   ]
  },
  {
   "cell_type": "code",
   "execution_count": 65,
   "id": "674ebf02",
   "metadata": {},
   "outputs": [
    {
     "data": {
      "text/plain": [
       "['T-shirt/top',\n",
       " 'Trouser',\n",
       " 'Pullover',\n",
       " 'Dress',\n",
       " 'Coat',\n",
       " 'Sandal',\n",
       " 'Shirt',\n",
       " 'Sneaker',\n",
       " 'Bag',\n",
       " 'Ankle boot']"
      ]
     },
     "execution_count": 65,
     "metadata": {},
     "output_type": "execute_result"
    }
   ],
   "source": [
    "class_names"
   ]
  },
  {
   "cell_type": "code",
   "execution_count": 84,
   "id": "27b9645d",
   "metadata": {},
   "outputs": [
    {
     "data": {
      "text/plain": [
       "tensor([9, 2, 1, 1, 6, 1, 4, 6, 5, 7])"
      ]
     },
     "execution_count": 84,
     "metadata": {},
     "output_type": "execute_result"
    }
   ],
   "source": [
    "y_pred_tensor[:10]"
   ]
  },
  {
   "cell_type": "code",
   "execution_count": 85,
   "id": "63543b49",
   "metadata": {},
   "outputs": [
    {
     "data": {
      "text/plain": [
       "tensor([9, 2, 1, 1, 6, 1, 4, 6, 5, 7])"
      ]
     },
     "execution_count": 85,
     "metadata": {},
     "output_type": "execute_result"
    }
   ],
   "source": [
    "test_data.targets[:10]"
   ]
  },
  {
   "cell_type": "code",
   "execution_count": 86,
   "id": "55496eb5",
   "metadata": {},
   "outputs": [
    {
     "data": {
      "image/png": "[encoded data removed]",
      "text/plain": [
       "<Figure size 1000x700 with 1 Axes>"
      ]
     },
     "metadata": {},
     "output_type": "display_data"
    }
   ],
   "source": [
    "from torchmetrics import ConfusionMatrix\n",
    "from mlxtend.plotting import plot_confusion_matrix\n",
    "\n",
    "# 2. Setup confusion instance and compare predictions to targets\n",
    "confmat = ConfusionMatrix(num_classes=len(class_names), task='multiclass')\n",
    "confmat_tensor = confmat(preds=y_pred_tensor,\n",
    "                         target=test_data.targets)\n",
    "\n",
    "# 3. Plot the confusion matrix\n",
    "fig, ax = plot_confusion_matrix(\n",
    "    conf_mat=confmat_tensor.numpy(), # matplotlib likes working with numpy\n",
    "    class_names=class_names,\n",
    "    figsize=(10, 7)\n",
    ")"
   ]
  },
  {
   "cell_type": "markdown",
   "id": "cdc024d0",
   "metadata": {},
   "source": [
    "### Save and load the model"
   ]
  },
  {
   "cell_type": "code",
   "execution_count": 76,
   "id": "d79eef94",
   "metadata": {},
   "outputs": [
    {
     "name": "stdout",
     "output_type": "stream",
     "text": [
      "Saving model to: models/pytorch_computer_vision_model.pth\n"
     ]
    }
   ],
   "source": [
    "from pathlib import Path\n",
    "\n",
    "# Create model dictory path\n",
    "MODEL_PATH = Path(\"models\")\n",
    "MODEL_PATH.mkdir(parents=True,\n",
    "                 exist_ok=True)\n",
    "\n",
    "# Create model save\n",
    "MODEL_NAME = \"pytorch_computer_vision_model.pth\"\n",
    "MODEL_SAVE_PATH = MODEL_PATH / MODEL_NAME\n",
    "\n",
    "# Save the model state dict\n",
    "print(f\"Saving model to: {MODEL_SAVE_PATH}\")\n",
    "torch.save(obj=model_1.state_dict(),\n",
    "           f=MODEL_SAVE_PATH)"
   ]
  },
  {
   "cell_type": "code",
   "execution_count": 79,
   "id": "8bfd766a",
   "metadata": {},
   "outputs": [
    {
     "data": {
      "text/plain": [
       "FashionMNISTModel2(\n",
       "  (conv_block_1): Sequential(\n",
       "    (0): Conv2d(1, 10, kernel_size=(3, 3), stride=(1, 1))\n",
       "    (1): ReLU()\n",
       "    (2): Conv2d(10, 10, kernel_size=(3, 3), stride=(1, 1))\n",
       "    (3): ReLU()\n",
       "    (4): MaxPool2d(kernel_size=2, stride=2, padding=0, dilation=1, ceil_mode=False)\n",
       "  )\n",
       "  (conv_block_2): Sequential(\n",
       "    (0): Conv2d(10, 10, kernel_size=(3, 3), stride=(1, 1))\n",
       "    (1): ReLU()\n",
       "    (2): Conv2d(10, 10, kernel_size=(3, 3), stride=(1, 1))\n",
       "    (3): ReLU()\n",
       "    (4): MaxPool2d(kernel_size=2, stride=2, padding=0, dilation=1, ceil_mode=False)\n",
       "  )\n",
       "  (linear): Sequential(\n",
       "    (0): Flatten(start_dim=1, end_dim=-1)\n",
       "    (1): Linear(in_features=160, out_features=10, bias=True)\n",
       "  )\n",
       ")"
      ]
     },
     "execution_count": 79,
     "metadata": {},
     "output_type": "execute_result"
    }
   ],
   "source": [
    "# Create a new instance\n",
    "torch.manual_seed(42)\n",
    "\n",
    "loaded_model = FashionMNISTModel2(input_channels=1,\n",
    "                                     output_channels=10,\n",
    "                                     output_shape=len(class_names))\n",
    "\n",
    "# Load in the save state_dict()\n",
    "loaded_model.load_state_dict(torch.load(f=MODEL_SAVE_PATH))\n",
    "\n",
    "# Send the model to the target device\n",
    "loaded_model.to(device)"
   ]
  },
  {
   "cell_type": "code",
   "execution_count": 80,
   "id": "b9e4d313",
   "metadata": {},
   "outputs": [],
   "source": [
    "# Evaluate loaded model\n",
    "torch.manual_seed(42)\n",
    "\n",
    "loaded_model_results = eval_model(\n",
    "    model=loaded_model,\n",
    "    data_loader=test_dataloader,\n",
    "    loss_fn=loss_fn,\n",
    "    accuracy_fn=accuracy_fn\n",
    ")"
   ]
  },
  {
   "cell_type": "code",
   "execution_count": null,
   "id": "3340ee06",
   "metadata": {},
   "outputs": [],
   "source": []
  }
 ],
 "metadata": {
  "kernelspec": {
   "display_name": "Python 3 (ipykernel)",
   "language": "python",
   "name": "python3"
  },
  "language_info": {
   "codemirror_mode": {
    "name": "ipython",
    "version": 3
   },
   "file_extension": ".py",
   "mimetype": "text/x-python",
   "name": "python",
   "nbconvert_exporter": "python",
   "pygments_lexer": "ipython3",
   "version": "3.11.8"
  }
 },
 "nbformat": 4,
 "nbformat_minor": 5
}
